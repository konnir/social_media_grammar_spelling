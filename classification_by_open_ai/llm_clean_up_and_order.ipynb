{
 "cells": [
  {
   "cell_type": "markdown",
   "metadata": {},
   "source": [
    "# Result from OpenAi are good but messy"
   ]
  },
  {
   "cell_type": "code",
   "execution_count": 1,
   "metadata": {},
   "outputs": [],
   "source": [
    "import pandas as pd\n",
    "import matplotlib.pyplot as plt "
   ]
  },
  {
   "cell_type": "code",
   "execution_count": 2,
   "metadata": {},
   "outputs": [],
   "source": [
    "pd.set_option('display.max_colwidth', 1500)"
   ]
  },
  {
   "cell_type": "code",
   "execution_count": 3,
   "metadata": {},
   "outputs": [
    {
     "data": {
      "text/html": [
       "<div>\n",
       "<style scoped>\n",
       "    .dataframe tbody tr th:only-of-type {\n",
       "        vertical-align: middle;\n",
       "    }\n",
       "\n",
       "    .dataframe tbody tr th {\n",
       "        vertical-align: top;\n",
       "    }\n",
       "\n",
       "    .dataframe thead th {\n",
       "        text-align: right;\n",
       "    }\n",
       "</style>\n",
       "<table border=\"1\" class=\"dataframe\">\n",
       "  <thead>\n",
       "    <tr style=\"text-align: right;\">\n",
       "      <th></th>\n",
       "      <th>index</th>\n",
       "      <th>text</th>\n",
       "      <th>clean_text</th>\n",
       "      <th>classification</th>\n",
       "      <th>error</th>\n",
       "    </tr>\n",
       "  </thead>\n",
       "  <tbody>\n",
       "    <tr>\n",
       "      <th>0</th>\n",
       "      <td>0</td>\n",
       "      <td>@thediscovietnam coo.  thanks. just dropped you a line.</td>\n",
       "      <td>@thediscovietnam coo.  thanks. just dropped you a line.</td>\n",
       "      <td>1</td>\n",
       "      <td>NaN</td>\n",
       "    </tr>\n",
       "    <tr>\n",
       "      <th>1</th>\n",
       "      <td>1</td>\n",
       "      <td>@thediscovietnam shit it ain't lettin me DM you back, what's your email?</td>\n",
       "      <td>@thediscovietnam shit it ain't lettin me DM you back, what's your email?</td>\n",
       "      <td>1</td>\n",
       "      <td>NaN</td>\n",
       "    </tr>\n",
       "    <tr>\n",
       "      <th>2</th>\n",
       "      <td>2</td>\n",
       "      <td>@thediscovietnam hey cody, quick question...can you dm me?</td>\n",
       "      <td>@thediscovietnam hey cody, quick question...can you dm me?</td>\n",
       "      <td>1</td>\n",
       "      <td>NaN</td>\n",
       "    </tr>\n",
       "    <tr>\n",
       "      <th>3</th>\n",
       "      <td>3</td>\n",
       "      <td>@smokinvinyl dang.  you need anything?  I got some left over meds!</td>\n",
       "      <td>@smokinvinyl dang.  you need anything?  I got some left over meds!</td>\n",
       "      <td>0</td>\n",
       "      <td>No\\n\\nThe message contains a missing period at the end of the sentence.</td>\n",
       "    </tr>\n",
       "    <tr>\n",
       "      <th>4</th>\n",
       "      <td>4</td>\n",
       "      <td>maybe i'm late in the game on this one, but this lowender vst is making my apt rumble!</td>\n",
       "      <td>maybe i'm late in the game on this one, but this lowender vst is making my apt rumble!</td>\n",
       "      <td>1</td>\n",
       "      <td>NaN</td>\n",
       "    </tr>\n",
       "    <tr>\n",
       "      <th>...</th>\n",
       "      <td>...</td>\n",
       "      <td>...</td>\n",
       "      <td>...</td>\n",
       "      <td>...</td>\n",
       "      <td>...</td>\n",
       "    </tr>\n",
       "    <tr>\n",
       "      <th>29925</th>\n",
       "      <td>29925</td>\n",
       "      <td>AfricaNews - KENYA: IS GREEN ENERGY POSSIBLE? - Fred Oluoch http://bit.ly/5MxYL3 [blog]</td>\n",
       "      <td>AfricaNews - KENYA: IS GREEN ENERGY POSSIBLE? - Fred Oluoch http://bit.ly/5MxYL3 [blog]</td>\n",
       "      <td>1</td>\n",
       "      <td>NaN</td>\n",
       "    </tr>\n",
       "    <tr>\n",
       "      <th>29926</th>\n",
       "      <td>29926</td>\n",
       "      <td>Green energy news - The Dane with green energy for Europe http://bit.ly/8CwyAg Check this out</td>\n",
       "      <td>Green energy news - The Dane with green energy for Europe http://bit.ly/8CwyAg Check this out</td>\n",
       "      <td>1</td>\n",
       "      <td>NaN</td>\n",
       "    </tr>\n",
       "    <tr>\n",
       "      <th>29927</th>\n",
       "      <td>29927</td>\n",
       "      <td>Green energy update Trudie Styler - http://bit.ly/5k8lso [video]</td>\n",
       "      <td>Green energy update Trudie Styler - http://bit.ly/5k8lso [video]</td>\n",
       "      <td>1</td>\n",
       "      <td>NaN</td>\n",
       "    </tr>\n",
       "    <tr>\n",
       "      <th>29928</th>\n",
       "      <td>29928</td>\n",
       "      <td>ForestExplorers: Dams, bio-fuel plantations cannot be classified ... http://bit.ly/8teKxq [blog]</td>\n",
       "      <td>ForestExplorers: Dams, bio-fuel plantations cannot be classified ... http://bit.ly/8teKxq [blog]</td>\n",
       "      <td>1</td>\n",
       "      <td>NaN</td>\n",
       "    </tr>\n",
       "    <tr>\n",
       "      <th>29929</th>\n",
       "      <td>29929</td>\n",
       "      <td>Green energy news - China&amp;#39;s Green Stimulus: A-Power, First Solar May Get .. http://bit.ly/8gpKo2 Check this out</td>\n",
       "      <td>Green energy news - China's Green Stimulus: A-Power, First Solar May Get .. http://bit.ly/8gpKo2 Check this out</td>\n",
       "      <td>1</td>\n",
       "      <td>NaN</td>\n",
       "    </tr>\n",
       "  </tbody>\n",
       "</table>\n",
       "<p>29930 rows × 5 columns</p>\n",
       "</div>"
      ],
      "text/plain": [
       "       index  \\\n",
       "0          0   \n",
       "1          1   \n",
       "2          2   \n",
       "3          3   \n",
       "4          4   \n",
       "...      ...   \n",
       "29925  29925   \n",
       "29926  29926   \n",
       "29927  29927   \n",
       "29928  29928   \n",
       "29929  29929   \n",
       "\n",
       "                                                                                                                      text  \\\n",
       "0                                                                  @thediscovietnam coo.  thanks. just dropped you a line.   \n",
       "1                                                 @thediscovietnam shit it ain't lettin me DM you back, what's your email?   \n",
       "2                                                               @thediscovietnam hey cody, quick question...can you dm me?   \n",
       "3                                                       @smokinvinyl dang.  you need anything?  I got some left over meds!   \n",
       "4                                   maybe i'm late in the game on this one, but this lowender vst is making my apt rumble!   \n",
       "...                                                                                                                    ...   \n",
       "29925                              AfricaNews - KENYA: IS GREEN ENERGY POSSIBLE? - Fred Oluoch http://bit.ly/5MxYL3 [blog]   \n",
       "29926                        Green energy news - The Dane with green energy for Europe http://bit.ly/8CwyAg Check this out   \n",
       "29927                                                     Green energy update Trudie Styler - http://bit.ly/5k8lso [video]   \n",
       "29928                     ForestExplorers: Dams, bio-fuel plantations cannot be classified ... http://bit.ly/8teKxq [blog]   \n",
       "29929  Green energy news - China&#39;s Green Stimulus: A-Power, First Solar May Get .. http://bit.ly/8gpKo2 Check this out   \n",
       "\n",
       "                                                                                                            clean_text  \\\n",
       "0                                                              @thediscovietnam coo.  thanks. just dropped you a line.   \n",
       "1                                             @thediscovietnam shit it ain't lettin me DM you back, what's your email?   \n",
       "2                                                           @thediscovietnam hey cody, quick question...can you dm me?   \n",
       "3                                                   @smokinvinyl dang.  you need anything?  I got some left over meds!   \n",
       "4                               maybe i'm late in the game on this one, but this lowender vst is making my apt rumble!   \n",
       "...                                                                                                                ...   \n",
       "29925                          AfricaNews - KENYA: IS GREEN ENERGY POSSIBLE? - Fred Oluoch http://bit.ly/5MxYL3 [blog]   \n",
       "29926                    Green energy news - The Dane with green energy for Europe http://bit.ly/8CwyAg Check this out   \n",
       "29927                                                 Green energy update Trudie Styler - http://bit.ly/5k8lso [video]   \n",
       "29928                 ForestExplorers: Dams, bio-fuel plantations cannot be classified ... http://bit.ly/8teKxq [blog]   \n",
       "29929  Green energy news - China's Green Stimulus: A-Power, First Solar May Get .. http://bit.ly/8gpKo2 Check this out   \n",
       "\n",
       "       classification  \\\n",
       "0                   1   \n",
       "1                   1   \n",
       "2                   1   \n",
       "3                   0   \n",
       "4                   1   \n",
       "...               ...   \n",
       "29925               1   \n",
       "29926               1   \n",
       "29927               1   \n",
       "29928               1   \n",
       "29929               1   \n",
       "\n",
       "                                                                         error  \n",
       "0                                                                          NaN  \n",
       "1                                                                          NaN  \n",
       "2                                                                          NaN  \n",
       "3      No\\n\\nThe message contains a missing period at the end of the sentence.  \n",
       "4                                                                          NaN  \n",
       "...                                                                        ...  \n",
       "29925                                                                      NaN  \n",
       "29926                                                                      NaN  \n",
       "29927                                                                      NaN  \n",
       "29928                                                                      NaN  \n",
       "29929                                                                      NaN  \n",
       "\n",
       "[29930 rows x 5 columns]"
      ]
     },
     "execution_count": 3,
     "metadata": {},
     "output_type": "execute_result"
    }
   ],
   "source": [
    "# First, working on the DS after classificaiton by LLM\n",
    "\n",
    "csv_file_path = '../data/raw_train_tweets_classified_open_ai.csv'\n",
    "df = pd.read_csv(csv_file_path)\n",
    "df"
   ]
  },
  {
   "cell_type": "code",
   "execution_count": 4,
   "metadata": {},
   "outputs": [],
   "source": [
    "# Working with html decoded text only\n",
    "df.drop('text', axis=1, inplace=True)"
   ]
  },
  {
   "cell_type": "code",
   "execution_count": 5,
   "metadata": {},
   "outputs": [],
   "source": [
    "# Index is not needed now\n",
    "df.drop('index', axis=1, inplace=True)"
   ]
  },
  {
   "cell_type": "code",
   "execution_count": 6,
   "metadata": {},
   "outputs": [
    {
     "data": {
      "text/plain": [
       "False"
      ]
     },
     "execution_count": 6,
     "metadata": {},
     "output_type": "execute_result"
    }
   ],
   "source": [
    "# classification - checking with some issues there\n",
    "(~df['classification'].isin([0, 1])).any()"
   ]
  },
  {
   "cell_type": "code",
   "execution_count": 7,
   "metadata": {},
   "outputs": [
    {
     "data": {
      "text/html": [
       "<div>\n",
       "<style scoped>\n",
       "    .dataframe tbody tr th:only-of-type {\n",
       "        vertical-align: middle;\n",
       "    }\n",
       "\n",
       "    .dataframe tbody tr th {\n",
       "        vertical-align: top;\n",
       "    }\n",
       "\n",
       "    .dataframe thead th {\n",
       "        text-align: right;\n",
       "    }\n",
       "</style>\n",
       "<table border=\"1\" class=\"dataframe\">\n",
       "  <thead>\n",
       "    <tr style=\"text-align: right;\">\n",
       "      <th></th>\n",
       "      <th>clean_text</th>\n",
       "      <th>classification</th>\n",
       "      <th>error</th>\n",
       "    </tr>\n",
       "  </thead>\n",
       "  <tbody>\n",
       "    <tr>\n",
       "      <th>23777</th>\n",
       "      <td>Quick Review of Some of This Year's Most Talked About NASCAR ... http://bit.ly/7sj6k5</td>\n",
       "      <td>1</td>\n",
       "      <td>NaN</td>\n",
       "    </tr>\n",
       "    <tr>\n",
       "      <th>26328</th>\n",
       "      <td>@ryansievert where'd you run into Dave Eggers?</td>\n",
       "      <td>1</td>\n",
       "      <td>NaN</td>\n",
       "    </tr>\n",
       "    <tr>\n",
       "      <th>18484</th>\n",
       "      <td>RT @World_Wildlife: A Time for Tigers http://bit.ly/Fk5UK</td>\n",
       "      <td>1</td>\n",
       "      <td>NaN</td>\n",
       "    </tr>\n",
       "    <tr>\n",
       "      <th>12952</th>\n",
       "      <td>RT @SalBarrera: Mammogram madness costs major money http://tinyurl.com/ydjansu</td>\n",
       "      <td>1</td>\n",
       "      <td>NaN</td>\n",
       "    </tr>\n",
       "    <tr>\n",
       "      <th>6259</th>\n",
       "      <td>@Reesebo lmao!! yea im ready  come on baby u takin forever!!</td>\n",
       "      <td>0</td>\n",
       "      <td>No\\n\\nErrors:\\n1. \"im\" should be \"I'm\"\\n2. \"takin\" should be \"taking\"</td>\n",
       "    </tr>\n",
       "  </tbody>\n",
       "</table>\n",
       "</div>"
      ],
      "text/plain": [
       "                                                                                  clean_text  \\\n",
       "23777  Quick Review of Some of This Year's Most Talked About NASCAR ... http://bit.ly/7sj6k5   \n",
       "26328                                         @ryansievert where'd you run into Dave Eggers?   \n",
       "18484                              RT @World_Wildlife: A Time for Tigers http://bit.ly/Fk5UK   \n",
       "12952         RT @SalBarrera: Mammogram madness costs major money http://tinyurl.com/ydjansu   \n",
       "6259                            @Reesebo lmao!! yea im ready  come on baby u takin forever!!   \n",
       "\n",
       "       classification  \\\n",
       "23777               1   \n",
       "26328               1   \n",
       "18484               1   \n",
       "12952               1   \n",
       "6259                0   \n",
       "\n",
       "                                                                       error  \n",
       "23777                                                                    NaN  \n",
       "26328                                                                    NaN  \n",
       "18484                                                                    NaN  \n",
       "12952                                                                    NaN  \n",
       "6259   No\\n\\nErrors:\\n1. \"im\" should be \"I'm\"\\n2. \"takin\" should be \"taking\"  "
      ]
     },
     "execution_count": 7,
     "metadata": {},
     "output_type": "execute_result"
    }
   ],
   "source": [
    "# check the df\n",
    "rand_lines = df.sample(5)\n",
    "rand_lines"
   ]
  },
  {
   "cell_type": "code",
   "execution_count": 8,
   "metadata": {},
   "outputs": [
    {
     "data": {
      "text/plain": [
       "23441"
      ]
     },
     "execution_count": 8,
     "metadata": {},
     "output_type": "execute_result"
    }
   ],
   "source": [
    "# check classification = 1\n",
    "count_cells_value_1 = (df['classification'] == 1).sum()\n",
    "count_cells_value_1"
   ]
  },
  {
   "cell_type": "code",
   "execution_count": 9,
   "metadata": {},
   "outputs": [
    {
     "data": {
      "text/plain": [
       "6489"
      ]
     },
     "execution_count": 9,
     "metadata": {},
     "output_type": "execute_result"
    }
   ],
   "source": [
    "# check classification = 0\n",
    "count_cells_value_0 = (df['classification'] == 0).sum()\n",
    "count_cells_value_0"
   ]
  },
  {
   "cell_type": "code",
   "execution_count": 10,
   "metadata": {},
   "outputs": [
    {
     "data": {
      "text/plain": [
       "True"
      ]
     },
     "execution_count": 10,
     "metadata": {},
     "output_type": "execute_result"
    }
   ],
   "source": [
    "# making sure nothing slipped\n",
    "count_cells_value_0 + count_cells_value_1 == len(df)"
   ]
  },
  {
   "cell_type": "code",
   "execution_count": 11,
   "metadata": {},
   "outputs": [
    {
     "data": {
      "text/plain": [
       "608"
      ]
     },
     "execution_count": 11,
     "metadata": {},
     "output_type": "execute_result"
    }
   ],
   "source": [
    "# fix classification - first issue, model say \"yes\" instead of yes\n",
    "filtered_rows_corrected = df[df['error'].str[:10].str.lower().str.contains('yes', na=False)]\n",
    "len(filtered_rows_corrected)"
   ]
  },
  {
   "cell_type": "code",
   "execution_count": 12,
   "metadata": {},
   "outputs": [
    {
     "data": {
      "text/html": [
       "<div>\n",
       "<style scoped>\n",
       "    .dataframe tbody tr th:only-of-type {\n",
       "        vertical-align: middle;\n",
       "    }\n",
       "\n",
       "    .dataframe tbody tr th {\n",
       "        vertical-align: top;\n",
       "    }\n",
       "\n",
       "    .dataframe thead th {\n",
       "        text-align: right;\n",
       "    }\n",
       "</style>\n",
       "<table border=\"1\" class=\"dataframe\">\n",
       "  <thead>\n",
       "    <tr style=\"text-align: right;\">\n",
       "      <th></th>\n",
       "      <th>clean_text</th>\n",
       "      <th>classification</th>\n",
       "      <th>error</th>\n",
       "    </tr>\n",
       "  </thead>\n",
       "  <tbody>\n",
       "    <tr>\n",
       "      <th>12748</th>\n",
       "      <td>@Llen Spinrite</td>\n",
       "      <td>0</td>\n",
       "      <td>\"Yes\"</td>\n",
       "    </tr>\n",
       "    <tr>\n",
       "      <th>18725</th>\n",
       "      <td>@itsjuuhh how's your weekend?</td>\n",
       "      <td>0</td>\n",
       "      <td>\"Yes\"</td>\n",
       "    </tr>\n",
       "    <tr>\n",
       "      <th>17099</th>\n",
       "      <td>@evanthehermit what are you doing??</td>\n",
       "      <td>0</td>\n",
       "      <td>\"Yes\"</td>\n",
       "    </tr>\n",
       "    <tr>\n",
       "      <th>8811</th>\n",
       "      <td>@plancast np</td>\n",
       "      <td>0</td>\n",
       "      <td>\"Yes\"</td>\n",
       "    </tr>\n",
       "    <tr>\n",
       "      <th>3001</th>\n",
       "      <td>@ABCPublicity are you ready for 2010?</td>\n",
       "      <td>0</td>\n",
       "      <td>\"Yes\"</td>\n",
       "    </tr>\n",
       "  </tbody>\n",
       "</table>\n",
       "</div>"
      ],
      "text/plain": [
       "                                  clean_text  classification  error\n",
       "12748                         @Llen Spinrite               0  \"Yes\"\n",
       "18725          @itsjuuhh how's your weekend?               0  \"Yes\"\n",
       "17099    @evanthehermit what are you doing??               0  \"Yes\"\n",
       "8811                            @plancast np               0  \"Yes\"\n",
       "3001   @ABCPublicity are you ready for 2010?               0  \"Yes\""
      ]
     },
     "execution_count": 12,
     "metadata": {},
     "output_type": "execute_result"
    }
   ],
   "source": [
    "filtered_rows_corrected.sample(5)"
   ]
  },
  {
   "cell_type": "code",
   "execution_count": 13,
   "metadata": {},
   "outputs": [],
   "source": [
    "# safe to update thos lines to classificaiton = 1 and delete the error\n",
    "condition = df['error'].str[:10].str.lower().str.contains('yes', na=False)\n",
    "df.loc[condition, 'classification'] = 1\n",
    "df.loc[condition, 'error'] = ''"
   ]
  },
  {
   "cell_type": "code",
   "execution_count": 14,
   "metadata": {},
   "outputs": [
    {
     "data": {
      "text/plain": [
       "206"
      ]
     },
     "execution_count": 14,
     "metadata": {},
     "output_type": "execute_result"
    }
   ],
   "source": [
    "# fix classification - no errors\n",
    "filtered_rows_corrected = df[df['error'].str[:10].str.lower().str.contains('no errors', na=False)]\n",
    "len(filtered_rows_corrected)"
   ]
  },
  {
   "cell_type": "code",
   "execution_count": 15,
   "metadata": {},
   "outputs": [
    {
     "data": {
      "text/html": [
       "<div>\n",
       "<style scoped>\n",
       "    .dataframe tbody tr th:only-of-type {\n",
       "        vertical-align: middle;\n",
       "    }\n",
       "\n",
       "    .dataframe tbody tr th {\n",
       "        vertical-align: top;\n",
       "    }\n",
       "\n",
       "    .dataframe thead th {\n",
       "        text-align: right;\n",
       "    }\n",
       "</style>\n",
       "<table border=\"1\" class=\"dataframe\">\n",
       "  <thead>\n",
       "    <tr style=\"text-align: right;\">\n",
       "      <th></th>\n",
       "      <th>clean_text</th>\n",
       "      <th>classification</th>\n",
       "      <th>error</th>\n",
       "    </tr>\n",
       "  </thead>\n",
       "  <tbody>\n",
       "    <tr>\n",
       "      <th>21196</th>\n",
       "      <td>@kartel1911 -- GOTDAMN!!!!!!! lol. just BOTH...yes just BOTH! hahahahha</td>\n",
       "      <td>0</td>\n",
       "      <td>No errors found.</td>\n",
       "    </tr>\n",
       "    <tr>\n",
       "      <th>22998</th>\n",
       "      <td>Bestselling Guide How To Create  Own Spa Products For Fun &amp; Profit http://bit.ly/14ABxX</td>\n",
       "      <td>0</td>\n",
       "      <td>\"No errors found. The message adheres to standard spelling and grammar rules.\"</td>\n",
       "    </tr>\n",
       "    <tr>\n",
       "      <th>27548</th>\n",
       "      <td>Toxic Flame Retardants PSA:Ocean Future Society is apart of a campaign to ban PBDE toxic flame retardants.http://tiny.cc/I3JWy  Please vote!</td>\n",
       "      <td>0</td>\n",
       "      <td>\"No errors found. The message adheres to standard spelling and grammar rules.\"</td>\n",
       "    </tr>\n",
       "    <tr>\n",
       "      <th>1889</th>\n",
       "      <td>@WFMguy what kind of phone do you have? you can, it's better, or you can just set your phone up on the site, and text to 40404</td>\n",
       "      <td>0</td>\n",
       "      <td>No errors found. \"Yes\"</td>\n",
       "    </tr>\n",
       "    <tr>\n",
       "      <th>19392</th>\n",
       "      <td>@BIGTEEK hey my baby  how u</td>\n",
       "      <td>0</td>\n",
       "      <td>No errors found. \"Yes\"</td>\n",
       "    </tr>\n",
       "  </tbody>\n",
       "</table>\n",
       "</div>"
      ],
      "text/plain": [
       "                                                                                                                                         clean_text  \\\n",
       "21196                                                                       @kartel1911 -- GOTDAMN!!!!!!! lol. just BOTH...yes just BOTH! hahahahha   \n",
       "22998                                                       Bestselling Guide How To Create  Own Spa Products For Fun & Profit http://bit.ly/14ABxX   \n",
       "27548  Toxic Flame Retardants PSA:Ocean Future Society is apart of a campaign to ban PBDE toxic flame retardants.http://tiny.cc/I3JWy  Please vote!   \n",
       "1889                 @WFMguy what kind of phone do you have? you can, it's better, or you can just set your phone up on the site, and text to 40404   \n",
       "19392                                                                                                                   @BIGTEEK hey my baby  how u   \n",
       "\n",
       "       classification  \\\n",
       "21196               0   \n",
       "22998               0   \n",
       "27548               0   \n",
       "1889                0   \n",
       "19392               0   \n",
       "\n",
       "                                                                                error  \n",
       "21196                                                                No errors found.  \n",
       "22998  \"No errors found. The message adheres to standard spelling and grammar rules.\"  \n",
       "27548  \"No errors found. The message adheres to standard spelling and grammar rules.\"  \n",
       "1889                                                           No errors found. \"Yes\"  \n",
       "19392                                                          No errors found. \"Yes\"  "
      ]
     },
     "execution_count": 15,
     "metadata": {},
     "output_type": "execute_result"
    }
   ],
   "source": [
    "filtered_rows_corrected.sample(5)"
   ]
  },
  {
   "cell_type": "code",
   "execution_count": 16,
   "metadata": {},
   "outputs": [
    {
     "data": {
      "text/plain": [
       "142"
      ]
     },
     "execution_count": 16,
     "metadata": {},
     "output_type": "execute_result"
    }
   ],
   "source": [
    "# specific for 'no errors found.\"\"\n",
    "filtered_rows_corrected = df[df['error'].str[:20].str.lower().str.contains('no errors found.', na=False)]\n",
    "len(filtered_rows_corrected)"
   ]
  },
  {
   "cell_type": "code",
   "execution_count": 17,
   "metadata": {},
   "outputs": [
    {
     "data": {
      "text/html": [
       "<div>\n",
       "<style scoped>\n",
       "    .dataframe tbody tr th:only-of-type {\n",
       "        vertical-align: middle;\n",
       "    }\n",
       "\n",
       "    .dataframe tbody tr th {\n",
       "        vertical-align: top;\n",
       "    }\n",
       "\n",
       "    .dataframe thead th {\n",
       "        text-align: right;\n",
       "    }\n",
       "</style>\n",
       "<table border=\"1\" class=\"dataframe\">\n",
       "  <thead>\n",
       "    <tr style=\"text-align: right;\">\n",
       "      <th></th>\n",
       "      <th>clean_text</th>\n",
       "      <th>classification</th>\n",
       "      <th>error</th>\n",
       "    </tr>\n",
       "  </thead>\n",
       "  <tbody>\n",
       "    <tr>\n",
       "      <th>1931</th>\n",
       "      <td>On a lighter note - GO (insert sports team from your high school or colllege)  ... (in the past that's helped me mend fences with halfwits)</td>\n",
       "      <td>0</td>\n",
       "      <td>No errors found.</td>\n",
       "    </tr>\n",
       "    <tr>\n",
       "      <th>23001</th>\n",
       "      <td>interesting idea passive income online for you, no investment required, just keep brows wind open http://www.surfjunky.com/?r=maxiproxy</td>\n",
       "      <td>0</td>\n",
       "      <td>No errors found.</td>\n",
       "    </tr>\n",
       "    <tr>\n",
       "      <th>16872</th>\n",
       "      <td>ReadWriteWeb.com: YouTube Videos Get Huger, High Def-er http://bit.ly/3iV51K Full http://bit.ly/3FmlXv</td>\n",
       "      <td>0</td>\n",
       "      <td>\"No errors found. The message adheres to standard spelling and grammar rules.\"</td>\n",
       "    </tr>\n",
       "    <tr>\n",
       "      <th>26076</th>\n",
       "      <td>@paigeeybby OKAY I GOT IT! #$@%$*#( Go to Edit Profile&gt;Contact Info&gt;LJ User Messaging and change it to Registered Users in the box.</td>\n",
       "      <td>0</td>\n",
       "      <td>No errors found. \"Yes\"</td>\n",
       "    </tr>\n",
       "    <tr>\n",
       "      <th>18195</th>\n",
       "      <td>@cherrykissesz y r u home it's a friday</td>\n",
       "      <td>0</td>\n",
       "      <td>No errors found. \"y r u\" is an informal abbreviation commonly used on Twitter.</td>\n",
       "    </tr>\n",
       "  </tbody>\n",
       "</table>\n",
       "</div>"
      ],
      "text/plain": [
       "                                                                                                                                        clean_text  \\\n",
       "1931   On a lighter note - GO (insert sports team from your high school or colllege)  ... (in the past that's helped me mend fences with halfwits)   \n",
       "23001      interesting idea passive income online for you, no investment required, just keep brows wind open http://www.surfjunky.com/?r=maxiproxy   \n",
       "16872                                       ReadWriteWeb.com: YouTube Videos Get Huger, High Def-er http://bit.ly/3iV51K Full http://bit.ly/3FmlXv   \n",
       "26076          @paigeeybby OKAY I GOT IT! #$@%$*#( Go to Edit Profile>Contact Info>LJ User Messaging and change it to Registered Users in the box.   \n",
       "18195                                                                                                      @cherrykissesz y r u home it's a friday   \n",
       "\n",
       "       classification  \\\n",
       "1931                0   \n",
       "23001               0   \n",
       "16872               0   \n",
       "26076               0   \n",
       "18195               0   \n",
       "\n",
       "                                                                                error  \n",
       "1931                                                                 No errors found.  \n",
       "23001                                                                No errors found.  \n",
       "16872  \"No errors found. The message adheres to standard spelling and grammar rules.\"  \n",
       "26076                                                          No errors found. \"Yes\"  \n",
       "18195  No errors found. \"y r u\" is an informal abbreviation commonly used on Twitter.  "
      ]
     },
     "execution_count": 17,
     "metadata": {},
     "output_type": "execute_result"
    }
   ],
   "source": [
    "filtered_rows_corrected.sample(5)"
   ]
  },
  {
   "cell_type": "code",
   "execution_count": 18,
   "metadata": {},
   "outputs": [],
   "source": [
    "# safe to update lines to classificaiton = 1 and delete the error\n",
    "condition = df['error'].str[:20].str.lower().str.contains('no errors found.', na=False)\n",
    "df.loc[condition, 'classification'] = 1\n",
    "df.loc[condition, 'error'] = ''"
   ]
  },
  {
   "cell_type": "code",
   "execution_count": 19,
   "metadata": {},
   "outputs": [
    {
     "data": {
      "text/plain": [
       "0"
      ]
     },
     "execution_count": 19,
     "metadata": {},
     "output_type": "execute_result"
    }
   ],
   "source": [
    "filtered_rows_corrected = df[df['error'].str[:20].str.lower().str.contains('no errors found.', na=False)]\n",
    "len(filtered_rows_corrected)"
   ]
  },
  {
   "cell_type": "code",
   "execution_count": 20,
   "metadata": {},
   "outputs": [
    {
     "data": {
      "text/plain": [
       "64"
      ]
     },
     "execution_count": 20,
     "metadata": {},
     "output_type": "execute_result"
    }
   ],
   "source": [
    "# fix classification - no errors, extra look\n",
    "filtered_rows_corrected = df[df['error'].str[:10].str.lower().str.contains('no errors', na=False)]\n",
    "len(filtered_rows_corrected)"
   ]
  },
  {
   "cell_type": "code",
   "execution_count": 21,
   "metadata": {},
   "outputs": [
    {
     "data": {
      "text/html": [
       "<div>\n",
       "<style scoped>\n",
       "    .dataframe tbody tr th:only-of-type {\n",
       "        vertical-align: middle;\n",
       "    }\n",
       "\n",
       "    .dataframe tbody tr th {\n",
       "        vertical-align: top;\n",
       "    }\n",
       "\n",
       "    .dataframe thead th {\n",
       "        text-align: right;\n",
       "    }\n",
       "</style>\n",
       "<table border=\"1\" class=\"dataframe\">\n",
       "  <thead>\n",
       "    <tr style=\"text-align: right;\">\n",
       "      <th></th>\n",
       "      <th>clean_text</th>\n",
       "      <th>classification</th>\n",
       "      <th>error</th>\n",
       "    </tr>\n",
       "  </thead>\n",
       "  <tbody>\n",
       "    <tr>\n",
       "      <th>21860</th>\n",
       "      <td>RT @JasondCrabb: Free song! go to jasoncrabb.com click on country weekly icon and click. download free somebody like me.</td>\n",
       "      <td>0</td>\n",
       "      <td>No errors.</td>\n",
       "    </tr>\n",
       "    <tr>\n",
       "      <th>18081</th>\n",
       "      <td>Grab a seat to the home of the Pina Colada! Today’s Tware to San Juan…Cheers! See details @ http://tinyurl.com/yzm9tlc</td>\n",
       "      <td>0</td>\n",
       "      <td>No errors.</td>\n",
       "    </tr>\n",
       "    <tr>\n",
       "      <th>29158</th>\n",
       "      <td>RT @NancJ: EU to set new safety standards for sleeping products for newborns/young ...: Despite the frequency of serio.. http://bit.ly/OKFxz</td>\n",
       "      <td>0</td>\n",
       "      <td>No errors.</td>\n",
       "    </tr>\n",
       "    <tr>\n",
       "      <th>21207</th>\n",
       "      <td>Good Morning Arizona! @aafb needs your help! Skip a meal 2day and fund them with the savings! #twitterforfood http://ow.ly/ykxx</td>\n",
       "      <td>0</td>\n",
       "      <td>No errors.</td>\n",
       "    </tr>\n",
       "    <tr>\n",
       "      <th>26763</th>\n",
       "      <td>Why smartphones are not suffering in the recession  http://bit.ly/12xcIa</td>\n",
       "      <td>0</td>\n",
       "      <td>No errors.</td>\n",
       "    </tr>\n",
       "  </tbody>\n",
       "</table>\n",
       "</div>"
      ],
      "text/plain": [
       "                                                                                                                                         clean_text  \\\n",
       "21860                      RT @JasondCrabb: Free song! go to jasoncrabb.com click on country weekly icon and click. download free somebody like me.   \n",
       "18081                        Grab a seat to the home of the Pina Colada! Today’s Tware to San Juan…Cheers! See details @ http://tinyurl.com/yzm9tlc   \n",
       "29158  RT @NancJ: EU to set new safety standards for sleeping products for newborns/young ...: Despite the frequency of serio.. http://bit.ly/OKFxz   \n",
       "21207               Good Morning Arizona! @aafb needs your help! Skip a meal 2day and fund them with the savings! #twitterforfood http://ow.ly/ykxx   \n",
       "26763                                                                      Why smartphones are not suffering in the recession  http://bit.ly/12xcIa   \n",
       "\n",
       "       classification       error  \n",
       "21860               0  No errors.  \n",
       "18081               0  No errors.  \n",
       "29158               0  No errors.  \n",
       "21207               0  No errors.  \n",
       "26763               0  No errors.  "
      ]
     },
     "execution_count": 21,
     "metadata": {},
     "output_type": "execute_result"
    }
   ],
   "source": [
    "filtered_rows_corrected.sample(5)"
   ]
  },
  {
   "cell_type": "code",
   "execution_count": 22,
   "metadata": {},
   "outputs": [],
   "source": [
    "# safe to update lines to classificaiton = 1 and delete the error\n",
    "condition = df['error'].str[:20].str.lower().str.contains('no errors were found', na=False)\n",
    "df.loc[condition, 'classification'] = 1\n",
    "df.loc[condition, 'error'] = ''"
   ]
  },
  {
   "cell_type": "code",
   "execution_count": 23,
   "metadata": {},
   "outputs": [
    {
     "data": {
      "text/plain": [
       "337"
      ]
     },
     "execution_count": 23,
     "metadata": {},
     "output_type": "execute_result"
    }
   ],
   "source": [
    "# look for more errors\n",
    "condition = ~df['error'].str.lower().str.startswith('yes', na=False) & ~df['error'].str.lower().str.startswith('no', na=False) & (df['error'] != '')\n",
    "\n",
    "filtered_rows_not_start_with_yes_or_no = df[condition]\n",
    "filtered_df_clean = filtered_rows_not_start_with_yes_or_no.dropna(subset=['error'])\n",
    "len(filtered_df_clean)"
   ]
  },
  {
   "cell_type": "code",
   "execution_count": 24,
   "metadata": {},
   "outputs": [
    {
     "data": {
      "text/html": [
       "<div>\n",
       "<style scoped>\n",
       "    .dataframe tbody tr th:only-of-type {\n",
       "        vertical-align: middle;\n",
       "    }\n",
       "\n",
       "    .dataframe tbody tr th {\n",
       "        vertical-align: top;\n",
       "    }\n",
       "\n",
       "    .dataframe thead th {\n",
       "        text-align: right;\n",
       "    }\n",
       "</style>\n",
       "<table border=\"1\" class=\"dataframe\">\n",
       "  <thead>\n",
       "    <tr style=\"text-align: right;\">\n",
       "      <th></th>\n",
       "      <th>clean_text</th>\n",
       "      <th>classification</th>\n",
       "      <th>error</th>\n",
       "    </tr>\n",
       "  </thead>\n",
       "  <tbody>\n",
       "    <tr>\n",
       "      <th>28665</th>\n",
       "      <td>Find outout who’s unfollowing you www.useqwitter.com or www.tweeteffect.com #PJAlive</td>\n",
       "      <td>0</td>\n",
       "      <td>\"No\" \\nErrors:\\n1. \"Find outout\" should be \"Find out\"\\n2. \"who’s\" should be \"who is\" or \"who's\"\\n3. \"useqwitter.com\" should be \"useqwitter.com\"\\n4. \"tweeteffect.com\" should be \"tweeteffect.com\"</td>\n",
       "    </tr>\n",
       "    <tr>\n",
       "      <th>5567</th>\n",
       "      <td>Maine says 'NO to Same Sex Marriage - YES TO POT!' - Read The News Article Here: http://bit.ly/4D9hgS</td>\n",
       "      <td>0</td>\n",
       "      <td>\"No\" should be capitalized at the beginning of the sentence. The correct form is \"Maine says 'NO to Same-Sex Marriage - YES TO POT!' - Read the News Article Here: http://bit.ly/4D9hgS.\"</td>\n",
       "    </tr>\n",
       "    <tr>\n",
       "      <th>9494</th>\n",
       "      <td>@greggarvin 70% of cancer could b prevented if we lost weight, exercised regular,reduced red meat,ate diets rich in veg/fruit &amp; quit smoking</td>\n",
       "      <td>0</td>\n",
       "      <td>\"No\" \\nErrors:\\n1. \"b\" should be \"be\"\\n2. \"exercised regular\" should be \"exercised regularly\"\\n3. \"ate diets\" should be \"ate diets\"\\n4. \"veg/fruit\" should be \"vegetables/fruits\"</td>\n",
       "    </tr>\n",
       "    <tr>\n",
       "      <th>7026</th>\n",
       "      <td>@dlrpmagic</td>\n",
       "      <td>0</td>\n",
       "      <td>Please provide a tweet for review.</td>\n",
       "    </tr>\n",
       "    <tr>\n",
       "      <th>27632</th>\n",
       "      <td>Twitter is deeaad</td>\n",
       "      <td>0</td>\n",
       "      <td>\"No, the correct spelling is 'dead.'\"</td>\n",
       "    </tr>\n",
       "  </tbody>\n",
       "</table>\n",
       "</div>"
      ],
      "text/plain": [
       "                                                                                                                                         clean_text  \\\n",
       "28665                                                          Find outout who’s unfollowing you www.useqwitter.com or www.tweeteffect.com #PJAlive   \n",
       "5567                                          Maine says 'NO to Same Sex Marriage - YES TO POT!' - Read The News Article Here: http://bit.ly/4D9hgS   \n",
       "9494   @greggarvin 70% of cancer could b prevented if we lost weight, exercised regular,reduced red meat,ate diets rich in veg/fruit & quit smoking   \n",
       "7026                                                                                                                                    @dlrpmagic    \n",
       "27632                                                                                                                             Twitter is deeaad   \n",
       "\n",
       "       classification  \\\n",
       "28665               0   \n",
       "5567                0   \n",
       "9494                0   \n",
       "7026                0   \n",
       "27632               0   \n",
       "\n",
       "                                                                                                                                                                                                   error  \n",
       "28665  \"No\" \\nErrors:\\n1. \"Find outout\" should be \"Find out\"\\n2. \"who’s\" should be \"who is\" or \"who's\"\\n3. \"useqwitter.com\" should be \"useqwitter.com\"\\n4. \"tweeteffect.com\" should be \"tweeteffect.com\"  \n",
       "5567           \"No\" should be capitalized at the beginning of the sentence. The correct form is \"Maine says 'NO to Same-Sex Marriage - YES TO POT!' - Read the News Article Here: http://bit.ly/4D9hgS.\"  \n",
       "9494                   \"No\" \\nErrors:\\n1. \"b\" should be \"be\"\\n2. \"exercised regular\" should be \"exercised regularly\"\\n3. \"ate diets\" should be \"ate diets\"\\n4. \"veg/fruit\" should be \"vegetables/fruits\"  \n",
       "7026                                                                                                                                                                  Please provide a tweet for review.  \n",
       "27632                                                                                                                                                              \"No, the correct spelling is 'dead.'\"  "
      ]
     },
     "execution_count": 24,
     "metadata": {},
     "output_type": "execute_result"
    }
   ],
   "source": [
    "filtered_df_clean.sample(5)"
   ]
  },
  {
   "cell_type": "code",
   "execution_count": 25,
   "metadata": {},
   "outputs": [
    {
     "data": {
      "text/plain": [
       "89"
      ]
     },
     "execution_count": 25,
     "metadata": {},
     "output_type": "execute_result"
    }
   ],
   "source": [
    "# last minute error message - 'no, there are no errors'\n",
    "filtered_rows_corrected = df[df['error'].str.lower().str.contains('no, there are no errors', na=False)]\n",
    "len(filtered_rows_corrected)"
   ]
  },
  {
   "cell_type": "code",
   "execution_count": 26,
   "metadata": {},
   "outputs": [],
   "source": [
    "# set to 1, 'no, there are no errors'\n",
    "condition = df['error'].str.lower().str.contains('no, there are no errors', na=False)\n",
    "df.loc[condition, 'classification'] = 1\n",
    "df.loc[condition, 'error'] = ''"
   ]
  },
  {
   "cell_type": "code",
   "execution_count": 27,
   "metadata": {},
   "outputs": [
    {
     "data": {
      "text/html": [
       "<div>\n",
       "<style scoped>\n",
       "    .dataframe tbody tr th:only-of-type {\n",
       "        vertical-align: middle;\n",
       "    }\n",
       "\n",
       "    .dataframe tbody tr th {\n",
       "        vertical-align: top;\n",
       "    }\n",
       "\n",
       "    .dataframe thead th {\n",
       "        text-align: right;\n",
       "    }\n",
       "</style>\n",
       "<table border=\"1\" class=\"dataframe\">\n",
       "  <thead>\n",
       "    <tr style=\"text-align: right;\">\n",
       "      <th></th>\n",
       "      <th>clean_text</th>\n",
       "      <th>classification</th>\n",
       "      <th>error</th>\n",
       "    </tr>\n",
       "  </thead>\n",
       "  <tbody>\n",
       "    <tr>\n",
       "      <th>19880</th>\n",
       "      <td>Top 20 Most Popular Health Websites  (I just thought you needed this. Check it out and thank me. lol)  http://bit.ly/15bfs7</td>\n",
       "      <td>1</td>\n",
       "      <td>NaN</td>\n",
       "    </tr>\n",
       "    <tr>\n",
       "      <th>25913</th>\n",
       "      <td>Springfield 10 NW Arkansas 12.Cards Fall in 12 http://tiny.cc/beqz8. Next game is tomorrow against NW Arkansas game time set for 6:10pm.</td>\n",
       "      <td>1</td>\n",
       "      <td>NaN</td>\n",
       "    </tr>\n",
       "    <tr>\n",
       "      <th>672</th>\n",
       "      <td>@LilliJ hi Lil! Driving thru tennessee now!  Are p early!</td>\n",
       "      <td>0</td>\n",
       "      <td>No\\n\\nErrors:\\n1. \"thru\" should be \"through\"\\n2. \"p\" should be \"pretty\"\\n3. \"early\" should be \"early.\"</td>\n",
       "    </tr>\n",
       "    <tr>\n",
       "      <th>5586</th>\n",
       "      <td>@momsfocus I know right lol</td>\n",
       "      <td>1</td>\n",
       "      <td>NaN</td>\n",
       "    </tr>\n",
       "    <tr>\n",
       "      <th>24698</th>\n",
       "      <td>Hey are you any good at fantasy football? Put your money where your mouth is. http://tinyurl.com/yevvckn</td>\n",
       "      <td>1</td>\n",
       "      <td>NaN</td>\n",
       "    </tr>\n",
       "  </tbody>\n",
       "</table>\n",
       "</div>"
      ],
      "text/plain": [
       "                                                                                                                                     clean_text  \\\n",
       "19880               Top 20 Most Popular Health Websites  (I just thought you needed this. Check it out and thank me. lol)  http://bit.ly/15bfs7   \n",
       "25913  Springfield 10 NW Arkansas 12.Cards Fall in 12 http://tiny.cc/beqz8. Next game is tomorrow against NW Arkansas game time set for 6:10pm.   \n",
       "672                                                                                   @LilliJ hi Lil! Driving thru tennessee now!  Are p early!   \n",
       "5586                                                                                                                @momsfocus I know right lol   \n",
       "24698                                  Hey are you any good at fantasy football? Put your money where your mouth is. http://tinyurl.com/yevvckn   \n",
       "\n",
       "       classification  \\\n",
       "19880               1   \n",
       "25913               1   \n",
       "672                 0   \n",
       "5586                1   \n",
       "24698               1   \n",
       "\n",
       "                                                                                                        error  \n",
       "19880                                                                                                     NaN  \n",
       "25913                                                                                                     NaN  \n",
       "672    No\\n\\nErrors:\\n1. \"thru\" should be \"through\"\\n2. \"p\" should be \"pretty\"\\n3. \"early\" should be \"early.\"  \n",
       "5586                                                                                                      NaN  \n",
       "24698                                                                                                     NaN  "
      ]
     },
     "execution_count": 27,
     "metadata": {},
     "output_type": "execute_result"
    }
   ],
   "source": [
    "df.sample(5)"
   ]
  },
  {
   "cell_type": "code",
   "execution_count": 28,
   "metadata": {},
   "outputs": [
    {
     "data": {
      "text/plain": [
       "61"
      ]
     },
     "execution_count": 28,
     "metadata": {},
     "output_type": "execute_result"
    }
   ],
   "source": [
    "# fix classification - no errors, extra look\n",
    "filtered_rows_corrected = df[df['error'].str[:10].str.lower().str.contains('no errors', na=False)]\n",
    "len(filtered_rows_corrected)"
   ]
  },
  {
   "cell_type": "code",
   "execution_count": 29,
   "metadata": {},
   "outputs": [
    {
     "data": {
      "text/html": [
       "<div>\n",
       "<style scoped>\n",
       "    .dataframe tbody tr th:only-of-type {\n",
       "        vertical-align: middle;\n",
       "    }\n",
       "\n",
       "    .dataframe tbody tr th {\n",
       "        vertical-align: top;\n",
       "    }\n",
       "\n",
       "    .dataframe thead th {\n",
       "        text-align: right;\n",
       "    }\n",
       "</style>\n",
       "<table border=\"1\" class=\"dataframe\">\n",
       "  <thead>\n",
       "    <tr style=\"text-align: right;\">\n",
       "      <th></th>\n",
       "      <th>clean_text</th>\n",
       "      <th>classification</th>\n",
       "      <th>error</th>\n",
       "    </tr>\n",
       "  </thead>\n",
       "  <tbody>\n",
       "    <tr>\n",
       "      <th>10732</th>\n",
       "      <td>RT @robbi3_bird: #uknowitsarecession when u get xcited about new items on the dollar menu at fast food spots</td>\n",
       "      <td>0</td>\n",
       "      <td>No errors.</td>\n",
       "    </tr>\n",
       "    <tr>\n",
       "      <th>3847</th>\n",
       "      <td>the buzz will be down at NFL films on thursday when our films unit receives a green award from the state of new jersey</td>\n",
       "      <td>0</td>\n",
       "      <td>No errors.</td>\n",
       "    </tr>\n",
       "    <tr>\n",
       "      <th>7846</th>\n",
       "      <td>RT @BlogTalkTEFS woke up with \"The Love Boat\" theme in its head and is still seriously proud of Jeff... http://bit.ly/sCfFR Tonight @ 11</td>\n",
       "      <td>0</td>\n",
       "      <td>No errors.</td>\n",
       "    </tr>\n",
       "    <tr>\n",
       "      <th>26763</th>\n",
       "      <td>Why smartphones are not suffering in the recession  http://bit.ly/12xcIa</td>\n",
       "      <td>0</td>\n",
       "      <td>No errors.</td>\n",
       "    </tr>\n",
       "    <tr>\n",
       "      <th>10656</th>\n",
       "      <td>Our new lamp store is so close to being ready I can smell it. We have the lowest prices! Get excited to get all your projector lamps with us</td>\n",
       "      <td>0</td>\n",
       "      <td>No errors.</td>\n",
       "    </tr>\n",
       "  </tbody>\n",
       "</table>\n",
       "</div>"
      ],
      "text/plain": [
       "                                                                                                                                         clean_text  \\\n",
       "10732                                  RT @robbi3_bird: #uknowitsarecession when u get xcited about new items on the dollar menu at fast food spots   \n",
       "3847                         the buzz will be down at NFL films on thursday when our films unit receives a green award from the state of new jersey   \n",
       "7846       RT @BlogTalkTEFS woke up with \"The Love Boat\" theme in its head and is still seriously proud of Jeff... http://bit.ly/sCfFR Tonight @ 11   \n",
       "26763                                                                      Why smartphones are not suffering in the recession  http://bit.ly/12xcIa   \n",
       "10656  Our new lamp store is so close to being ready I can smell it. We have the lowest prices! Get excited to get all your projector lamps with us   \n",
       "\n",
       "       classification       error  \n",
       "10732               0  No errors.  \n",
       "3847                0  No errors.  \n",
       "7846                0  No errors.  \n",
       "26763               0  No errors.  \n",
       "10656               0  No errors.  "
      ]
     },
     "execution_count": 29,
     "metadata": {},
     "output_type": "execute_result"
    }
   ],
   "source": [
    "filtered_rows_corrected.sample(5)"
   ]
  },
  {
   "cell_type": "code",
   "execution_count": 30,
   "metadata": {},
   "outputs": [],
   "source": [
    "# safe to update lines to classificaiton = 1 and delete the error\n",
    "condition = df['error'].str[:20].str.lower().str.contains('no errors.', na=False)\n",
    "df.loc[condition, 'classification'] = 1\n",
    "df.loc[condition, 'error'] = ''"
   ]
  },
  {
   "cell_type": "code",
   "execution_count": 31,
   "metadata": {},
   "outputs": [
    {
     "data": {
      "text/plain": [
       "150"
      ]
     },
     "execution_count": 31,
     "metadata": {},
     "output_type": "execute_result"
    }
   ],
   "source": [
    "# clean_text - have to remove: @ only, singel url - THIS IS DONE IN CORE LEVEL, KEEPING FOR LEGACY ISSUES (older data, OpenAI done in days due to 10k rate limit)\n",
    "condition = df['clean_text'].str.strip().str.startswith('@') & ~df['clean_text'].str.strip().str.contains(' ')\n",
    "at_only_df = df[condition]\n",
    "len(at_only_df)"
   ]
  },
  {
   "cell_type": "code",
   "execution_count": 32,
   "metadata": {},
   "outputs": [
    {
     "data": {
      "text/plain": [
       "150"
      ]
     },
     "execution_count": 32,
     "metadata": {},
     "output_type": "execute_result"
    }
   ],
   "source": [
    "# clean_text - have to remove: @ only, singel url\n",
    "condition = df['clean_text'].str.strip().str.startswith('@') & ~df['clean_text'].str.strip().str.contains(' ')\n",
    "at_only_df = df[condition]\n",
    "len(at_only_df)"
   ]
  },
  {
   "cell_type": "code",
   "execution_count": 33,
   "metadata": {},
   "outputs": [
    {
     "data": {
      "text/html": [
       "<div>\n",
       "<style scoped>\n",
       "    .dataframe tbody tr th:only-of-type {\n",
       "        vertical-align: middle;\n",
       "    }\n",
       "\n",
       "    .dataframe tbody tr th {\n",
       "        vertical-align: top;\n",
       "    }\n",
       "\n",
       "    .dataframe thead th {\n",
       "        text-align: right;\n",
       "    }\n",
       "</style>\n",
       "<table border=\"1\" class=\"dataframe\">\n",
       "  <thead>\n",
       "    <tr style=\"text-align: right;\">\n",
       "      <th></th>\n",
       "      <th>clean_text</th>\n",
       "      <th>classification</th>\n",
       "      <th>error</th>\n",
       "    </tr>\n",
       "  </thead>\n",
       "  <tbody>\n",
       "    <tr>\n",
       "      <th>7149</th>\n",
       "      <td>@steven_cuthill</td>\n",
       "      <td>0</td>\n",
       "      <td>I'm sorry, but I need a Twitter message to review for spelling and grammar errors. Please provide a tweet for analysis.</td>\n",
       "    </tr>\n",
       "    <tr>\n",
       "      <th>7045</th>\n",
       "      <td>@chrisslusser</td>\n",
       "      <td>1</td>\n",
       "      <td>NaN</td>\n",
       "    </tr>\n",
       "    <tr>\n",
       "      <th>7009</th>\n",
       "      <td>@JamieEng</td>\n",
       "      <td>0</td>\n",
       "      <td>It seems like you forgot to include a message for me to review. Could you please provide the tweet you'd like me to analyze for spelling and grammar errors?</td>\n",
       "    </tr>\n",
       "    <tr>\n",
       "      <th>7007</th>\n",
       "      <td>@rwilkie</td>\n",
       "      <td>0</td>\n",
       "      <td>I'm sorry, but I need a Twitter message to review for spelling and grammar errors. Please provide a tweet for analysis.</td>\n",
       "    </tr>\n",
       "    <tr>\n",
       "      <th>7145</th>\n",
       "      <td>@PascalDePauw</td>\n",
       "      <td>0</td>\n",
       "      <td>Please provide a tweet for review.</td>\n",
       "    </tr>\n",
       "  </tbody>\n",
       "</table>\n",
       "</div>"
      ],
      "text/plain": [
       "            clean_text  classification  \\\n",
       "7149  @steven_cuthill                0   \n",
       "7045    @chrisslusser                1   \n",
       "7009        @JamieEng                0   \n",
       "7007         @rwilkie                0   \n",
       "7145    @PascalDePauw                0   \n",
       "\n",
       "                                                                                                                                                             error  \n",
       "7149                                       I'm sorry, but I need a Twitter message to review for spelling and grammar errors. Please provide a tweet for analysis.  \n",
       "7045                                                                                                                                                           NaN  \n",
       "7009  It seems like you forgot to include a message for me to review. Could you please provide the tweet you'd like me to analyze for spelling and grammar errors?  \n",
       "7007                                       I'm sorry, but I need a Twitter message to review for spelling and grammar errors. Please provide a tweet for analysis.  \n",
       "7145                                                                                                                            Please provide a tweet for review.  "
      ]
     },
     "execution_count": 33,
     "metadata": {},
     "output_type": "execute_result"
    }
   ],
   "source": [
    "at_only_df.sample(5)"
   ]
  },
  {
   "cell_type": "code",
   "execution_count": 34,
   "metadata": {},
   "outputs": [],
   "source": [
    "# Remove only @att, no need for calssfier here (it will be handled in the pre-process and no need to call model)\n",
    "df = df[~condition]"
   ]
  },
  {
   "cell_type": "code",
   "execution_count": 35,
   "metadata": {},
   "outputs": [
    {
     "data": {
      "text/html": [
       "<div>\n",
       "<style scoped>\n",
       "    .dataframe tbody tr th:only-of-type {\n",
       "        vertical-align: middle;\n",
       "    }\n",
       "\n",
       "    .dataframe tbody tr th {\n",
       "        vertical-align: top;\n",
       "    }\n",
       "\n",
       "    .dataframe thead th {\n",
       "        text-align: right;\n",
       "    }\n",
       "</style>\n",
       "<table border=\"1\" class=\"dataframe\">\n",
       "  <thead>\n",
       "    <tr style=\"text-align: right;\">\n",
       "      <th></th>\n",
       "      <th>clean_text</th>\n",
       "      <th>classification</th>\n",
       "      <th>error</th>\n",
       "    </tr>\n",
       "  </thead>\n",
       "  <tbody>\n",
       "    <tr>\n",
       "      <th>2792</th>\n",
       "      <td>Happy to be back after a great few days in Mexico City. What a place...go if you haven't</td>\n",
       "      <td>1</td>\n",
       "      <td>NaN</td>\n",
       "    </tr>\n",
       "    <tr>\n",
       "      <th>20029</th>\n",
       "      <td>'Many flee' Congo fishing clashes - Kikil News - http://bit.ly/5DnTp7</td>\n",
       "      <td>1</td>\n",
       "      <td>NaN</td>\n",
       "    </tr>\n",
       "    <tr>\n",
       "      <th>21369</th>\n",
       "      <td>@ashpags Why, though? I kind of agree, but what difference does the company's approval of the network matter?</td>\n",
       "      <td>1</td>\n",
       "      <td></td>\n",
       "    </tr>\n",
       "    <tr>\n",
       "      <th>15509</th>\n",
       "      <td>#worldsthinnestbooks \"Backing Up Your Talk\" by Jimmy Rollins</td>\n",
       "      <td>1</td>\n",
       "      <td>NaN</td>\n",
       "    </tr>\n",
       "    <tr>\n",
       "      <th>2249</th>\n",
       "      <td>@roder It's got everything you need: football and sex :D</td>\n",
       "      <td>1</td>\n",
       "      <td>NaN</td>\n",
       "    </tr>\n",
       "  </tbody>\n",
       "</table>\n",
       "</div>"
      ],
      "text/plain": [
       "                                                                                                          clean_text  \\\n",
       "2792                        Happy to be back after a great few days in Mexico City. What a place...go if you haven't   \n",
       "20029                                          'Many flee' Congo fishing clashes - Kikil News - http://bit.ly/5DnTp7   \n",
       "21369  @ashpags Why, though? I kind of agree, but what difference does the company's approval of the network matter?   \n",
       "15509                                                   #worldsthinnestbooks \"Backing Up Your Talk\" by Jimmy Rollins   \n",
       "2249                                                        @roder It's got everything you need: football and sex :D   \n",
       "\n",
       "       classification error  \n",
       "2792                1   NaN  \n",
       "20029               1   NaN  \n",
       "21369               1        \n",
       "15509               1   NaN  \n",
       "2249                1   NaN  "
      ]
     },
     "execution_count": 35,
     "metadata": {},
     "output_type": "execute_result"
    }
   ],
   "source": [
    "df.sample(5)"
   ]
  },
  {
   "cell_type": "code",
   "execution_count": 36,
   "metadata": {},
   "outputs": [
    {
     "data": {
      "text/plain": [
       "0"
      ]
     },
     "execution_count": 36,
     "metadata": {},
     "output_type": "execute_result"
    }
   ],
   "source": [
    "# fix classification - no errors, extra look\n",
    "filtered_rows_corrected = df[df['error'].str[:10].str.lower().str.contains('no errors', na=False)]\n",
    "len(filtered_rows_corrected)"
   ]
  },
  {
   "cell_type": "code",
   "execution_count": 37,
   "metadata": {},
   "outputs": [
    {
     "data": {
      "image/png": "[encoded data removed]",
      "text/plain": [
       "<Figure size 640x480 with 1 Axes>"
      ]
     },
     "metadata": {},
     "output_type": "display_data"
    }
   ],
   "source": [
    "# See what we got\n",
    "classification_counts = df['classification'].value_counts()\n",
    "classification_counts.plot(kind='bar')\n",
    "plt.title('Classification Counts')\n",
    "plt.xlabel('Classification')\n",
    "plt.ylabel('Count')\n",
    "plt.xticks(ticks=[0, 1], labels=['0', '1'], rotation=0) \n",
    "for index, value in enumerate(classification_counts):\n",
    "    plt.text(index, value, str(value), ha='center', va='bottom')\n",
    "plt.show()"
   ]
  },
  {
   "cell_type": "code",
   "execution_count": 38,
   "metadata": {},
   "outputs": [
    {
     "data": {
      "image/png": "[encoded data removed]",
      "text/plain": [
       "<Figure size 640x480 with 1 Axes>"
      ]
     },
     "metadata": {},
     "output_type": "display_data"
    }
   ],
   "source": [
    "classification_counts.plot(kind='pie', autopct='%1.1f%%', startangle=140)\n",
    "plt.title('Classification Distribution')\n",
    "plt.ylabel('')  \n",
    "plt.show()"
   ]
  },
  {
   "cell_type": "code",
   "execution_count": 39,
   "metadata": {},
   "outputs": [
    {
     "data": {
      "text/plain": [
       "29780"
      ]
     },
     "execution_count": 39,
     "metadata": {},
     "output_type": "execute_result"
    }
   ],
   "source": [
    "len(df)"
   ]
  },
  {
   "cell_type": "code",
   "execution_count": 40,
   "metadata": {},
   "outputs": [
    {
     "data": {
      "text/html": [
       "<div>\n",
       "<style scoped>\n",
       "    .dataframe tbody tr th:only-of-type {\n",
       "        vertical-align: middle;\n",
       "    }\n",
       "\n",
       "    .dataframe tbody tr th {\n",
       "        vertical-align: top;\n",
       "    }\n",
       "\n",
       "    .dataframe thead th {\n",
       "        text-align: right;\n",
       "    }\n",
       "</style>\n",
       "<table border=\"1\" class=\"dataframe\">\n",
       "  <thead>\n",
       "    <tr style=\"text-align: right;\">\n",
       "      <th></th>\n",
       "      <th>clean_text</th>\n",
       "      <th>classification</th>\n",
       "      <th>error</th>\n",
       "    </tr>\n",
       "  </thead>\n",
       "  <tbody>\n",
       "    <tr>\n",
       "      <th>27405</th>\n",
       "      <td>Jim Rome gives love to Ricky Williams and #yoga. #jribonespn #dolphins #nfl</td>\n",
       "      <td>1</td>\n",
       "      <td>NaN</td>\n",
       "    </tr>\n",
       "    <tr>\n",
       "      <th>14031</th>\n",
       "      <td>The Sad Truth About Making Money With Twitter:</td>\n",
       "      <td>1</td>\n",
       "      <td>NaN</td>\n",
       "    </tr>\n",
       "    <tr>\n",
       "      <th>5091</th>\n",
       "      <td>Movie review: The Twilight Saga: New Moon *** http://bit.ly/2W4MKP</td>\n",
       "      <td>1</td>\n",
       "      <td>NaN</td>\n",
       "    </tr>\n",
       "    <tr>\n",
       "      <th>28982</th>\n",
       "      <td>I stunned my wife in. I borrowed a PURPLE lanyard from a friend inside and that was the key.</td>\n",
       "      <td>0</td>\n",
       "      <td>No, there are two errors in the message:\\n1. \"I stunned my wife in.\" - It should be \"I stunned my wife. I borrowed a PURPLE lanyard from a friend inside, and that was the key.\" The sentence is incomplete and needs to be separated for clarity.\\n2. \"PURPLE\" should not be in all capital letters unless it is an acronym.</td>\n",
       "    </tr>\n",
       "    <tr>\n",
       "      <th>10762</th>\n",
       "      <td>I Just saw some guy run over a kids scooter in Opa-Locka. What an afternoon!</td>\n",
       "      <td>1</td>\n",
       "      <td>NaN</td>\n",
       "    </tr>\n",
       "  </tbody>\n",
       "</table>\n",
       "</div>"
      ],
      "text/plain": [
       "                                                                                         clean_text  \\\n",
       "27405                   Jim Rome gives love to Ricky Williams and #yoga. #jribonespn #dolphins #nfl   \n",
       "14031                                               The Sad Truth About Making Money With Twitter:    \n",
       "5091                             Movie review: The Twilight Saga: New Moon *** http://bit.ly/2W4MKP   \n",
       "28982  I stunned my wife in. I borrowed a PURPLE lanyard from a friend inside and that was the key.   \n",
       "10762                  I Just saw some guy run over a kids scooter in Opa-Locka. What an afternoon!   \n",
       "\n",
       "       classification  \\\n",
       "27405               1   \n",
       "14031               1   \n",
       "5091                1   \n",
       "28982               0   \n",
       "10762               1   \n",
       "\n",
       "                                                                                                                                                                                                                                                                                                                               error  \n",
       "27405                                                                                                                                                                                                                                                                                                                            NaN  \n",
       "14031                                                                                                                                                                                                                                                                                                                            NaN  \n",
       "5091                                                                                                                                                                                                                                                                                                                             NaN  \n",
       "28982  No, there are two errors in the message:\\n1. \"I stunned my wife in.\" - It should be \"I stunned my wife. I borrowed a PURPLE lanyard from a friend inside, and that was the key.\" The sentence is incomplete and needs to be separated for clarity.\\n2. \"PURPLE\" should not be in all capital letters unless it is an acronym.  \n",
       "10762                                                                                                                                                                                                                                                                                                                            NaN  "
      ]
     },
     "execution_count": 40,
     "metadata": {},
     "output_type": "execute_result"
    }
   ],
   "source": [
    "df.sample(5)"
   ]
  },
  {
   "cell_type": "code",
   "execution_count": 41,
   "metadata": {},
   "outputs": [],
   "source": [
    "# Now save to allow model train \n",
    "df.to_csv('../data/clean_train_tweets_classified_open_ai.csv', index=False)"
   ]
  },
  {
   "cell_type": "code",
   "execution_count": null,
   "metadata": {},
   "outputs": [],
   "source": []
  }
 ],
 "metadata": {
  "kernelspec": {
   "display_name": "x_grammar_spelling",
   "language": "python",
   "name": "python3"
  },
  "language_info": {
   "codemirror_mode": {
    "name": "ipython",
    "version": 3
   },
   "file_extension": ".py",
   "mimetype": "text/x-python",
   "name": "python",
   "nbconvert_exporter": "python",
   "pygments_lexer": "ipython3",
   "version": "3.11.8"
  }
 },
 "nbformat": 4,
 "nbformat_minor": 2
}
