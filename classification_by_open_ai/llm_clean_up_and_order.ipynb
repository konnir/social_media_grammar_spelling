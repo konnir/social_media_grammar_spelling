{
 "cells": [
  {
   "cell_type": "markdown",
   "metadata": {},
   "source": [
    "# Result from OpenAi are good but messy"
   ]
  },
  {
   "cell_type": "code",
   "execution_count": 1,
   "metadata": {},
   "outputs": [],
   "source": [
    "import pandas as pd\n",
    "import matplotlib.pyplot as plt "
   ]
  },
  {
   "cell_type": "code",
   "execution_count": 2,
   "metadata": {},
   "outputs": [],
   "source": [
    "pd.set_option('display.max_colwidth', 1500)"
   ]
  },
  {
   "cell_type": "code",
   "execution_count": 3,
   "metadata": {},
   "outputs": [
    {
     "data": {
      "text/html": [
       "<div>\n",
       "<style scoped>\n",
       "    .dataframe tbody tr th:only-of-type {\n",
       "        vertical-align: middle;\n",
       "    }\n",
       "\n",
       "    .dataframe tbody tr th {\n",
       "        vertical-align: top;\n",
       "    }\n",
       "\n",
       "    .dataframe thead th {\n",
       "        text-align: right;\n",
       "    }\n",
       "</style>\n",
       "<table border=\"1\" class=\"dataframe\">\n",
       "  <thead>\n",
       "    <tr style=\"text-align: right;\">\n",
       "      <th></th>\n",
       "      <th>index</th>\n",
       "      <th>text</th>\n",
       "      <th>clean_text</th>\n",
       "      <th>classification</th>\n",
       "      <th>error</th>\n",
       "    </tr>\n",
       "  </thead>\n",
       "  <tbody>\n",
       "    <tr>\n",
       "      <th>0</th>\n",
       "      <td>0</td>\n",
       "      <td>@thediscovietnam coo.  thanks. just dropped you a line.</td>\n",
       "      <td>@thediscovietnam coo.  thanks. just dropped you a line.</td>\n",
       "      <td>1</td>\n",
       "      <td>NaN</td>\n",
       "    </tr>\n",
       "    <tr>\n",
       "      <th>1</th>\n",
       "      <td>1</td>\n",
       "      <td>@thediscovietnam shit it ain't lettin me DM you back, what's your email?</td>\n",
       "      <td>@thediscovietnam shit it ain't lettin me DM you back, what's your email?</td>\n",
       "      <td>1</td>\n",
       "      <td>NaN</td>\n",
       "    </tr>\n",
       "    <tr>\n",
       "      <th>2</th>\n",
       "      <td>2</td>\n",
       "      <td>@thediscovietnam hey cody, quick question...can you dm me?</td>\n",
       "      <td>@thediscovietnam hey cody, quick question...can you dm me?</td>\n",
       "      <td>1</td>\n",
       "      <td>NaN</td>\n",
       "    </tr>\n",
       "    <tr>\n",
       "      <th>3</th>\n",
       "      <td>3</td>\n",
       "      <td>@smokinvinyl dang.  you need anything?  I got some left over meds!</td>\n",
       "      <td>@smokinvinyl dang.  you need anything?  I got some left over meds!</td>\n",
       "      <td>0</td>\n",
       "      <td>No\\n\\nThe message contains a missing period at the end of the sentence.</td>\n",
       "    </tr>\n",
       "    <tr>\n",
       "      <th>4</th>\n",
       "      <td>4</td>\n",
       "      <td>maybe i'm late in the game on this one, but this lowender vst is making my apt rumble!</td>\n",
       "      <td>maybe i'm late in the game on this one, but this lowender vst is making my apt rumble!</td>\n",
       "      <td>1</td>\n",
       "      <td>NaN</td>\n",
       "    </tr>\n",
       "    <tr>\n",
       "      <th>...</th>\n",
       "      <td>...</td>\n",
       "      <td>...</td>\n",
       "      <td>...</td>\n",
       "      <td>...</td>\n",
       "      <td>...</td>\n",
       "    </tr>\n",
       "    <tr>\n",
       "      <th>50235</th>\n",
       "      <td>50235</td>\n",
       "      <td>please follow --&gt; @in_BiEBER_FEVER  now! thy (:</td>\n",
       "      <td>please follow --&gt; @in_BiEBER_FEVER  now! thy (:</td>\n",
       "      <td>0</td>\n",
       "      <td>No, there are a few errors in the message:\\n1. The correct spelling is \"please follow --&gt; @in_BiEBER_FEVER now! Thanks (:\"\\n2. \"thy\" should be \"Thanks\" for better clarity and correctness.</td>\n",
       "    </tr>\n",
       "    <tr>\n",
       "      <th>50236</th>\n",
       "      <td>50236</td>\n",
       "      <td>i need 2 more followers to reach 250 ... please help me i will help you back all the time if you ask :)</td>\n",
       "      <td>i need 2 more followers to reach 250 ... please help me i will help you back all the time if you ask :)</td>\n",
       "      <td>0</td>\n",
       "      <td>No\\n\\nErrors found:\\n1. \"2\" should be written as \"two.\"\\n2. The ellipsis should have a space before and after it.</td>\n",
       "    </tr>\n",
       "    <tr>\n",
       "      <th>50237</th>\n",
       "      <td>50237</td>\n",
       "      <td>school starts tomorrow ... omg :(</td>\n",
       "      <td>school starts tomorrow ... omg :(</td>\n",
       "      <td>1</td>\n",
       "      <td>NaN</td>\n",
       "    </tr>\n",
       "    <tr>\n",
       "      <th>50238</th>\n",
       "      <td>50238</td>\n",
       "      <td>you make me love youuu (:</td>\n",
       "      <td>you make me love youuu (:</td>\n",
       "      <td>1</td>\n",
       "      <td>NaN</td>\n",
       "    </tr>\n",
       "    <tr>\n",
       "      <th>50239</th>\n",
       "      <td>50239</td>\n",
       "      <td>follow --&gt; @in_BiEBER_FEVER thx  / danke ;)</td>\n",
       "      <td>follow --&gt; @in_BiEBER_FEVER thx  / danke ;)</td>\n",
       "      <td>1</td>\n",
       "      <td>NaN</td>\n",
       "    </tr>\n",
       "  </tbody>\n",
       "</table>\n",
       "<p>50240 rows × 5 columns</p>\n",
       "</div>"
      ],
      "text/plain": [
       "       index  \\\n",
       "0          0   \n",
       "1          1   \n",
       "2          2   \n",
       "3          3   \n",
       "4          4   \n",
       "...      ...   \n",
       "50235  50235   \n",
       "50236  50236   \n",
       "50237  50237   \n",
       "50238  50238   \n",
       "50239  50239   \n",
       "\n",
       "                                                                                                          text  \\\n",
       "0                                                      @thediscovietnam coo.  thanks. just dropped you a line.   \n",
       "1                                     @thediscovietnam shit it ain't lettin me DM you back, what's your email?   \n",
       "2                                                   @thediscovietnam hey cody, quick question...can you dm me?   \n",
       "3                                           @smokinvinyl dang.  you need anything?  I got some left over meds!   \n",
       "4                       maybe i'm late in the game on this one, but this lowender vst is making my apt rumble!   \n",
       "...                                                                                                        ...   \n",
       "50235                                                          please follow --> @in_BiEBER_FEVER  now! thy (:   \n",
       "50236  i need 2 more followers to reach 250 ... please help me i will help you back all the time if you ask :)   \n",
       "50237                                                                        school starts tomorrow ... omg :(   \n",
       "50238                                                                                you make me love youuu (:   \n",
       "50239                                                              follow --> @in_BiEBER_FEVER thx  / danke ;)   \n",
       "\n",
       "                                                                                                    clean_text  \\\n",
       "0                                                      @thediscovietnam coo.  thanks. just dropped you a line.   \n",
       "1                                     @thediscovietnam shit it ain't lettin me DM you back, what's your email?   \n",
       "2                                                   @thediscovietnam hey cody, quick question...can you dm me?   \n",
       "3                                           @smokinvinyl dang.  you need anything?  I got some left over meds!   \n",
       "4                       maybe i'm late in the game on this one, but this lowender vst is making my apt rumble!   \n",
       "...                                                                                                        ...   \n",
       "50235                                                          please follow --> @in_BiEBER_FEVER  now! thy (:   \n",
       "50236  i need 2 more followers to reach 250 ... please help me i will help you back all the time if you ask :)   \n",
       "50237                                                                        school starts tomorrow ... omg :(   \n",
       "50238                                                                                you make me love youuu (:   \n",
       "50239                                                              follow --> @in_BiEBER_FEVER thx  / danke ;)   \n",
       "\n",
       "       classification  \\\n",
       "0                   1   \n",
       "1                   1   \n",
       "2                   1   \n",
       "3                   0   \n",
       "4                   1   \n",
       "...               ...   \n",
       "50235               0   \n",
       "50236               0   \n",
       "50237               1   \n",
       "50238               1   \n",
       "50239               1   \n",
       "\n",
       "                                                                                                                                                                                             error  \n",
       "0                                                                                                                                                                                              NaN  \n",
       "1                                                                                                                                                                                              NaN  \n",
       "2                                                                                                                                                                                              NaN  \n",
       "3                                                                                                                          No\\n\\nThe message contains a missing period at the end of the sentence.  \n",
       "4                                                                                                                                                                                              NaN  \n",
       "...                                                                                                                                                                                            ...  \n",
       "50235  No, there are a few errors in the message:\\n1. The correct spelling is \"please follow --> @in_BiEBER_FEVER now! Thanks (:\"\\n2. \"thy\" should be \"Thanks\" for better clarity and correctness.  \n",
       "50236                                                                            No\\n\\nErrors found:\\n1. \"2\" should be written as \"two.\"\\n2. The ellipsis should have a space before and after it.  \n",
       "50237                                                                                                                                                                                          NaN  \n",
       "50238                                                                                                                                                                                          NaN  \n",
       "50239                                                                                                                                                                                          NaN  \n",
       "\n",
       "[50240 rows x 5 columns]"
      ]
     },
     "execution_count": 3,
     "metadata": {},
     "output_type": "execute_result"
    }
   ],
   "source": [
    "# First, working on the DS after classificaiton by LLM\n",
    "\n",
    "csv_file_path = '../data/raw_train_tweets_classified_open_ai.csv'\n",
    "df = pd.read_csv(csv_file_path)\n",
    "df"
   ]
  },
  {
   "cell_type": "code",
   "execution_count": 4,
   "metadata": {},
   "outputs": [],
   "source": [
    "# Working with html decoded text only\n",
    "df.drop('text', axis=1, inplace=True)"
   ]
  },
  {
   "cell_type": "code",
   "execution_count": 5,
   "metadata": {},
   "outputs": [],
   "source": [
    "# Index is not needed now\n",
    "df.drop('index', axis=1, inplace=True)"
   ]
  },
  {
   "cell_type": "code",
   "execution_count": 6,
   "metadata": {},
   "outputs": [
    {
     "data": {
      "text/plain": [
       "False"
      ]
     },
     "execution_count": 6,
     "metadata": {},
     "output_type": "execute_result"
    }
   ],
   "source": [
    "# classification - checking with some issues there\n",
    "(~df['classification'].isin([0, 1])).any()"
   ]
  },
  {
   "cell_type": "code",
   "execution_count": 7,
   "metadata": {},
   "outputs": [
    {
     "data": {
      "text/html": [
       "<div>\n",
       "<style scoped>\n",
       "    .dataframe tbody tr th:only-of-type {\n",
       "        vertical-align: middle;\n",
       "    }\n",
       "\n",
       "    .dataframe tbody tr th {\n",
       "        vertical-align: top;\n",
       "    }\n",
       "\n",
       "    .dataframe thead th {\n",
       "        text-align: right;\n",
       "    }\n",
       "</style>\n",
       "<table border=\"1\" class=\"dataframe\">\n",
       "  <thead>\n",
       "    <tr style=\"text-align: right;\">\n",
       "      <th></th>\n",
       "      <th>clean_text</th>\n",
       "      <th>classification</th>\n",
       "      <th>error</th>\n",
       "    </tr>\n",
       "  </thead>\n",
       "  <tbody>\n",
       "    <tr>\n",
       "      <th>39833</th>\n",
       "      <td>RT @lizluvsJK: http://twitpic.com/pk8fc - Apparently he DOES have a watch! LMAO!</td>\n",
       "      <td>1</td>\n",
       "      <td>NaN</td>\n",
       "    </tr>\n",
       "    <tr>\n",
       "      <th>25889</th>\n",
       "      <td>In the same room as the US Attorney General</td>\n",
       "      <td>1</td>\n",
       "      <td>NaN</td>\n",
       "    </tr>\n",
       "    <tr>\n",
       "      <th>17437</th>\n",
       "      <td>@beneubanks @karla_porter Being left handed from birth = cool. Being left handed from my advanced age = sad - just sad. :)</td>\n",
       "      <td>1</td>\n",
       "      <td>NaN</td>\n",
       "    </tr>\n",
       "    <tr>\n",
       "      <th>26306</th>\n",
       "      <td>By sheer coincidence, I just read Lynne Olson's great Citizens of London &amp; am reading Stavan's Garcia Marquez bio. See today's SA for ARCs.</td>\n",
       "      <td>1</td>\n",
       "      <td>NaN</td>\n",
       "    </tr>\n",
       "    <tr>\n",
       "      <th>38835</th>\n",
       "      <td>#songsyoudontwanttohearinjail All That I Got Is U - Ghostface killah..... #DamnThisshitisgettingdepressionimnevercomingbacc</td>\n",
       "      <td>0</td>\n",
       "      <td>No\\n\\nErrors found:\\n1. \"hearinjail\" should be \"hear in jail.\"\\n2. \"DamnThisshitisgettingdepressionimnevercomingbacc\" should be \"Damn, this shit is getting depressing. I'm never coming back.\"</td>\n",
       "    </tr>\n",
       "  </tbody>\n",
       "</table>\n",
       "</div>"
      ],
      "text/plain": [
       "                                                                                                                                        clean_text  \\\n",
       "39833                                                             RT @lizluvsJK: http://twitpic.com/pk8fc - Apparently he DOES have a watch! LMAO!   \n",
       "25889                                                                                                  In the same room as the US Attorney General   \n",
       "17437                   @beneubanks @karla_porter Being left handed from birth = cool. Being left handed from my advanced age = sad - just sad. :)   \n",
       "26306  By sheer coincidence, I just read Lynne Olson's great Citizens of London & am reading Stavan's Garcia Marquez bio. See today's SA for ARCs.   \n",
       "38835                  #songsyoudontwanttohearinjail All That I Got Is U - Ghostface killah..... #DamnThisshitisgettingdepressionimnevercomingbacc   \n",
       "\n",
       "       classification  \\\n",
       "39833               1   \n",
       "25889               1   \n",
       "17437               1   \n",
       "26306               1   \n",
       "38835               0   \n",
       "\n",
       "                                                                                                                                                                                                 error  \n",
       "39833                                                                                                                                                                                              NaN  \n",
       "25889                                                                                                                                                                                              NaN  \n",
       "17437                                                                                                                                                                                              NaN  \n",
       "26306                                                                                                                                                                                              NaN  \n",
       "38835  No\\n\\nErrors found:\\n1. \"hearinjail\" should be \"hear in jail.\"\\n2. \"DamnThisshitisgettingdepressionimnevercomingbacc\" should be \"Damn, this shit is getting depressing. I'm never coming back.\"  "
      ]
     },
     "execution_count": 7,
     "metadata": {},
     "output_type": "execute_result"
    }
   ],
   "source": [
    "# check the df\n",
    "rand_lines = df.sample(5)\n",
    "rand_lines"
   ]
  },
  {
   "cell_type": "code",
   "execution_count": 8,
   "metadata": {},
   "outputs": [
    {
     "data": {
      "text/plain": [
       "39407"
      ]
     },
     "execution_count": 8,
     "metadata": {},
     "output_type": "execute_result"
    }
   ],
   "source": [
    "# check classification = 1\n",
    "count_cells_value_1 = (df['classification'] == 1).sum()\n",
    "count_cells_value_1"
   ]
  },
  {
   "cell_type": "code",
   "execution_count": 9,
   "metadata": {},
   "outputs": [
    {
     "data": {
      "text/plain": [
       "10833"
      ]
     },
     "execution_count": 9,
     "metadata": {},
     "output_type": "execute_result"
    }
   ],
   "source": [
    "# check classification = 0\n",
    "count_cells_value_0 = (df['classification'] == 0).sum()\n",
    "count_cells_value_0"
   ]
  },
  {
   "cell_type": "code",
   "execution_count": 10,
   "metadata": {},
   "outputs": [
    {
     "data": {
      "text/plain": [
       "True"
      ]
     },
     "execution_count": 10,
     "metadata": {},
     "output_type": "execute_result"
    }
   ],
   "source": [
    "# making sure nothing slipped\n",
    "count_cells_value_0 + count_cells_value_1 == len(df)"
   ]
  },
  {
   "cell_type": "code",
   "execution_count": 11,
   "metadata": {},
   "outputs": [
    {
     "data": {
      "text/plain": [
       "1055"
      ]
     },
     "execution_count": 11,
     "metadata": {},
     "output_type": "execute_result"
    }
   ],
   "source": [
    "# fix classification - first issue, model say \"yes\" instead of yes\n",
    "filtered_rows_corrected = df[df['error'].str[:10].str.lower().str.contains('yes', na=False)]\n",
    "len(filtered_rows_corrected)"
   ]
  },
  {
   "cell_type": "code",
   "execution_count": 12,
   "metadata": {},
   "outputs": [
    {
     "data": {
      "text/html": [
       "<div>\n",
       "<style scoped>\n",
       "    .dataframe tbody tr th:only-of-type {\n",
       "        vertical-align: middle;\n",
       "    }\n",
       "\n",
       "    .dataframe tbody tr th {\n",
       "        vertical-align: top;\n",
       "    }\n",
       "\n",
       "    .dataframe thead th {\n",
       "        text-align: right;\n",
       "    }\n",
       "</style>\n",
       "<table border=\"1\" class=\"dataframe\">\n",
       "  <thead>\n",
       "    <tr style=\"text-align: right;\">\n",
       "      <th></th>\n",
       "      <th>clean_text</th>\n",
       "      <th>classification</th>\n",
       "      <th>error</th>\n",
       "    </tr>\n",
       "  </thead>\n",
       "  <tbody>\n",
       "    <tr>\n",
       "      <th>18648</th>\n",
       "      <td>@cassie03carlson very good! how is yours?</td>\n",
       "      <td>0</td>\n",
       "      <td>\"Yes\"</td>\n",
       "    </tr>\n",
       "    <tr>\n",
       "      <th>19912</th>\n",
       "      <td>Pick #3... @Gatorade &amp; #MJGMoments</td>\n",
       "      <td>0</td>\n",
       "      <td>\"Yes\"</td>\n",
       "    </tr>\n",
       "    <tr>\n",
       "      <th>7190</th>\n",
       "      <td>Check out Jakes new Blog</td>\n",
       "      <td>0</td>\n",
       "      <td>\"Yes\"</td>\n",
       "    </tr>\n",
       "    <tr>\n",
       "      <th>40616</th>\n",
       "      <td>@jasooo you should give up</td>\n",
       "      <td>0</td>\n",
       "      <td>\"Yes\"</td>\n",
       "    </tr>\n",
       "    <tr>\n",
       "      <th>25221</th>\n",
       "      <td>@abkap12 Bonnie?</td>\n",
       "      <td>0</td>\n",
       "      <td>\"Yes\"</td>\n",
       "    </tr>\n",
       "  </tbody>\n",
       "</table>\n",
       "</div>"
      ],
      "text/plain": [
       "                                      clean_text  classification  error\n",
       "18648  @cassie03carlson very good! how is yours?               0  \"Yes\"\n",
       "19912         Pick #3... @Gatorade & #MJGMoments               0  \"Yes\"\n",
       "7190                    Check out Jakes new Blog               0  \"Yes\"\n",
       "40616                 @jasooo you should give up               0  \"Yes\"\n",
       "25221                           @abkap12 Bonnie?               0  \"Yes\""
      ]
     },
     "execution_count": 12,
     "metadata": {},
     "output_type": "execute_result"
    }
   ],
   "source": [
    "filtered_rows_corrected.sample(5)"
   ]
  },
  {
   "cell_type": "code",
   "execution_count": 13,
   "metadata": {},
   "outputs": [],
   "source": [
    "# safe to update thos lines to classificaiton = 1 and delete the error\n",
    "condition = df['error'].str[:10].str.lower().str.contains('yes', na=False)\n",
    "df.loc[condition, 'classification'] = 1\n",
    "df.loc[condition, 'error'] = ''"
   ]
  },
  {
   "cell_type": "code",
   "execution_count": 14,
   "metadata": {},
   "outputs": [
    {
     "data": {
      "text/plain": [
       "319"
      ]
     },
     "execution_count": 14,
     "metadata": {},
     "output_type": "execute_result"
    }
   ],
   "source": [
    "# fix classification - no errors\n",
    "filtered_rows_corrected = df[df['error'].str[:10].str.lower().str.contains('no errors', na=False)]\n",
    "len(filtered_rows_corrected)"
   ]
  },
  {
   "cell_type": "code",
   "execution_count": 15,
   "metadata": {},
   "outputs": [
    {
     "data": {
      "text/html": [
       "<div>\n",
       "<style scoped>\n",
       "    .dataframe tbody tr th:only-of-type {\n",
       "        vertical-align: middle;\n",
       "    }\n",
       "\n",
       "    .dataframe tbody tr th {\n",
       "        vertical-align: top;\n",
       "    }\n",
       "\n",
       "    .dataframe thead th {\n",
       "        text-align: right;\n",
       "    }\n",
       "</style>\n",
       "<table border=\"1\" class=\"dataframe\">\n",
       "  <thead>\n",
       "    <tr style=\"text-align: right;\">\n",
       "      <th></th>\n",
       "      <th>clean_text</th>\n",
       "      <th>classification</th>\n",
       "      <th>error</th>\n",
       "    </tr>\n",
       "  </thead>\n",
       "  <tbody>\n",
       "    <tr>\n",
       "      <th>11916</th>\n",
       "      <td>San Carlos inventory has dropped back down (now at 70). In the last week, 7 homes were listed &amp; 6 went sale pending. Count for th's &amp; co ...</td>\n",
       "      <td>0</td>\n",
       "      <td>No errors found. \"San Carlos inventory has dropped back down (now at 70). In the last week, 7 homes were listed &amp; 6 went sale pending. Count for th's &amp; co ...\" is correct.</td>\n",
       "    </tr>\n",
       "    <tr>\n",
       "      <th>40802</th>\n",
       "      <td>RT @youthbasketball PLEASE RT: post \"23\" if you think Michael Jordan is the best player ever. Let's see how many we can get to TWEET this..</td>\n",
       "      <td>0</td>\n",
       "      <td>No errors.</td>\n",
       "    </tr>\n",
       "    <tr>\n",
       "      <th>19666</th>\n",
       "      <td>CFTC Head Shifts View on Swaps: The head of the CFTC will support giving federal regulators, and not clearingho.. http://bit.ly/37SwC1</td>\n",
       "      <td>0</td>\n",
       "      <td>No errors found. \"yes\"</td>\n",
       "    </tr>\n",
       "    <tr>\n",
       "      <th>9594</th>\n",
       "      <td>If you have no idea how good unexpected money looks when it hits your account you need to see this http://QuitYourJobSoon.info</td>\n",
       "      <td>0</td>\n",
       "      <td>No errors found.</td>\n",
       "    </tr>\n",
       "    <tr>\n",
       "      <th>33486</th>\n",
       "      <td>New listing tweet tool just out of our labs publishes your listings automatically need a realtor for beta, Direct Message me if interested</td>\n",
       "      <td>0</td>\n",
       "      <td>\"No errors found. The message adheres to standard spelling and grammar rules.\"</td>\n",
       "    </tr>\n",
       "  </tbody>\n",
       "</table>\n",
       "</div>"
      ],
      "text/plain": [
       "                                                                                                                                         clean_text  \\\n",
       "11916  San Carlos inventory has dropped back down (now at 70). In the last week, 7 homes were listed & 6 went sale pending. Count for th's & co ...   \n",
       "40802   RT @youthbasketball PLEASE RT: post \"23\" if you think Michael Jordan is the best player ever. Let's see how many we can get to TWEET this..   \n",
       "19666        CFTC Head Shifts View on Swaps: The head of the CFTC will support giving federal regulators, and not clearingho.. http://bit.ly/37SwC1   \n",
       "9594                 If you have no idea how good unexpected money looks when it hits your account you need to see this http://QuitYourJobSoon.info   \n",
       "33486    New listing tweet tool just out of our labs publishes your listings automatically need a realtor for beta, Direct Message me if interested   \n",
       "\n",
       "       classification  \\\n",
       "11916               0   \n",
       "40802               0   \n",
       "19666               0   \n",
       "9594                0   \n",
       "33486               0   \n",
       "\n",
       "                                                                                                                                                                             error  \n",
       "11916  No errors found. \"San Carlos inventory has dropped back down (now at 70). In the last week, 7 homes were listed & 6 went sale pending. Count for th's & co ...\" is correct.  \n",
       "40802                                                                                                                                                                   No errors.  \n",
       "19666                                                                                                                                                       No errors found. \"yes\"  \n",
       "9594                                                                                                                                                              No errors found.  \n",
       "33486                                                                                               \"No errors found. The message adheres to standard spelling and grammar rules.\"  "
      ]
     },
     "execution_count": 15,
     "metadata": {},
     "output_type": "execute_result"
    }
   ],
   "source": [
    "filtered_rows_corrected.sample(5)"
   ]
  },
  {
   "cell_type": "code",
   "execution_count": 16,
   "metadata": {},
   "outputs": [
    {
     "data": {
      "text/plain": [
       "208"
      ]
     },
     "execution_count": 16,
     "metadata": {},
     "output_type": "execute_result"
    }
   ],
   "source": [
    "# specific for 'no errors found.\"\"\n",
    "filtered_rows_corrected = df[df['error'].str[:20].str.lower().str.contains('no errors found.', na=False)]\n",
    "len(filtered_rows_corrected)"
   ]
  },
  {
   "cell_type": "code",
   "execution_count": 17,
   "metadata": {},
   "outputs": [
    {
     "data": {
      "text/html": [
       "<div>\n",
       "<style scoped>\n",
       "    .dataframe tbody tr th:only-of-type {\n",
       "        vertical-align: middle;\n",
       "    }\n",
       "\n",
       "    .dataframe tbody tr th {\n",
       "        vertical-align: top;\n",
       "    }\n",
       "\n",
       "    .dataframe thead th {\n",
       "        text-align: right;\n",
       "    }\n",
       "</style>\n",
       "<table border=\"1\" class=\"dataframe\">\n",
       "  <thead>\n",
       "    <tr style=\"text-align: right;\">\n",
       "      <th></th>\n",
       "      <th>clean_text</th>\n",
       "      <th>classification</th>\n",
       "      <th>error</th>\n",
       "    </tr>\n",
       "  </thead>\n",
       "  <tbody>\n",
       "    <tr>\n",
       "      <th>486</th>\n",
       "      <td>New &amp; improved Trazzler recommendations, where we delve into your Travel Personality, is live (blog.trazzler.com/. Would love your feedback</td>\n",
       "      <td>0</td>\n",
       "      <td>\"No errors found. The message adheres to standard spelling and grammar rules.\"</td>\n",
       "    </tr>\n",
       "    <tr>\n",
       "      <th>27087</th>\n",
       "      <td>grilled or fried KFC chicken? $100 just if you vote. i can't wait for the gift checks! http://wholeurl.com/kfc</td>\n",
       "      <td>0</td>\n",
       "      <td>No errors found.</td>\n",
       "    </tr>\n",
       "    <tr>\n",
       "      <th>17229</th>\n",
       "      <td>never say 'yes' when your wife wants to write a biography on you. http://is.gd/4UwMl I seriously pity Om Puri.</td>\n",
       "      <td>0</td>\n",
       "      <td>No errors found.</td>\n",
       "    </tr>\n",
       "    <tr>\n",
       "      <th>24126</th>\n",
       "      <td>Rare white aligaror delivers a giant turtle a rare kick to the head. http://yfrog.com/0c7pkj</td>\n",
       "      <td>0</td>\n",
       "      <td>\"No errors found. The tweet adheres to standard spelling and grammar rules.\"</td>\n",
       "    </tr>\n",
       "    <tr>\n",
       "      <th>22674</th>\n",
       "      <td>Thank you to who ever threw the toilet paper all over the bathroom</td>\n",
       "      <td>0</td>\n",
       "      <td>No errors found. \"Thank you to whoever threw the toilet paper all over the bathroom.\" - This message is correct.</td>\n",
       "    </tr>\n",
       "  </tbody>\n",
       "</table>\n",
       "</div>"
      ],
      "text/plain": [
       "                                                                                                                                        clean_text  \\\n",
       "486    New & improved Trazzler recommendations, where we delve into your Travel Personality, is live (blog.trazzler.com/. Would love your feedback   \n",
       "27087                               grilled or fried KFC chicken? $100 just if you vote. i can't wait for the gift checks! http://wholeurl.com/kfc   \n",
       "17229                               never say 'yes' when your wife wants to write a biography on you. http://is.gd/4UwMl I seriously pity Om Puri.   \n",
       "24126                                                 Rare white aligaror delivers a giant turtle a rare kick to the head. http://yfrog.com/0c7pkj   \n",
       "22674                                                                           Thank you to who ever threw the toilet paper all over the bathroom   \n",
       "\n",
       "       classification  \\\n",
       "486                 0   \n",
       "27087               0   \n",
       "17229               0   \n",
       "24126               0   \n",
       "22674               0   \n",
       "\n",
       "                                                                                                                  error  \n",
       "486                                      \"No errors found. The message adheres to standard spelling and grammar rules.\"  \n",
       "27087                                                                                                  No errors found.  \n",
       "17229                                                                                                  No errors found.  \n",
       "24126                                      \"No errors found. The tweet adheres to standard spelling and grammar rules.\"  \n",
       "22674  No errors found. \"Thank you to whoever threw the toilet paper all over the bathroom.\" - This message is correct.  "
      ]
     },
     "execution_count": 17,
     "metadata": {},
     "output_type": "execute_result"
    }
   ],
   "source": [
    "filtered_rows_corrected.sample(5)"
   ]
  },
  {
   "cell_type": "code",
   "execution_count": 18,
   "metadata": {},
   "outputs": [],
   "source": [
    "# safe to update lines to classificaiton = 1 and delete the error\n",
    "condition = df['error'].str[:20].str.lower().str.contains('no errors found.', na=False)\n",
    "df.loc[condition, 'classification'] = 1\n",
    "df.loc[condition, 'error'] = ''"
   ]
  },
  {
   "cell_type": "code",
   "execution_count": 19,
   "metadata": {},
   "outputs": [
    {
     "data": {
      "text/plain": [
       "0"
      ]
     },
     "execution_count": 19,
     "metadata": {},
     "output_type": "execute_result"
    }
   ],
   "source": [
    "filtered_rows_corrected = df[df['error'].str[:20].str.lower().str.contains('no errors found.', na=False)]\n",
    "len(filtered_rows_corrected)"
   ]
  },
  {
   "cell_type": "code",
   "execution_count": 20,
   "metadata": {},
   "outputs": [
    {
     "data": {
      "text/plain": [
       "111"
      ]
     },
     "execution_count": 20,
     "metadata": {},
     "output_type": "execute_result"
    }
   ],
   "source": [
    "# fix classification - no errors, extra look\n",
    "filtered_rows_corrected = df[df['error'].str[:10].str.lower().str.contains('no errors', na=False)]\n",
    "len(filtered_rows_corrected)"
   ]
  },
  {
   "cell_type": "code",
   "execution_count": 21,
   "metadata": {},
   "outputs": [
    {
     "data": {
      "text/html": [
       "<div>\n",
       "<style scoped>\n",
       "    .dataframe tbody tr th:only-of-type {\n",
       "        vertical-align: middle;\n",
       "    }\n",
       "\n",
       "    .dataframe tbody tr th {\n",
       "        vertical-align: top;\n",
       "    }\n",
       "\n",
       "    .dataframe thead th {\n",
       "        text-align: right;\n",
       "    }\n",
       "</style>\n",
       "<table border=\"1\" class=\"dataframe\">\n",
       "  <thead>\n",
       "    <tr style=\"text-align: right;\">\n",
       "      <th></th>\n",
       "      <th>clean_text</th>\n",
       "      <th>classification</th>\n",
       "      <th>error</th>\n",
       "    </tr>\n",
       "  </thead>\n",
       "  <tbody>\n",
       "    <tr>\n",
       "      <th>49124</th>\n",
       "      <td>#unseenprequels Lilo and Rip</td>\n",
       "      <td>0</td>\n",
       "      <td>\"No errors to correct. The message adheres to standard spelling and grammar rules.\"</td>\n",
       "    </tr>\n",
       "    <tr>\n",
       "      <th>9812</th>\n",
       "      <td>ETS must include agriculture says academic: Professor Sullivan says the initiative could also create extra inco.. http://bit.ly/91zLL1</td>\n",
       "      <td>0</td>\n",
       "      <td>No errors.</td>\n",
       "    </tr>\n",
       "    <tr>\n",
       "      <th>50044</th>\n",
       "      <td>RT @wordspit How do you Have a PerFect week? when @Capcom_unity throws you on their F*&amp;King Blog Front Page. http://bit.ly/1SZjDA</td>\n",
       "      <td>0</td>\n",
       "      <td>No errors.</td>\n",
       "    </tr>\n",
       "    <tr>\n",
       "      <th>45290</th>\n",
       "      <td>Why hasn't anyone launched a Twitter competitor that has no rules and more than 140 characters? Chaos? Anarchy?</td>\n",
       "      <td>0</td>\n",
       "      <td>No errors.</td>\n",
       "    </tr>\n",
       "    <tr>\n",
       "      <th>6042</th>\n",
       "      <td>http://feeds2.feedbu Windows Server 2008 R2 finally gets its day in the sun http://ow.ly/160ub1</td>\n",
       "      <td>0</td>\n",
       "      <td>No errors.</td>\n",
       "    </tr>\n",
       "  </tbody>\n",
       "</table>\n",
       "</div>"
      ],
      "text/plain": [
       "                                                                                                                                   clean_text  \\\n",
       "49124                                                                                                            #unseenprequels Lilo and Rip   \n",
       "9812   ETS must include agriculture says academic: Professor Sullivan says the initiative could also create extra inco.. http://bit.ly/91zLL1   \n",
       "50044       RT @wordspit How do you Have a PerFect week? when @Capcom_unity throws you on their F*&King Blog Front Page. http://bit.ly/1SZjDA   \n",
       "45290                         Why hasn't anyone launched a Twitter competitor that has no rules and more than 140 characters? Chaos? Anarchy?   \n",
       "6042                                          http://feeds2.feedbu Windows Server 2008 R2 finally gets its day in the sun http://ow.ly/160ub1   \n",
       "\n",
       "       classification  \\\n",
       "49124               0   \n",
       "9812                0   \n",
       "50044               0   \n",
       "45290               0   \n",
       "6042                0   \n",
       "\n",
       "                                                                                     error  \n",
       "49124  \"No errors to correct. The message adheres to standard spelling and grammar rules.\"  \n",
       "9812                                                                            No errors.  \n",
       "50044                                                                           No errors.  \n",
       "45290                                                                           No errors.  \n",
       "6042                                                                            No errors.  "
      ]
     },
     "execution_count": 21,
     "metadata": {},
     "output_type": "execute_result"
    }
   ],
   "source": [
    "filtered_rows_corrected.sample(5)"
   ]
  },
  {
   "cell_type": "code",
   "execution_count": 22,
   "metadata": {},
   "outputs": [],
   "source": [
    "# safe to update lines to classificaiton = 1 and delete the error\n",
    "condition = df['error'].str[:20].str.lower().str.contains('no errors were found', na=False)\n",
    "df.loc[condition, 'classification'] = 1\n",
    "df.loc[condition, 'error'] = ''"
   ]
  },
  {
   "cell_type": "code",
   "execution_count": 23,
   "metadata": {},
   "outputs": [
    {
     "data": {
      "text/plain": [
       "493"
      ]
     },
     "execution_count": 23,
     "metadata": {},
     "output_type": "execute_result"
    }
   ],
   "source": [
    "# look for more errors\n",
    "condition = ~df['error'].str.lower().str.startswith('yes', na=False) & ~df['error'].str.lower().str.startswith('no', na=False) & (df['error'] != '')\n",
    "\n",
    "filtered_rows_not_start_with_yes_or_no = df[condition]\n",
    "filtered_df_clean = filtered_rows_not_start_with_yes_or_no.dropna(subset=['error'])\n",
    "len(filtered_df_clean)"
   ]
  },
  {
   "cell_type": "code",
   "execution_count": 24,
   "metadata": {},
   "outputs": [
    {
     "data": {
      "text/html": [
       "<div>\n",
       "<style scoped>\n",
       "    .dataframe tbody tr th:only-of-type {\n",
       "        vertical-align: middle;\n",
       "    }\n",
       "\n",
       "    .dataframe tbody tr th {\n",
       "        vertical-align: top;\n",
       "    }\n",
       "\n",
       "    .dataframe thead th {\n",
       "        text-align: right;\n",
       "    }\n",
       "</style>\n",
       "<table border=\"1\" class=\"dataframe\">\n",
       "  <thead>\n",
       "    <tr style=\"text-align: right;\">\n",
       "      <th></th>\n",
       "      <th>clean_text</th>\n",
       "      <th>classification</th>\n",
       "      <th>error</th>\n",
       "    </tr>\n",
       "  </thead>\n",
       "  <tbody>\n",
       "    <tr>\n",
       "      <th>42280</th>\n",
       "      <td>@jreynoldsvideo Appologies if Sunset looks like poo. I moved to FoCo &amp; haven't been out in more than 2+ months. Let me know how things look.</td>\n",
       "      <td>0</td>\n",
       "      <td>Errors found:\\n1. \"Appologies\" should be \"Apologies.\"\\n2. \"2+\" should be \"2+.\"\\n3. \"Let me know how things look\" is a fragment and could be revised to \"Let me know how things look there.\"\\n\\nResponse: No\\n</td>\n",
       "    </tr>\n",
       "    <tr>\n",
       "      <th>27859</th>\n",
       "      <td>What healthy dishes do u have planned for today to keep u on track with clean eating?</td>\n",
       "      <td>0</td>\n",
       "      <td>\"No, please capitalize the beginning of the sentence: What healthy dishes do you have planned for today to keep you on track with clean eating?\"</td>\n",
       "    </tr>\n",
       "    <tr>\n",
       "      <th>18297</th>\n",
       "      <td>http://tinyurl.com/d9xxhk</td>\n",
       "      <td>0</td>\n",
       "      <td>I'm sorry, but I can't access external links. If you'd like, you can type out the Twitter message here for me to review!</td>\n",
       "    </tr>\n",
       "    <tr>\n",
       "      <th>31690</th>\n",
       "      <td>booked sony.</td>\n",
       "      <td>0</td>\n",
       "      <td>\"No, please capitalize the first letter of the sentence: Booked Sony.\"</td>\n",
       "    </tr>\n",
       "    <tr>\n",
       "      <th>49162</th>\n",
       "      <td>Meat the Parents #cowfilms</td>\n",
       "      <td>0</td>\n",
       "      <td>\"No, the correct spelling is 'Meet the Parents.' Everything else is fine.\"</td>\n",
       "    </tr>\n",
       "  </tbody>\n",
       "</table>\n",
       "</div>"
      ],
      "text/plain": [
       "                                                                                                                                         clean_text  \\\n",
       "42280  @jreynoldsvideo Appologies if Sunset looks like poo. I moved to FoCo & haven't been out in more than 2+ months. Let me know how things look.   \n",
       "27859                                                         What healthy dishes do u have planned for today to keep u on track with clean eating?   \n",
       "18297                                                                                                                     http://tinyurl.com/d9xxhk   \n",
       "31690                                                                                                                                  booked sony.   \n",
       "49162                                                                                                                    Meat the Parents #cowfilms   \n",
       "\n",
       "       classification  \\\n",
       "42280               0   \n",
       "27859               0   \n",
       "18297               0   \n",
       "31690               0   \n",
       "49162               0   \n",
       "\n",
       "                                                                                                                                                                                                               error  \n",
       "42280  Errors found:\\n1. \"Appologies\" should be \"Apologies.\"\\n2. \"2+\" should be \"2+.\"\\n3. \"Let me know how things look\" is a fragment and could be revised to \"Let me know how things look there.\"\\n\\nResponse: No\\n  \n",
       "27859                                                               \"No, please capitalize the beginning of the sentence: What healthy dishes do you have planned for today to keep you on track with clean eating?\"  \n",
       "18297                                                                                       I'm sorry, but I can't access external links. If you'd like, you can type out the Twitter message here for me to review!  \n",
       "31690                                                                                                                                         \"No, please capitalize the first letter of the sentence: Booked Sony.\"  \n",
       "49162                                                                                                                                     \"No, the correct spelling is 'Meet the Parents.' Everything else is fine.\"  "
      ]
     },
     "execution_count": 24,
     "metadata": {},
     "output_type": "execute_result"
    }
   ],
   "source": [
    "filtered_df_clean.sample(5)"
   ]
  },
  {
   "cell_type": "code",
   "execution_count": 25,
   "metadata": {},
   "outputs": [
    {
     "data": {
      "text/plain": [
       "155"
      ]
     },
     "execution_count": 25,
     "metadata": {},
     "output_type": "execute_result"
    }
   ],
   "source": [
    "# last minute error message - 'no, there are no errors'\n",
    "filtered_rows_corrected = df[df['error'].str.lower().str.contains('no, there are no errors', na=False)]\n",
    "len(filtered_rows_corrected)"
   ]
  },
  {
   "cell_type": "code",
   "execution_count": 26,
   "metadata": {},
   "outputs": [],
   "source": [
    "# set to 1, 'no, there are no errors'\n",
    "condition = df['error'].str.lower().str.contains('no, there are no errors', na=False)\n",
    "df.loc[condition, 'classification'] = 1\n",
    "df.loc[condition, 'error'] = ''"
   ]
  },
  {
   "cell_type": "code",
   "execution_count": 27,
   "metadata": {},
   "outputs": [
    {
     "data": {
      "text/html": [
       "<div>\n",
       "<style scoped>\n",
       "    .dataframe tbody tr th:only-of-type {\n",
       "        vertical-align: middle;\n",
       "    }\n",
       "\n",
       "    .dataframe tbody tr th {\n",
       "        vertical-align: top;\n",
       "    }\n",
       "\n",
       "    .dataframe thead th {\n",
       "        text-align: right;\n",
       "    }\n",
       "</style>\n",
       "<table border=\"1\" class=\"dataframe\">\n",
       "  <thead>\n",
       "    <tr style=\"text-align: right;\">\n",
       "      <th></th>\n",
       "      <th>clean_text</th>\n",
       "      <th>classification</th>\n",
       "      <th>error</th>\n",
       "    </tr>\n",
       "  </thead>\n",
       "  <tbody>\n",
       "    <tr>\n",
       "      <th>7949</th>\n",
       "      <td>i hate my sidekick so much.</td>\n",
       "      <td>1</td>\n",
       "      <td>NaN</td>\n",
       "    </tr>\n",
       "    <tr>\n",
       "      <th>4977</th>\n",
       "      <td>home frm practice</td>\n",
       "      <td>1</td>\n",
       "      <td>NaN</td>\n",
       "    </tr>\n",
       "    <tr>\n",
       "      <th>13352</th>\n",
       "      <td>@Isaiah_Thomas2 what's the word! U like what you saw</td>\n",
       "      <td>0</td>\n",
       "      <td>No\\nErrors found: \\n1. \"U\" should be replaced with \"you.\"\\n2. The sentence should end with a question mark, so \"saw\" should be capitalized to \"Saw.\"</td>\n",
       "    </tr>\n",
       "    <tr>\n",
       "      <th>20269</th>\n",
       "      <td>New post: I used to play drums (http://bit.ly/2ChE6m) http://bit.ly/2ChE6m</td>\n",
       "      <td>1</td>\n",
       "      <td>NaN</td>\n",
       "    </tr>\n",
       "    <tr>\n",
       "      <th>39008</th>\n",
       "      <td>Was up Twitter this is miss Hopson baby just on my wat to school to get my learn on... Ready for the DG photoshoot... And done wit the games</td>\n",
       "      <td>0</td>\n",
       "      <td>No\\nErrors found:\\n1. \"Was up\" should be \"What's up.\"\\n2. \"miss Hopson baby\" should be \"Miss Hopson's baby.\"\\n3. \"on my wat\" should be \"on my way.\"\\n4. \"get my learn on\" should be \"get my learn on.\"\\n5. \"wit\" should be \"with.\"\\n6. \"done wit\" should be \"done with.\"</td>\n",
       "    </tr>\n",
       "  </tbody>\n",
       "</table>\n",
       "</div>"
      ],
      "text/plain": [
       "                                                                                                                                         clean_text  \\\n",
       "7949                                                                                                                    i hate my sidekick so much.   \n",
       "4977                                                                                                                              home frm practice   \n",
       "13352                                                                                          @Isaiah_Thomas2 what's the word! U like what you saw   \n",
       "20269                                                                    New post: I used to play drums (http://bit.ly/2ChE6m) http://bit.ly/2ChE6m   \n",
       "39008  Was up Twitter this is miss Hopson baby just on my wat to school to get my learn on... Ready for the DG photoshoot... And done wit the games   \n",
       "\n",
       "       classification  \\\n",
       "7949                1   \n",
       "4977                1   \n",
       "13352               0   \n",
       "20269               1   \n",
       "39008               0   \n",
       "\n",
       "                                                                                                                                                                                                                                                                          error  \n",
       "7949                                                                                                                                                                                                                                                                        NaN  \n",
       "4977                                                                                                                                                                                                                                                                        NaN  \n",
       "13352                                                                                                                      No\\nErrors found: \\n1. \"U\" should be replaced with \"you.\"\\n2. The sentence should end with a question mark, so \"saw\" should be capitalized to \"Saw.\"  \n",
       "20269                                                                                                                                                                                                                                                                       NaN  \n",
       "39008  No\\nErrors found:\\n1. \"Was up\" should be \"What's up.\"\\n2. \"miss Hopson baby\" should be \"Miss Hopson's baby.\"\\n3. \"on my wat\" should be \"on my way.\"\\n4. \"get my learn on\" should be \"get my learn on.\"\\n5. \"wit\" should be \"with.\"\\n6. \"done wit\" should be \"done with.\"  "
      ]
     },
     "execution_count": 27,
     "metadata": {},
     "output_type": "execute_result"
    }
   ],
   "source": [
    "df.sample(5)"
   ]
  },
  {
   "cell_type": "code",
   "execution_count": 28,
   "metadata": {},
   "outputs": [
    {
     "data": {
      "text/plain": [
       "107"
      ]
     },
     "execution_count": 28,
     "metadata": {},
     "output_type": "execute_result"
    }
   ],
   "source": [
    "# fix classification - no errors, extra look\n",
    "filtered_rows_corrected = df[df['error'].str[:10].str.lower().str.contains('no errors', na=False)]\n",
    "len(filtered_rows_corrected)"
   ]
  },
  {
   "cell_type": "code",
   "execution_count": 29,
   "metadata": {},
   "outputs": [
    {
     "data": {
      "text/html": [
       "<div>\n",
       "<style scoped>\n",
       "    .dataframe tbody tr th:only-of-type {\n",
       "        vertical-align: middle;\n",
       "    }\n",
       "\n",
       "    .dataframe tbody tr th {\n",
       "        vertical-align: top;\n",
       "    }\n",
       "\n",
       "    .dataframe thead th {\n",
       "        text-align: right;\n",
       "    }\n",
       "</style>\n",
       "<table border=\"1\" class=\"dataframe\">\n",
       "  <thead>\n",
       "    <tr style=\"text-align: right;\">\n",
       "      <th></th>\n",
       "      <th>clean_text</th>\n",
       "      <th>classification</th>\n",
       "      <th>error</th>\n",
       "    </tr>\n",
       "  </thead>\n",
       "  <tbody>\n",
       "    <tr>\n",
       "      <th>49124</th>\n",
       "      <td>#unseenprequels Lilo and Rip</td>\n",
       "      <td>0</td>\n",
       "      <td>\"No errors to correct. The message adheres to standard spelling and grammar rules.\"</td>\n",
       "    </tr>\n",
       "    <tr>\n",
       "      <th>48323</th>\n",
       "      <td>RT @stevenjmchenry - WATCH THIS! If this doesn't make you think, I don't know what will. - http://bit.ly/2UQ7hd</td>\n",
       "      <td>0</td>\n",
       "      <td>No errors.</td>\n",
       "    </tr>\n",
       "    <tr>\n",
       "      <th>23653</th>\n",
       "      <td>@kieraking hey stranger how r u</td>\n",
       "      <td>0</td>\n",
       "      <td>No errors.</td>\n",
       "    </tr>\n",
       "    <tr>\n",
       "      <th>41051</th>\n",
       "      <td>RT @Grafh BRING THE GOONS OUT THE MIXTAPE FREE D/L HERE: http://bit.ly/7fIHA3 RT @MsLauraSaint</td>\n",
       "      <td>0</td>\n",
       "      <td>No errors.</td>\n",
       "    </tr>\n",
       "    <tr>\n",
       "      <th>28910</th>\n",
       "      <td>@montanadeleon http://twitpic.com/rulda - he the only black dude there and he man they aint lettin him in on the fun type shit</td>\n",
       "      <td>0</td>\n",
       "      <td>No errors.</td>\n",
       "    </tr>\n",
       "  </tbody>\n",
       "</table>\n",
       "</div>"
      ],
      "text/plain": [
       "                                                                                                                           clean_text  \\\n",
       "49124                                                                                                    #unseenprequels Lilo and Rip   \n",
       "48323                 RT @stevenjmchenry - WATCH THIS! If this doesn't make you think, I don't know what will. - http://bit.ly/2UQ7hd   \n",
       "23653                                                                                                 @kieraking hey stranger how r u   \n",
       "41051                                  RT @Grafh BRING THE GOONS OUT THE MIXTAPE FREE D/L HERE: http://bit.ly/7fIHA3 RT @MsLauraSaint   \n",
       "28910  @montanadeleon http://twitpic.com/rulda - he the only black dude there and he man they aint lettin him in on the fun type shit   \n",
       "\n",
       "       classification  \\\n",
       "49124               0   \n",
       "48323               0   \n",
       "23653               0   \n",
       "41051               0   \n",
       "28910               0   \n",
       "\n",
       "                                                                                     error  \n",
       "49124  \"No errors to correct. The message adheres to standard spelling and grammar rules.\"  \n",
       "48323                                                                           No errors.  \n",
       "23653                                                                           No errors.  \n",
       "41051                                                                           No errors.  \n",
       "28910                                                                           No errors.  "
      ]
     },
     "execution_count": 29,
     "metadata": {},
     "output_type": "execute_result"
    }
   ],
   "source": [
    "filtered_rows_corrected.sample(5)"
   ]
  },
  {
   "cell_type": "code",
   "execution_count": 30,
   "metadata": {},
   "outputs": [],
   "source": [
    "# safe to update lines to classificaiton = 1 and delete the error\n",
    "condition = df['error'].str[:20].str.lower().str.contains('no errors.', na=False)\n",
    "df.loc[condition, 'classification'] = 1\n",
    "df.loc[condition, 'error'] = ''"
   ]
  },
  {
   "cell_type": "code",
   "execution_count": 31,
   "metadata": {},
   "outputs": [
    {
     "data": {
      "text/plain": [
       "150"
      ]
     },
     "execution_count": 31,
     "metadata": {},
     "output_type": "execute_result"
    }
   ],
   "source": [
    "# clean_text - have to remove: @ only, singel url - THIS IS DONE IN CORE LEVEL, KEEPING FOR LEGACY ISSUES (older data, OpenAI done in days due to 10k rate limit)\n",
    "condition = df['clean_text'].str.strip().str.startswith('@') & ~df['clean_text'].str.strip().str.contains(' ')\n",
    "at_only_df = df[condition]\n",
    "len(at_only_df)"
   ]
  },
  {
   "cell_type": "code",
   "execution_count": 32,
   "metadata": {},
   "outputs": [
    {
     "data": {
      "text/plain": [
       "150"
      ]
     },
     "execution_count": 32,
     "metadata": {},
     "output_type": "execute_result"
    }
   ],
   "source": [
    "# clean_text - have to remove: @ only, singel url\n",
    "condition = df['clean_text'].str.strip().str.startswith('@') & ~df['clean_text'].str.strip().str.contains(' ')\n",
    "at_only_df = df[condition]\n",
    "len(at_only_df)"
   ]
  },
  {
   "cell_type": "code",
   "execution_count": 33,
   "metadata": {},
   "outputs": [
    {
     "data": {
      "text/html": [
       "<div>\n",
       "<style scoped>\n",
       "    .dataframe tbody tr th:only-of-type {\n",
       "        vertical-align: middle;\n",
       "    }\n",
       "\n",
       "    .dataframe tbody tr th {\n",
       "        vertical-align: top;\n",
       "    }\n",
       "\n",
       "    .dataframe thead th {\n",
       "        text-align: right;\n",
       "    }\n",
       "</style>\n",
       "<table border=\"1\" class=\"dataframe\">\n",
       "  <thead>\n",
       "    <tr style=\"text-align: right;\">\n",
       "      <th></th>\n",
       "      <th>clean_text</th>\n",
       "      <th>classification</th>\n",
       "      <th>error</th>\n",
       "    </tr>\n",
       "  </thead>\n",
       "  <tbody>\n",
       "    <tr>\n",
       "      <th>7132</th>\n",
       "      <td>@jmkbuckley</td>\n",
       "      <td>1</td>\n",
       "      <td>NaN</td>\n",
       "    </tr>\n",
       "    <tr>\n",
       "      <th>9253</th>\n",
       "      <td>@ChrisJohnson28</td>\n",
       "      <td>1</td>\n",
       "      <td>NaN</td>\n",
       "    </tr>\n",
       "    <tr>\n",
       "      <th>7014</th>\n",
       "      <td>@jasonrockwood</td>\n",
       "      <td>0</td>\n",
       "      <td>Please provide a tweet for review.</td>\n",
       "    </tr>\n",
       "    <tr>\n",
       "      <th>7018</th>\n",
       "      <td>@TurkPierson</td>\n",
       "      <td>0</td>\n",
       "      <td>Please provide a tweet for review.</td>\n",
       "    </tr>\n",
       "    <tr>\n",
       "      <th>7115</th>\n",
       "      <td>@josh_barton</td>\n",
       "      <td>0</td>\n",
       "      <td>Please provide a tweet for review.</td>\n",
       "    </tr>\n",
       "  </tbody>\n",
       "</table>\n",
       "</div>"
      ],
      "text/plain": [
       "           clean_text  classification                               error\n",
       "7132     @jmkbuckley                1                                 NaN\n",
       "9253  @ChrisJohnson28               1                                 NaN\n",
       "7014  @jasonrockwood                0  Please provide a tweet for review.\n",
       "7018    @TurkPierson                0  Please provide a tweet for review.\n",
       "7115    @josh_barton                0  Please provide a tweet for review."
      ]
     },
     "execution_count": 33,
     "metadata": {},
     "output_type": "execute_result"
    }
   ],
   "source": [
    "at_only_df.sample(5)"
   ]
  },
  {
   "cell_type": "code",
   "execution_count": 34,
   "metadata": {},
   "outputs": [],
   "source": [
    "# Remove only @att, no need for calssfier here (it will be handled in the pre-process and no need to call model)\n",
    "df = df[~condition]"
   ]
  },
  {
   "cell_type": "code",
   "execution_count": 35,
   "metadata": {},
   "outputs": [
    {
     "data": {
      "text/html": [
       "<div>\n",
       "<style scoped>\n",
       "    .dataframe tbody tr th:only-of-type {\n",
       "        vertical-align: middle;\n",
       "    }\n",
       "\n",
       "    .dataframe tbody tr th {\n",
       "        vertical-align: top;\n",
       "    }\n",
       "\n",
       "    .dataframe thead th {\n",
       "        text-align: right;\n",
       "    }\n",
       "</style>\n",
       "<table border=\"1\" class=\"dataframe\">\n",
       "  <thead>\n",
       "    <tr style=\"text-align: right;\">\n",
       "      <th></th>\n",
       "      <th>clean_text</th>\n",
       "      <th>classification</th>\n",
       "      <th>error</th>\n",
       "    </tr>\n",
       "  </thead>\n",
       "  <tbody>\n",
       "    <tr>\n",
       "      <th>30288</th>\n",
       "      <td>I love/hate college.</td>\n",
       "      <td>1</td>\n",
       "      <td>NaN</td>\n",
       "    </tr>\n",
       "    <tr>\n",
       "      <th>31234</th>\n",
       "      <td>October is Breast Cancer Awareness Month - stay tuned for special \"pink\" offers from JOEL BRASSERIE!</td>\n",
       "      <td>1</td>\n",
       "      <td>NaN</td>\n",
       "    </tr>\n",
       "    <tr>\n",
       "      <th>49875</th>\n",
       "      <td>@Atrios Ancient meme evolves ...\"Where are all the FUNNY women bloggers?\" Pie fight ensues. 3..2..1..</td>\n",
       "      <td>1</td>\n",
       "      <td>NaN</td>\n",
       "    </tr>\n",
       "    <tr>\n",
       "      <th>7342</th>\n",
       "      <td>@printconcierge I'll be seeing you all on Thursday?</td>\n",
       "      <td>1</td>\n",
       "      <td>NaN</td>\n",
       "    </tr>\n",
       "    <tr>\n",
       "      <th>22105</th>\n",
       "      <td>@busymomof_5  Certainly!  My kids and I love that show, too!</td>\n",
       "      <td>1</td>\n",
       "      <td>NaN</td>\n",
       "    </tr>\n",
       "  </tbody>\n",
       "</table>\n",
       "</div>"
      ],
      "text/plain": [
       "                                                                                                  clean_text  \\\n",
       "30288                                                                                   I love/hate college.   \n",
       "31234   October is Breast Cancer Awareness Month - stay tuned for special \"pink\" offers from JOEL BRASSERIE!   \n",
       "49875  @Atrios Ancient meme evolves ...\"Where are all the FUNNY women bloggers?\" Pie fight ensues. 3..2..1..   \n",
       "7342                                                     @printconcierge I'll be seeing you all on Thursday?   \n",
       "22105                                           @busymomof_5  Certainly!  My kids and I love that show, too!   \n",
       "\n",
       "       classification error  \n",
       "30288               1   NaN  \n",
       "31234               1   NaN  \n",
       "49875               1   NaN  \n",
       "7342                1   NaN  \n",
       "22105               1   NaN  "
      ]
     },
     "execution_count": 35,
     "metadata": {},
     "output_type": "execute_result"
    }
   ],
   "source": [
    "df.sample(5)"
   ]
  },
  {
   "cell_type": "code",
   "execution_count": 36,
   "metadata": {},
   "outputs": [
    {
     "data": {
      "text/plain": [
       "0"
      ]
     },
     "execution_count": 36,
     "metadata": {},
     "output_type": "execute_result"
    }
   ],
   "source": [
    "# fix classification - no errors, extra look\n",
    "filtered_rows_corrected = df[df['error'].str[:10].str.lower().str.contains('no errors', na=False)]\n",
    "len(filtered_rows_corrected)"
   ]
  },
  {
   "cell_type": "code",
   "execution_count": 37,
   "metadata": {},
   "outputs": [
    {
     "data": {
      "image/png": "[encoded data removed]",
      "text/plain": [
       "<Figure size 640x480 with 1 Axes>"
      ]
     },
     "metadata": {},
     "output_type": "display_data"
    }
   ],
   "source": [
    "# See what we got\n",
    "classification_counts = df['classification'].value_counts()\n",
    "classification_counts.plot(kind='bar')\n",
    "plt.title('Classification Counts')\n",
    "plt.xlabel('Classification')\n",
    "plt.ylabel('Count')\n",
    "plt.xticks(ticks=[0, 1], labels=['0', '1'], rotation=0) \n",
    "for index, value in enumerate(classification_counts):\n",
    "    plt.text(index, value, str(value), ha='center', va='bottom')\n",
    "plt.show()"
   ]
  },
  {
   "cell_type": "code",
   "execution_count": 38,
   "metadata": {},
   "outputs": [
    {
     "data": {
      "image/png": "[encoded data removed]",
      "text/plain": [
       "<Figure size 640x480 with 1 Axes>"
      ]
     },
     "metadata": {},
     "output_type": "display_data"
    }
   ],
   "source": [
    "classification_counts.plot(kind='pie', autopct='%1.1f%%', startangle=140)\n",
    "plt.title('Classification Distribution')\n",
    "plt.ylabel('')  \n",
    "plt.show()"
   ]
  },
  {
   "cell_type": "code",
   "execution_count": 39,
   "metadata": {},
   "outputs": [
    {
     "data": {
      "text/plain": [
       "50090"
      ]
     },
     "execution_count": 39,
     "metadata": {},
     "output_type": "execute_result"
    }
   ],
   "source": [
    "len(df)"
   ]
  },
  {
   "cell_type": "code",
   "execution_count": 40,
   "metadata": {},
   "outputs": [
    {
     "data": {
      "text/html": [
       "<div>\n",
       "<style scoped>\n",
       "    .dataframe tbody tr th:only-of-type {\n",
       "        vertical-align: middle;\n",
       "    }\n",
       "\n",
       "    .dataframe tbody tr th {\n",
       "        vertical-align: top;\n",
       "    }\n",
       "\n",
       "    .dataframe thead th {\n",
       "        text-align: right;\n",
       "    }\n",
       "</style>\n",
       "<table border=\"1\" class=\"dataframe\">\n",
       "  <thead>\n",
       "    <tr style=\"text-align: right;\">\n",
       "      <th></th>\n",
       "      <th>clean_text</th>\n",
       "      <th>classification</th>\n",
       "      <th>error</th>\n",
       "    </tr>\n",
       "  </thead>\n",
       "  <tbody>\n",
       "    <tr>\n",
       "      <th>434</th>\n",
       "      <td>NBC Studios in New York has lots of security and even more hand sanitizer</td>\n",
       "      <td>1</td>\n",
       "      <td>NaN</td>\n",
       "    </tr>\n",
       "    <tr>\n",
       "      <th>12965</th>\n",
       "      <td>@hharteveldt you know I only speak the truth!!!!</td>\n",
       "      <td>1</td>\n",
       "      <td>NaN</td>\n",
       "    </tr>\n",
       "    <tr>\n",
       "      <th>32953</th>\n",
       "      <td>Ca Del Bosco Prosecco • Italy's dry sparkler tastes like a cool breeze • Say Twitter &amp; 1's on us 2nite on Patio @DakotaJazzClub</td>\n",
       "      <td>1</td>\n",
       "      <td></td>\n",
       "    </tr>\n",
       "    <tr>\n",
       "      <th>16285</th>\n",
       "      <td>@mattcrowning that video is awesome...I loves me some drum corp!</td>\n",
       "      <td>0</td>\n",
       "      <td>No, the correct form is \"I love me some drum corp!\"</td>\n",
       "    </tr>\n",
       "    <tr>\n",
       "      <th>20358</th>\n",
       "      <td>#fundraiser http://bit.ly/dhvTX LAC Silent Auction!Some gr8 items/iew SA Gallery -&gt; http://bit.ly/Qf0UI #dnvrarts Pls RT Bids have started!</td>\n",
       "      <td>0</td>\n",
       "      <td>No, errors found:\\n1. \"gr8\" should be spelled out as \"great.\"\\n2. \"iew\" should be spelled as \"view.\"\\n3. \"Pls\" should be written as \"Please.\"\\n4. \"Bids have started!\" is a sentence fragment and could be improved by adding a subject, such as \"The bids have started!\"</td>\n",
       "    </tr>\n",
       "  </tbody>\n",
       "</table>\n",
       "</div>"
      ],
      "text/plain": [
       "                                                                                                                                        clean_text  \\\n",
       "434                                                                      NBC Studios in New York has lots of security and even more hand sanitizer   \n",
       "12965                                                                                             @hharteveldt you know I only speak the truth!!!!   \n",
       "32953              Ca Del Bosco Prosecco • Italy's dry sparkler tastes like a cool breeze • Say Twitter & 1's on us 2nite on Patio @DakotaJazzClub   \n",
       "16285                                                                             @mattcrowning that video is awesome...I loves me some drum corp!   \n",
       "20358  #fundraiser http://bit.ly/dhvTX LAC Silent Auction!Some gr8 items/iew SA Gallery -> http://bit.ly/Qf0UI #dnvrarts Pls RT Bids have started!   \n",
       "\n",
       "       classification  \\\n",
       "434                 1   \n",
       "12965               1   \n",
       "32953               1   \n",
       "16285               0   \n",
       "20358               0   \n",
       "\n",
       "                                                                                                                                                                                                                                                                           error  \n",
       "434                                                                                                                                                                                                                                                                          NaN  \n",
       "12965                                                                                                                                                                                                                                                                        NaN  \n",
       "32953                                                                                                                                                                                                                                                                             \n",
       "16285                                                                                                                                                                                                                        No, the correct form is \"I love me some drum corp!\"  \n",
       "20358  No, errors found:\\n1. \"gr8\" should be spelled out as \"great.\"\\n2. \"iew\" should be spelled as \"view.\"\\n3. \"Pls\" should be written as \"Please.\"\\n4. \"Bids have started!\" is a sentence fragment and could be improved by adding a subject, such as \"The bids have started!\"  "
      ]
     },
     "execution_count": 40,
     "metadata": {},
     "output_type": "execute_result"
    }
   ],
   "source": [
    "df.sample(5)"
   ]
  },
  {
   "cell_type": "code",
   "execution_count": 41,
   "metadata": {},
   "outputs": [],
   "source": [
    "# Now save to allow model train \n",
    "df.to_csv('../data/clean_train_tweets_classified_open_ai.csv', index=False)"
   ]
  },
  {
   "cell_type": "code",
   "execution_count": null,
   "metadata": {},
   "outputs": [],
   "source": []
  }
 ],
 "metadata": {
  "kernelspec": {
   "display_name": "x_grammar_spelling",
   "language": "python",
   "name": "python3"
  },
  "language_info": {
   "codemirror_mode": {
    "name": "ipython",
    "version": 3
   },
   "file_extension": ".py",
   "mimetype": "text/x-python",
   "name": "python",
   "nbconvert_exporter": "python",
   "pygments_lexer": "ipython3",
   "version": "3.11.8"
  }
 },
 "nbformat": 4,
 "nbformat_minor": 2
}
