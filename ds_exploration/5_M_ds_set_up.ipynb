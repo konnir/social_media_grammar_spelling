{
 "cells": [
  {
   "cell_type": "markdown",
   "metadata": {},
   "source": [
    "### Starting with concat, clean and explore of DS found with 4.5M recods from 2010 (US)"
   ]
  },
  {
   "cell_type": "code",
   "execution_count": 1,
   "metadata": {},
   "outputs": [],
   "source": [
    "import pandas as pd\n",
    "import matplotlib.pyplot as plt\n",
    "import seaborn as sns\n",
    "import emoji\n",
    "import regex\n",
    "import html\n",
    "from collections import Counter"
   ]
  },
  {
   "cell_type": "code",
   "execution_count": 2,
   "metadata": {},
   "outputs": [],
   "source": [
    "pd.set_option('display.max_colwidth', 1500)"
   ]
  },
  {
   "cell_type": "code",
   "execution_count": 3,
   "metadata": {},
   "outputs": [
    {
     "data": {
      "text/plain": [
       "['60730027\\t6320951896\\t@thediscovietnam coo.  thanks. just dropped you a line.\\t2009-12-03 18:41:07\\n',\n",
       " \"60730027\\t6320673258\\t@thediscovietnam shit it ain't lettin me DM you back, what's your email?\\t2009-12-03 18:31:01\\n\",\n",
       " '60730027\\t6319871652\\t@thediscovietnam hey cody, quick question...can you dm me?\\t2009-12-03 18:01:51\\n',\n",
       " '60730027\\t6318151501\\t@smokinvinyl dang.  you need anything?  I got some left over meds!\\t2009-12-03 17:00:16\\n',\n",
       " \"60730027\\t6317932721\\tmaybe i'm late in the game on this one, but this lowender vst is making my apt rumble!\\t2009-12-03 16:52:36\\n\"]"
      ]
     },
     "execution_count": 3,
     "metadata": {},
     "output_type": "execute_result"
    }
   ],
   "source": [
    "# See first line to decide how to tackle the DS\n",
    "file_path = '../X_stuff/5M_Cheng-Caverlee-Lee_2010/training_set_tweets.txt'\n",
    "\n",
    "with open(file_path, 'r') as file:\n",
    "    first_five_lines = [next(file) for _ in range(5)]\n",
    "\n",
    "first_five_lines"
   ]
  },
  {
   "cell_type": "code",
   "execution_count": 4,
   "metadata": {},
   "outputs": [
    {
     "data": {
      "text/html": [
       "<div>\n",
       "<style scoped>\n",
       "    .dataframe tbody tr th:only-of-type {\n",
       "        vertical-align: middle;\n",
       "    }\n",
       "\n",
       "    .dataframe tbody tr th {\n",
       "        vertical-align: top;\n",
       "    }\n",
       "\n",
       "    .dataframe thead th {\n",
       "        text-align: right;\n",
       "    }\n",
       "</style>\n",
       "<table border=\"1\" class=\"dataframe\">\n",
       "  <thead>\n",
       "    <tr style=\"text-align: right;\">\n",
       "      <th></th>\n",
       "      <th>@thediscovietnam coo.  thanks. just dropped you a line.</th>\n",
       "    </tr>\n",
       "  </thead>\n",
       "  <tbody>\n",
       "    <tr>\n",
       "      <th>0</th>\n",
       "      <td>@thediscovietnam shit it ain't lettin me DM you back, what's your email?</td>\n",
       "    </tr>\n",
       "    <tr>\n",
       "      <th>1</th>\n",
       "      <td>@thediscovietnam hey cody, quick question...can you dm me?</td>\n",
       "    </tr>\n",
       "    <tr>\n",
       "      <th>2</th>\n",
       "      <td>@smokinvinyl dang.  you need anything?  I got some left over meds!</td>\n",
       "    </tr>\n",
       "    <tr>\n",
       "      <th>3</th>\n",
       "      <td>maybe i'm late in the game on this one, but this lowender vst is making my apt rumble!</td>\n",
       "    </tr>\n",
       "    <tr>\n",
       "      <th>4</th>\n",
       "      <td>i really hope A.I. makes the most of this second chance in philly. i'm glad he's goin home.</td>\n",
       "    </tr>\n",
       "    <tr>\n",
       "      <th>5</th>\n",
       "      <td>@smokinvinyl danny boy! wanna check out d-nice at the afex 1 year tonight?  we could pre-game at mine and walk over.</td>\n",
       "    </tr>\n",
       "    <tr>\n",
       "      <th>6</th>\n",
       "      <td>...and if you have ppl that you care about, make sure to let them know. life is too short to lose friends over bullshit.  peace and love.</td>\n",
       "    </tr>\n",
       "    <tr>\n",
       "      <th>7</th>\n",
       "      <td>...that shit weighs heavy on me.  take responsibility for your life. I don't blame anyone for where I am in this world...</td>\n",
       "    </tr>\n",
       "    <tr>\n",
       "      <th>8</th>\n",
       "      <td>...including his last failed relationship.  and while I know that none of it is grounded in reality, and I actually am worried about him...</td>\n",
       "    </tr>\n",
       "    <tr>\n",
       "      <th>9</th>\n",
       "      <td>so...I got a string of texts last night from someone I haven't heard from in a long time blaming me for everything wrong with his life...</td>\n",
       "    </tr>\n",
       "  </tbody>\n",
       "</table>\n",
       "</div>"
      ],
      "text/plain": [
       "                                                                                       @thediscovietnam coo.  thanks. just dropped you a line.\n",
       "0                                                                     @thediscovietnam shit it ain't lettin me DM you back, what's your email?\n",
       "1                                                                                   @thediscovietnam hey cody, quick question...can you dm me?\n",
       "2                                                                           @smokinvinyl dang.  you need anything?  I got some left over meds!\n",
       "3                                                       maybe i'm late in the game on this one, but this lowender vst is making my apt rumble!\n",
       "4                                                  i really hope A.I. makes the most of this second chance in philly. i'm glad he's goin home.\n",
       "5                         @smokinvinyl danny boy! wanna check out d-nice at the afex 1 year tonight?  we could pre-game at mine and walk over.\n",
       "6    ...and if you have ppl that you care about, make sure to let them know. life is too short to lose friends over bullshit.  peace and love.\n",
       "7                    ...that shit weighs heavy on me.  take responsibility for your life. I don't blame anyone for where I am in this world...\n",
       "8  ...including his last failed relationship.  and while I know that none of it is grounded in reality, and I actually am worried about him...\n",
       "9    so...I got a string of texts last night from someone I haven't heard from in a long time blaming me for everything wrong with his life..."
      ]
     },
     "execution_count": 4,
     "metadata": {},
     "output_type": "execute_result"
    }
   ],
   "source": [
    "# Try first a mini df sample \n",
    "mini_df = pd.read_csv(file_path, delimiter='\\t', usecols=[2], nrows=10)\n",
    "mini_df"
   ]
  },
  {
   "cell_type": "code",
   "execution_count": 5,
   "metadata": {},
   "outputs": [
    {
     "data": {
      "text/html": [
       "<div>\n",
       "<style scoped>\n",
       "    .dataframe tbody tr th:only-of-type {\n",
       "        vertical-align: middle;\n",
       "    }\n",
       "\n",
       "    .dataframe tbody tr th {\n",
       "        vertical-align: top;\n",
       "    }\n",
       "\n",
       "    .dataframe thead th {\n",
       "        text-align: right;\n",
       "    }\n",
       "</style>\n",
       "<table border=\"1\" class=\"dataframe\">\n",
       "  <thead>\n",
       "    <tr style=\"text-align: right;\">\n",
       "      <th></th>\n",
       "      <th>text</th>\n",
       "    </tr>\n",
       "  </thead>\n",
       "  <tbody>\n",
       "    <tr>\n",
       "      <th>0</th>\n",
       "      <td>@thediscovietnam coo.  thanks. just dropped you a line.</td>\n",
       "    </tr>\n",
       "    <tr>\n",
       "      <th>1</th>\n",
       "      <td>@thediscovietnam shit it ain't lettin me DM you back, what's your email?</td>\n",
       "    </tr>\n",
       "    <tr>\n",
       "      <th>2</th>\n",
       "      <td>@thediscovietnam hey cody, quick question...can you dm me?</td>\n",
       "    </tr>\n",
       "    <tr>\n",
       "      <th>3</th>\n",
       "      <td>@smokinvinyl dang.  you need anything?  I got some left over meds!</td>\n",
       "    </tr>\n",
       "    <tr>\n",
       "      <th>4</th>\n",
       "      <td>maybe i'm late in the game on this one, but this lowender vst is making my apt rumble!</td>\n",
       "    </tr>\n",
       "  </tbody>\n",
       "</table>\n",
       "</div>"
      ],
      "text/plain": [
       "                                                                                     text\n",
       "0                                 @thediscovietnam coo.  thanks. just dropped you a line.\n",
       "1                @thediscovietnam shit it ain't lettin me DM you back, what's your email?\n",
       "2                              @thediscovietnam hey cody, quick question...can you dm me?\n",
       "3                      @smokinvinyl dang.  you need anything?  I got some left over meds!\n",
       "4  maybe i'm late in the game on this one, but this lowender vst is making my apt rumble!"
      ]
     },
     "execution_count": 5,
     "metadata": {},
     "output_type": "execute_result"
    }
   ],
   "source": [
    "# Goint on the full df\n",
    "df = pd.read_csv(file_path, delimiter='\\t', usecols=[2], names=['text'])\n",
    "df.head()"
   ]
  },
  {
   "cell_type": "code",
   "execution_count": 6,
   "metadata": {},
   "outputs": [
    {
     "name": "stdout",
     "output_type": "stream",
     "text": [
      "<class 'pandas.core.frame.DataFrame'>\n",
      "RangeIndex: 3811264 entries, 0 to 3811263\n",
      "Data columns (total 1 columns):\n",
      " #   Column  Dtype \n",
      "---  ------  ----- \n",
      " 0   text    object\n",
      "dtypes: object(1)\n",
      "memory usage: 29.1+ MB\n"
     ]
    }
   ],
   "source": [
    "df.info()"
   ]
  },
  {
   "cell_type": "code",
   "execution_count": 7,
   "metadata": {},
   "outputs": [
    {
     "data": {
      "text/html": [
       "<div>\n",
       "<style scoped>\n",
       "    .dataframe tbody tr th:only-of-type {\n",
       "        vertical-align: middle;\n",
       "    }\n",
       "\n",
       "    .dataframe tbody tr th {\n",
       "        vertical-align: top;\n",
       "    }\n",
       "\n",
       "    .dataframe thead th {\n",
       "        text-align: right;\n",
       "    }\n",
       "</style>\n",
       "<table border=\"1\" class=\"dataframe\">\n",
       "  <thead>\n",
       "    <tr style=\"text-align: right;\">\n",
       "      <th></th>\n",
       "      <th>text</th>\n",
       "    </tr>\n",
       "  </thead>\n",
       "  <tbody>\n",
       "    <tr>\n",
       "      <th>1940251</th>\n",
       "      <td>are you trying to win that $50,000 or a escalade on www.2myparty.com</td>\n",
       "    </tr>\n",
       "    <tr>\n",
       "      <th>3262005</th>\n",
       "      <td>@audioconnell  Are there more #voicetalents than lawyers now?  Ha!</td>\n",
       "    </tr>\n",
       "    <tr>\n",
       "      <th>2857858</th>\n",
       "      <td>Health Tip: \"It's all about the blood\" Cardio, Green foods, drinking water, etc. These all make your blood go...YEA!!</td>\n",
       "    </tr>\n",
       "    <tr>\n",
       "      <th>2961831</th>\n",
       "      <td>More I use Evernote, I think it's one of most innovative &amp; underrated apps ever. More to come in a post. (via @steverubel) - i love it too</td>\n",
       "    </tr>\n",
       "    <tr>\n",
       "      <th>1434746</th>\n",
       "      <td>True originality consists not in a new manner but in a new vision. - Edith Wharton http://tqpage.com/37845</td>\n",
       "    </tr>\n",
       "  </tbody>\n",
       "</table>\n",
       "</div>"
      ],
      "text/plain": [
       "                                                                                                                                               text\n",
       "1940251                                                                        are you trying to win that $50,000 or a escalade on www.2myparty.com\n",
       "3262005                                                                          @audioconnell  Are there more #voicetalents than lawyers now?  Ha!\n",
       "2857858                       Health Tip: \"It's all about the blood\" Cardio, Green foods, drinking water, etc. These all make your blood go...YEA!!\n",
       "2961831  More I use Evernote, I think it's one of most innovative & underrated apps ever. More to come in a post. (via @steverubel) - i love it too\n",
       "1434746                                  True originality consists not in a new manner but in a new vision. - Edith Wharton http://tqpage.com/37845"
      ]
     },
     "execution_count": 7,
     "metadata": {},
     "output_type": "execute_result"
    }
   ],
   "source": [
    "# Try to iterate on the DF few times to get impression \n",
    "random_five_rows = df.sample(n=5)\n",
    "random_five_rows"
   ]
  },
  {
   "cell_type": "code",
   "execution_count": 8,
   "metadata": {},
   "outputs": [
    {
     "data": {
      "text/plain": [
       "text    80807\n",
       "dtype: int64"
      ]
     },
     "execution_count": 8,
     "metadata": {},
     "output_type": "execute_result"
    }
   ],
   "source": [
    "# nulls\n",
    "df.isnull().sum()"
   ]
  },
  {
   "cell_type": "code",
   "execution_count": 9,
   "metadata": {},
   "outputs": [],
   "source": [
    "df.dropna(inplace=True)"
   ]
  },
  {
   "cell_type": "code",
   "execution_count": 10,
   "metadata": {},
   "outputs": [
    {
     "name": "stdout",
     "output_type": "stream",
     "text": [
      "<class 'pandas.core.frame.DataFrame'>\n",
      "Index: 3730457 entries, 0 to 3811262\n",
      "Data columns (total 1 columns):\n",
      " #   Column  Dtype \n",
      "---  ------  ----- \n",
      " 0   text    object\n",
      "dtypes: object(1)\n",
      "memory usage: 56.9+ MB\n"
     ]
    }
   ],
   "source": [
    "df.info()"
   ]
  },
  {
   "cell_type": "code",
   "execution_count": 11,
   "metadata": {},
   "outputs": [
    {
     "data": {
      "text/plain": [
       "119065"
      ]
     },
     "execution_count": 11,
     "metadata": {},
     "output_type": "execute_result"
    }
   ],
   "source": [
    "# Duplicates ?\n",
    "df.duplicated().sum()"
   ]
  },
  {
   "cell_type": "code",
   "execution_count": 12,
   "metadata": {},
   "outputs": [],
   "source": [
    "df.drop_duplicates(inplace=True)"
   ]
  },
  {
   "cell_type": "code",
   "execution_count": 13,
   "metadata": {},
   "outputs": [
    {
     "data": {
      "text/plain": [
       "939"
      ]
     },
     "execution_count": 13,
     "metadata": {},
     "output_type": "execute_result"
    }
   ],
   "source": [
    "# Shorter than 5 characters\n",
    "short_texts = df[df['text'].str.len() < 4]\n",
    "len(short_texts)"
   ]
  },
  {
   "cell_type": "code",
   "execution_count": 14,
   "metadata": {},
   "outputs": [
    {
     "data": {
      "text/html": [
       "<div>\n",
       "<style scoped>\n",
       "    .dataframe tbody tr th:only-of-type {\n",
       "        vertical-align: middle;\n",
       "    }\n",
       "\n",
       "    .dataframe tbody tr th {\n",
       "        vertical-align: top;\n",
       "    }\n",
       "\n",
       "    .dataframe thead th {\n",
       "        text-align: right;\n",
       "    }\n",
       "</style>\n",
       "<table border=\"1\" class=\"dataframe\">\n",
       "  <thead>\n",
       "    <tr style=\"text-align: right;\">\n",
       "      <th></th>\n",
       "      <th>text</th>\n",
       "    </tr>\n",
       "  </thead>\n",
       "  <tbody>\n",
       "    <tr>\n",
       "      <th>3386330</th>\n",
       "      <td>Oh!</td>\n",
       "    </tr>\n",
       "    <tr>\n",
       "      <th>319139</th>\n",
       "      <td>wwe</td>\n",
       "    </tr>\n",
       "    <tr>\n",
       "      <th>1653812</th>\n",
       "      <td>:o)</td>\n",
       "    </tr>\n",
       "    <tr>\n",
       "      <th>78739</th>\n",
       "      <td>!</td>\n",
       "    </tr>\n",
       "    <tr>\n",
       "      <th>3286714</th>\n",
       "      <td>Ok!</td>\n",
       "    </tr>\n",
       "  </tbody>\n",
       "</table>\n",
       "</div>"
      ],
      "text/plain": [
       "        text\n",
       "3386330  Oh!\n",
       "319139   wwe\n",
       "1653812  :o)\n",
       "78739      !\n",
       "3286714  Ok!"
      ]
     },
     "execution_count": 14,
     "metadata": {},
     "output_type": "execute_result"
    }
   ],
   "source": [
    "random_five_rows = short_texts.sample(n=5)\n",
    "random_five_rows"
   ]
  },
  {
   "cell_type": "code",
   "execution_count": 15,
   "metadata": {},
   "outputs": [],
   "source": [
    "# No use to chcek spelling and grammer for 3 characters (from the look of it)\n",
    "df = df[df['text'].str.len() >= 4]"
   ]
  },
  {
   "cell_type": "code",
   "execution_count": 16,
   "metadata": {},
   "outputs": [
    {
     "data": {
      "text/plain": [
       "936"
      ]
     },
     "execution_count": 16,
     "metadata": {},
     "output_type": "execute_result"
    }
   ],
   "source": [
    "# Long texts \n",
    "long_texts = df[df['text'].str.len() > 160]\n",
    "len(long_texts)"
   ]
  },
  {
   "cell_type": "code",
   "execution_count": 17,
   "metadata": {},
   "outputs": [
    {
     "data": {
      "text/html": [
       "<div>\n",
       "<style scoped>\n",
       "    .dataframe tbody tr th:only-of-type {\n",
       "        vertical-align: middle;\n",
       "    }\n",
       "\n",
       "    .dataframe tbody tr th {\n",
       "        vertical-align: top;\n",
       "    }\n",
       "\n",
       "    .dataframe thead th {\n",
       "        text-align: right;\n",
       "    }\n",
       "</style>\n",
       "<table border=\"1\" class=\"dataframe\">\n",
       "  <thead>\n",
       "    <tr style=\"text-align: right;\">\n",
       "      <th></th>\n",
       "      <th>text</th>\n",
       "    </tr>\n",
       "  </thead>\n",
       "  <tbody>\n",
       "    <tr>\n",
       "      <th>3103062</th>\n",
       "      <td>Women facing poverty, oppression, and violence are usually viewed as victims. Nicholas Kristof and Sheryl WuDunn’s... http://bit.ly/txbY1\\t2009-09-18 19:05:21\\r\\n41463973\\t4156030622\\tBill Gates, Sr. gives Kristof's book a rave review! http://bit.ly/dWitK.  Get a ticket for 10/15, get a free copy!  http://bit.ly/35p0Ft\\t2009-09-21 16:30:54\\r\\n41463973\\t4156109288\\tBill Gates, Sr. gives Kristof's book a rave review!... http://bit.ly/2Vp82L\\t2009-09-21 16:34:35\\r\\n41463973\\t4156868254\\tDid you know:  When you sign up for An Evening with Kristof, you get a free copy of his book! Sign up right now!  http://bit.ly/10p1dp\\t2009-09-21 17:10:28\\r\\n41463973\\t4159216222\\tCome to YPIN: Networking Night with special guests, Young European Leaders\" Wednesday, September 30 from 5:00 pm... http://bit.ly/imdww</td>\n",
       "    </tr>\n",
       "    <tr>\n",
       "      <th>1116090</th>\n",
       "      <td>What matters is not how often you are right, but how large your cumulative errors are.” The Black Swan by Nassim Nicholas Taleb.\\t2009-06-07 21:51:58\\r\\n18531704\\t2071737653\\tRT@PARKPLACEMTG Whatever your mind can conceive and can believe, it can achieve. Napoleon Hill</td>\n",
       "    </tr>\n",
       "    <tr>\n",
       "      <th>986226</th>\n",
       "      <td>‘There is no terror in a bang only in the anticipation of it.’  ~ Alfred Hitchcock\\t2009-11-15 12:15:53\\r\\n14986811\\t5740408137\\t@MovieDriver - hey, thanks for the blogroll link :)\\t2009-11-15 11:14:24\\r\\n14986811\\t5698064047\\tI steal from every movie ever made.\" ~ Quentin Tarantino</td>\n",
       "    </tr>\n",
       "    <tr>\n",
       "      <th>287043</th>\n",
       "      <td>Fashion’s fade, style is eternal.” – Yves St. Laurent - www.HAUTESTREET.com\\t2009-11-12 21:53:32\\r\\n57815830\\t5670080552\\tHope everyone had an AMAZING day today!!!!! Haute Street Inc. did!!! &lt;3\\t2009-11-12 21:49:07\\r\\n57815830\\t5668315738\\tFashion’s fade, style is eternal.” – Yves St. Laurent</td>\n",
       "    </tr>\n",
       "    <tr>\n",
       "      <th>1839316</th>\n",
       "      <td>Is it inappropriate or against the AV TOU to post information one has learned about another Av'er th... http://tinyurl.com/yhz37oe\\t2009-11-04 17:00:14\\r\\n20268420\\t5431650969\\tWhat Is Your All Time Favorite Music Group, and Why? http://bit.ly/3aW1pj\\t2009-11-04 16:00:08\\r\\n20268420\\t5430181100\\tHow do I use multiple AMEX gift cards on a new order which costs more than the amount of all the gift cards... http://bit.ly/1K35x4\\t2009-11-04 15:00:13\\r\\n20268420\\t5404373420\\tOkay, let's try this again!  I messed up the joke.  Here goes: http://bit.ly/3QL6Eb\\t2009-11-03 17:00:09\\r\\n20268420\\t5402913875\\tWhich side of a CD or DVD is it safe to write on with a magic marker, the side with the writing or the blan... http://bit.ly/1E1Tcs\\t2009-11-03 16:00:08\\r\\n20268420\\t5401479648\\tHow to create or acquire an ASIN http://bit.ly/AnZo2\\t2009-11-03 15:00:12\\r\\n20268420\\t5375580395\\tDee is sending a message to BosM. http://bit.ly/A0jR4\\t2009-11-02 17:00:12\\r\\n20268420\\t5374141512\\tI'm an actor looking to get into the industry.  What are the steps that I need to take to get there? http://bit.ly/3YyboT\\t2009-11-02 16:00:08\\r\\n20268420\\t5372740507\\tWhere do I get the product info when selling groceries on Amazon? Do I have to enter it? http://bit.ly/3N4pST\\t2009-11-02 15:00:13\\r\\n20268420\\t5348484932\\tInspirational Words of Wisdom......November 1 http://bit.ly/2rcGhc\\t2009-11-01 17:00:10\\r\\n20268420\\t5347235742\\tAnyone have any idea of country song with some lyrics, I've been waiting for ...</td>\n",
       "    </tr>\n",
       "  </tbody>\n",
       "</table>\n",
       "</div>"
      ],
      "text/plain": [
       "                                                                                                                                                                                                                                                                                                                                                                                                                                                                                                                                                                                                                                                                                                                                                                                                                                                                                                                                                                                                                                                                                                                                                                                                                                                                                                                                                                                                                                                                                                                                                                text\n",
       "3103062                                                                                                                                                                                                                                                                                                                                                                                                                                                                                                                                                                                                                                                                                                                        Women facing poverty, oppression, and violence are usually viewed as victims. Nicholas Kristof and Sheryl WuDunn’s... http://bit.ly/txbY1\\t2009-09-18 19:05:21\\r\\n41463973\\t4156030622\\tBill Gates, Sr. gives Kristof's book a rave review! http://bit.ly/dWitK.  Get a ticket for 10/15, get a free copy!  http://bit.ly/35p0Ft\\t2009-09-21 16:30:54\\r\\n41463973\\t4156109288\\tBill Gates, Sr. gives Kristof's book a rave review!... http://bit.ly/2Vp82L\\t2009-09-21 16:34:35\\r\\n41463973\\t4156868254\\tDid you know:  When you sign up for An Evening with Kristof, you get a free copy of his book! Sign up right now!  http://bit.ly/10p1dp\\t2009-09-21 17:10:28\\r\\n41463973\\t4159216222\\tCome to YPIN: Networking Night with special guests, Young European Leaders\" Wednesday, September 30 from 5:00 pm... http://bit.ly/imdww\n",
       "1116090                                                                                                                                                                                                                                                                                                                                                                                                                                                                                                                                                                                                                                                                                                                                                                                                                                                                                                                                                                                                                                                                                                                                                                                                                                                                                What matters is not how often you are right, but how large your cumulative errors are.” The Black Swan by Nassim Nicholas Taleb.\\t2009-06-07 21:51:58\\r\\n18531704\\t2071737653\\tRT@PARKPLACEMTG Whatever your mind can conceive and can believe, it can achieve. Napoleon Hill\n",
       "986226                                                                                                                                                                                                                                                                                                                                                                                                                                                                                                                                                                                                                                                                                                                                                                                                                                                                                                                                                                                                                                                                                                                                                                                                                                                                   ‘There is no terror in a bang only in the anticipation of it.’  ~ Alfred Hitchcock\\t2009-11-15 12:15:53\\r\\n14986811\\t5740408137\\t@MovieDriver - hey, thanks for the blogroll link :)\\t2009-11-15 11:14:24\\r\\n14986811\\t5698064047\\tI steal from every movie ever made.\" ~ Quentin Tarantino\n",
       "287043                                                                                                                                                                                                                                                                                                                                                                                                                                                                                                                                                                                                                                                                                                                                                                                                                                                                                                                                                                                                                                                                                                                                                                                                                                                         Fashion’s fade, style is eternal.” – Yves St. Laurent - www.HAUTESTREET.com\\t2009-11-12 21:53:32\\r\\n57815830\\t5670080552\\tHope everyone had an AMAZING day today!!!!! Haute Street Inc. did!!! <3\\t2009-11-12 21:49:07\\r\\n57815830\\t5668315738\\tFashion’s fade, style is eternal.” – Yves St. Laurent\n",
       "1839316  Is it inappropriate or against the AV TOU to post information one has learned about another Av'er th... http://tinyurl.com/yhz37oe\\t2009-11-04 17:00:14\\r\\n20268420\\t5431650969\\tWhat Is Your All Time Favorite Music Group, and Why? http://bit.ly/3aW1pj\\t2009-11-04 16:00:08\\r\\n20268420\\t5430181100\\tHow do I use multiple AMEX gift cards on a new order which costs more than the amount of all the gift cards... http://bit.ly/1K35x4\\t2009-11-04 15:00:13\\r\\n20268420\\t5404373420\\tOkay, let's try this again!  I messed up the joke.  Here goes: http://bit.ly/3QL6Eb\\t2009-11-03 17:00:09\\r\\n20268420\\t5402913875\\tWhich side of a CD or DVD is it safe to write on with a magic marker, the side with the writing or the blan... http://bit.ly/1E1Tcs\\t2009-11-03 16:00:08\\r\\n20268420\\t5401479648\\tHow to create or acquire an ASIN http://bit.ly/AnZo2\\t2009-11-03 15:00:12\\r\\n20268420\\t5375580395\\tDee is sending a message to BosM. http://bit.ly/A0jR4\\t2009-11-02 17:00:12\\r\\n20268420\\t5374141512\\tI'm an actor looking to get into the industry.  What are the steps that I need to take to get there? http://bit.ly/3YyboT\\t2009-11-02 16:00:08\\r\\n20268420\\t5372740507\\tWhere do I get the product info when selling groceries on Amazon? Do I have to enter it? http://bit.ly/3N4pST\\t2009-11-02 15:00:13\\r\\n20268420\\t5348484932\\tInspirational Words of Wisdom......November 1 http://bit.ly/2rcGhc\\t2009-11-01 17:00:10\\r\\n20268420\\t5347235742\\tAnyone have any idea of country song with some lyrics, I've been waiting for ..."
      ]
     },
     "execution_count": 17,
     "metadata": {},
     "output_type": "execute_result"
    }
   ],
   "source": [
    "random_five_rows = long_texts.sample(n=5)\n",
    "random_five_rows"
   ]
  },
  {
   "cell_type": "code",
   "execution_count": 18,
   "metadata": {},
   "outputs": [
    {
     "data": {
      "text/plain": [
       "506"
      ]
     },
     "execution_count": 18,
     "metadata": {},
     "output_type": "execute_result"
    }
   ],
   "source": [
    "# Too long texts \n",
    "too_long_texts = df[df['text'].str.len() > 500]\n",
    "len(too_long_texts)"
   ]
  },
  {
   "cell_type": "code",
   "execution_count": 19,
   "metadata": {},
   "outputs": [
    {
     "data": {
      "text/html": [
       "<div>\n",
       "<style scoped>\n",
       "    .dataframe tbody tr th:only-of-type {\n",
       "        vertical-align: middle;\n",
       "    }\n",
       "\n",
       "    .dataframe tbody tr th {\n",
       "        vertical-align: top;\n",
       "    }\n",
       "\n",
       "    .dataframe thead th {\n",
       "        text-align: right;\n",
       "    }\n",
       "</style>\n",
       "<table border=\"1\" class=\"dataframe\">\n",
       "  <thead>\n",
       "    <tr style=\"text-align: right;\">\n",
       "      <th></th>\n",
       "      <th>text</th>\n",
       "    </tr>\n",
       "  </thead>\n",
       "  <tbody>\n",
       "    <tr>\n",
       "      <th>2997156</th>\n",
       "      <td>The idea that we need to be the leader is a colonial thought. We need to put that aside and be learners.” Dr. Yborolla  #ats\\t2009-09-17 13:09:00\\r\\n15753922\\t4060866791\\t@exchangedliving @chaddbrooks @mahfrot @jinnthedrummerwhomaynottweetbutisawesomenonetheless you all did sound great! love Jin's user FYI\\t2009-09-17 14:09:00\\r\\n15753922\\t4061024732\\t@jeremiahaja hey bro, what time does the small group meeting start tonight?\\t2009-09-17 14:09:00\\r\\n15753922\\t4068805723\\tRT @MereMawBrooks: If I can't scuba, then what has all this been for?\"</td>\n",
       "    </tr>\n",
       "    <tr>\n",
       "      <th>2824559</th>\n",
       "      <td>Search Twitter and Google simultaneously! http://ow.ly/9uyt #twoogle #search #twitter #google\\t2009-05-27 18:49:47\\r\\n16536621\\t1858576297\\tCould RSS Protect You from a RIF? http://ow.ly/7XCK\\t2009-05-20 07:25:07\\r\\n16536621\\t1851878749\\tJob Outlook 09, Grads, majors in demand? http://ow.ly/7UeQ #jobs #grads #hiring #demand\\t2009-05-19 16:32:05\\r\\n77201112\\t6100556828\\t@Inayah @hoodbooty69 goody goody\\t2009-11-26 20:46:13\\r\\n77201112\\t6100554652\\t@hoodbooty69 goody goody\\t2009-11-26 20:46:07\\r\\n77201112\\t6100394147\\t@hoodbooty69 #4 look like thanxgivin dinner wit all dat meat u can hav leftovas\\t2009-11-26 20:39:18\\r\\n77201112\\t6100360429\\t@denire men don't dance 2 beyonce tell em 2 stop..................LOL\\t2009-11-26 20:37:49\\r\\n77201112\\t6100333691\\t@cherokeedassxxx ABC\\t2009-11-26 20:36:41\\r\\n77201112\\t6100282438\\t@BarackObarbiie i think it's cute\\t2009-11-26 20:34:31\\r\\n77201112\\t6100250014\\t@Thick1017 i think i gain sum in  fingers i'm takin 4 ever 2 type cuz i'm hittin 2 3 at sametime everytime\\t2009-11-26 20:33:08\\r\\n77201112\\t6100133652\\t@Inayah will do\\t2009-11-26 20:28:24\\r\\n77201112\\t6100022304\\t@hoodbooty69 #3 can get smashed all day\\t2009-11-26 20:23:51\\r\\n77201112\\t6100001310\\t@hollyheartxxx wut da hell is a kangaroo mouse\\t2009-11-26 20:23:00\\r\\n77201112\\t6099964834\\t@Thick1017 well then go 2 huggebear.ning.com and listen 2 me get rid of da confusion\\t2009-11-26 20:21:28\\r\\n77201112\\t6099934229\\t@Diamond913 hate 2 c how u talk bout ppl u hate\\t2009-11-26 ...</td>\n",
       "    </tr>\n",
       "    <tr>\n",
       "      <th>2434096</th>\n",
       "      <td>living in the ghetto just to study kings and humanism” , @EatTheCakeNYC #behappy http://hiphop.bandcamp.com\\t2009-09-27 00:51:17\\r\\n17412326\\t4403366812\\t#behappy http://hiphop.bandcamp.com\\t2009-09-26 17:23:34\\r\\n17412326\\t4401994323\\tRT @Jenniferalyse: # FF bmore hip hop @wordsmithmusic @etothemjor @rosettas @bmoreoriginal @the41yo @tislamthegreat @djimpulse @djminusnine\\t2009-09-26 16:08:09\\r\\n17412326\\t4374587300\\tpoor as Edgar Allen, a beggar looking over my shoulder because I know the story of Medgar Evers\", @EatTheCakeNYC http://bit.ly/289pme</td>\n",
       "    </tr>\n",
       "    <tr>\n",
       "      <th>304948</th>\n",
       "      <td>Will men devolve into some type of androgynous creature that can appear either male or female so as to placate the... http://bit.ly/cMEsZ\\t2009-10-20 16:29:50\\r\\n22033957\\t5020976101\\tJim Sedlak on Planned Parenthood's clinical trials on underage girls - Be aware - fight Planned Parenthood:...\\t2009-10-20 10:35:24\\r\\n22033957\\t5018967784\\tHey I think Jill Stanek likes our pumpkin idea! Thanks Jill! http://bit.ly/fl6NF\\t2009-10-20 08:52:30\\r\\n22033957\\t5000636205\\tOne more fan will put us at 700! Will it be you? http://bit.ly/KQ9dG\\t2009-10-19 16:11:47\\r\\n22033957\\t4999479004\\tHalloween Activism Idea - Pro-Life Pumpkins- Spread the message of\\r\\nlife on October 31st by making pro-life... http://bit.ly/H7D9w\\t2009-10-19 15:18:12\\r\\n22033957\\t4991058737\\t@mercyhouseorg @nomorechange @StMichaelSword - thanks for spreading word about Personhood in Michigan! http://all.org/article.php?id=12267\\t2009-10-19 08:40:33\\r\\n22033957\\t4991017906\\tMadrid's pro-life demonstration shocked the world this weekend. The tide is turning for pro-abortion forces in the ... http://bit.ly/HtVHw\\t2009-10-19 08:38:24\\r\\n22033957\\t4966070572\\t23 Michigan state legislators introduce Personhood Amendment to MI state constitution http://all.org/article.php?id=12267\\t2009-10-18 08:26:48\\r\\n78525990\\t5673132797\\t@ReallyIsSimple RT Carrie Prejean has a book?? Seriously? / Unfortunately. Check her out on Larry King: http://bit.ly/2CWrRM\\t2009-11-13 00:29:13\\r\\n78525990\\t5672530984\\tThe 50 best inventions of...</td>\n",
       "    </tr>\n",
       "    <tr>\n",
       "      <th>2565980</th>\n",
       "      <td>Before you can be great, you have to be good - before you can be good, you have to be bad - before you can be bad, you have to DO SOMETHING\\t2009-10-10 18:22:35\\r\\n25020648\\t4742138555\\tBanks Making Short Sale Tougher  http://bit.ly/4rriYS via @addthis\\t2009-10-09 14:11:34\\r\\n25020648\\t4634446986\\tNetworking with Investor Sellers, Investor Buyers and Funding sources to do 6 figure syndication deals.\\t2009-10-05 13:41:03\\r\\n25020648\\t4094527007\\tOnlyWire increases site traffic and search engine index speed http://onlywire.com\\t2009-09-18 21:51:35\\r\\n25020648\\t4085708200\\tCredit Market is getting worse  http://bit.ly/2UPsCF\\t2009-09-18 14:14:55\\r\\n25020648\\t3966364765\\tNeed to SELL your house NOW? We can make CASH offer on your houses for any condition/ reasons.  http://BuyForeclosures-ShortSale.com\\t2009-09-13 19:52:33\\r\\n25020648\\t3937005878\\tCan't believe American Express is asking people to submit tax form,4506T,to conduct a financial review\\t2009-09-12 12:05:52\\r\\n25020648\\t3891631095\\tListing Building Tactic that works Just for Twitter http://bit.ly/TGTMa\\t2009-09-10 12:20:18\\r\\n25020648\\t3743036311\\tPacking and get ready for my 5-day vacation to Portland, OR.\\t2009-09-03 16:59:05\\r\\n25020648\\t3739285381\\tEvery video is like a virtual salesperson that never stops working for you !\\t2009-09-03 13:41:48\\r\\n25020648\\t3642290090\\t@brianedmondson great info\\t2009-08-30 03:39:13\\r\\n25020648\\t3642047266\\tVery talented kid --&gt; Video --&gt; http://bit.ly/RQdoY\\t2009-08-30 03:11:2...</td>\n",
       "    </tr>\n",
       "  </tbody>\n",
       "</table>\n",
       "</div>"
      ],
      "text/plain": [
       "                                                                                                                                                                                                                                                                                                                                                                                                                                                                                                                                                                                                                                                                                                                                                                                                                                                                                                                                                                                                                                                                                                                                                                                                                                                                                                                                                                                                                                                                                                                                                                text\n",
       "2997156                                                                                                                                                                                                                                                                                                                                                                                                                                                                                                                                                                                                                                                                                                                                                                                                                                                                                                                                                                                           The idea that we need to be the leader is a colonial thought. We need to put that aside and be learners.” Dr. Yborolla  #ats\\t2009-09-17 13:09:00\\r\\n15753922\\t4060866791\\t@exchangedliving @chaddbrooks @mahfrot @jinnthedrummerwhomaynottweetbutisawesomenonetheless you all did sound great! love Jin's user FYI\\t2009-09-17 14:09:00\\r\\n15753922\\t4061024732\\t@jeremiahaja hey bro, what time does the small group meeting start tonight?\\t2009-09-17 14:09:00\\r\\n15753922\\t4068805723\\tRT @MereMawBrooks: If I can't scuba, then what has all this been for?\"\n",
       "2824559  Search Twitter and Google simultaneously! http://ow.ly/9uyt #twoogle #search #twitter #google\\t2009-05-27 18:49:47\\r\\n16536621\\t1858576297\\tCould RSS Protect You from a RIF? http://ow.ly/7XCK\\t2009-05-20 07:25:07\\r\\n16536621\\t1851878749\\tJob Outlook 09, Grads, majors in demand? http://ow.ly/7UeQ #jobs #grads #hiring #demand\\t2009-05-19 16:32:05\\r\\n77201112\\t6100556828\\t@Inayah @hoodbooty69 goody goody\\t2009-11-26 20:46:13\\r\\n77201112\\t6100554652\\t@hoodbooty69 goody goody\\t2009-11-26 20:46:07\\r\\n77201112\\t6100394147\\t@hoodbooty69 #4 look like thanxgivin dinner wit all dat meat u can hav leftovas\\t2009-11-26 20:39:18\\r\\n77201112\\t6100360429\\t@denire men don't dance 2 beyonce tell em 2 stop..................LOL\\t2009-11-26 20:37:49\\r\\n77201112\\t6100333691\\t@cherokeedassxxx ABC\\t2009-11-26 20:36:41\\r\\n77201112\\t6100282438\\t@BarackObarbiie i think it's cute\\t2009-11-26 20:34:31\\r\\n77201112\\t6100250014\\t@Thick1017 i think i gain sum in  fingers i'm takin 4 ever 2 type cuz i'm hittin 2 3 at sametime everytime\\t2009-11-26 20:33:08\\r\\n77201112\\t6100133652\\t@Inayah will do\\t2009-11-26 20:28:24\\r\\n77201112\\t6100022304\\t@hoodbooty69 #3 can get smashed all day\\t2009-11-26 20:23:51\\r\\n77201112\\t6100001310\\t@hollyheartxxx wut da hell is a kangaroo mouse\\t2009-11-26 20:23:00\\r\\n77201112\\t6099964834\\t@Thick1017 well then go 2 huggebear.ning.com and listen 2 me get rid of da confusion\\t2009-11-26 20:21:28\\r\\n77201112\\t6099934229\\t@Diamond913 hate 2 c how u talk bout ppl u hate\\t2009-11-26 ...\n",
       "2434096                                                                                                                                                                                                                                                                                                                                                                                                                                                                                                                                                                                                                                                                                                                                                                                                                                                                                                                                                                                  living in the ghetto just to study kings and humanism” , @EatTheCakeNYC #behappy http://hiphop.bandcamp.com\\t2009-09-27 00:51:17\\r\\n17412326\\t4403366812\\t#behappy http://hiphop.bandcamp.com\\t2009-09-26 17:23:34\\r\\n17412326\\t4401994323\\tRT @Jenniferalyse: # FF bmore hip hop @wordsmithmusic @etothemjor @rosettas @bmoreoriginal @the41yo @tislamthegreat @djimpulse @djminusnine\\t2009-09-26 16:08:09\\r\\n17412326\\t4374587300\\tpoor as Edgar Allen, a beggar looking over my shoulder because I know the story of Medgar Evers\", @EatTheCakeNYC http://bit.ly/289pme\n",
       "304948   Will men devolve into some type of androgynous creature that can appear either male or female so as to placate the... http://bit.ly/cMEsZ\\t2009-10-20 16:29:50\\r\\n22033957\\t5020976101\\tJim Sedlak on Planned Parenthood's clinical trials on underage girls - Be aware - fight Planned Parenthood:...\\t2009-10-20 10:35:24\\r\\n22033957\\t5018967784\\tHey I think Jill Stanek likes our pumpkin idea! Thanks Jill! http://bit.ly/fl6NF\\t2009-10-20 08:52:30\\r\\n22033957\\t5000636205\\tOne more fan will put us at 700! Will it be you? http://bit.ly/KQ9dG\\t2009-10-19 16:11:47\\r\\n22033957\\t4999479004\\tHalloween Activism Idea - Pro-Life Pumpkins- Spread the message of\\r\\nlife on October 31st by making pro-life... http://bit.ly/H7D9w\\t2009-10-19 15:18:12\\r\\n22033957\\t4991058737\\t@mercyhouseorg @nomorechange @StMichaelSword - thanks for spreading word about Personhood in Michigan! http://all.org/article.php?id=12267\\t2009-10-19 08:40:33\\r\\n22033957\\t4991017906\\tMadrid's pro-life demonstration shocked the world this weekend. The tide is turning for pro-abortion forces in the ... http://bit.ly/HtVHw\\t2009-10-19 08:38:24\\r\\n22033957\\t4966070572\\t23 Michigan state legislators introduce Personhood Amendment to MI state constitution http://all.org/article.php?id=12267\\t2009-10-18 08:26:48\\r\\n78525990\\t5673132797\\t@ReallyIsSimple RT Carrie Prejean has a book?? Seriously? / Unfortunately. Check her out on Larry King: http://bit.ly/2CWrRM\\t2009-11-13 00:29:13\\r\\n78525990\\t5672530984\\tThe 50 best inventions of...\n",
       "2565980  Before you can be great, you have to be good - before you can be good, you have to be bad - before you can be bad, you have to DO SOMETHING\\t2009-10-10 18:22:35\\r\\n25020648\\t4742138555\\tBanks Making Short Sale Tougher  http://bit.ly/4rriYS via @addthis\\t2009-10-09 14:11:34\\r\\n25020648\\t4634446986\\tNetworking with Investor Sellers, Investor Buyers and Funding sources to do 6 figure syndication deals.\\t2009-10-05 13:41:03\\r\\n25020648\\t4094527007\\tOnlyWire increases site traffic and search engine index speed http://onlywire.com\\t2009-09-18 21:51:35\\r\\n25020648\\t4085708200\\tCredit Market is getting worse  http://bit.ly/2UPsCF\\t2009-09-18 14:14:55\\r\\n25020648\\t3966364765\\tNeed to SELL your house NOW? We can make CASH offer on your houses for any condition/ reasons.  http://BuyForeclosures-ShortSale.com\\t2009-09-13 19:52:33\\r\\n25020648\\t3937005878\\tCan't believe American Express is asking people to submit tax form,4506T,to conduct a financial review\\t2009-09-12 12:05:52\\r\\n25020648\\t3891631095\\tListing Building Tactic that works Just for Twitter http://bit.ly/TGTMa\\t2009-09-10 12:20:18\\r\\n25020648\\t3743036311\\tPacking and get ready for my 5-day vacation to Portland, OR.\\t2009-09-03 16:59:05\\r\\n25020648\\t3739285381\\tEvery video is like a virtual salesperson that never stops working for you !\\t2009-09-03 13:41:48\\r\\n25020648\\t3642290090\\t@brianedmondson great info\\t2009-08-30 03:39:13\\r\\n25020648\\t3642047266\\tVery talented kid --> Video --> http://bit.ly/RQdoY\\t2009-08-30 03:11:2..."
      ]
     },
     "execution_count": 19,
     "metadata": {},
     "output_type": "execute_result"
    }
   ],
   "source": [
    "random_five_rows = too_long_texts.sample(n=5)\n",
    "random_five_rows"
   ]
  },
  {
   "cell_type": "code",
   "execution_count": 20,
   "metadata": {},
   "outputs": [
    {
     "data": {
      "text/plain": [
       "31135"
      ]
     },
     "execution_count": 20,
     "metadata": {},
     "output_type": "execute_result"
    }
   ],
   "source": [
    "# longest ?\n",
    "lengths = df['text'].str.len()\n",
    "index_of_longest = lengths.idxmax()\n",
    "longest_text = df.loc[index_of_longest, 'text']\n",
    "len(longest_text)"
   ]
  },
  {
   "cell_type": "code",
   "execution_count": 21,
   "metadata": {},
   "outputs": [],
   "source": [
    "# Let's keep it short and focused on the public limitation of 280\n",
    "df = df[df['text'].str.len() < 280]"
   ]
  },
  {
   "cell_type": "code",
   "execution_count": 22,
   "metadata": {},
   "outputs": [
    {
     "data": {
      "image/png": "[encoded data removed]",
      "text/plain": [
       "<Figure size 1000x600 with 1 Axes>"
      ]
     },
     "metadata": {},
     "output_type": "display_data"
    }
   ],
   "source": [
    "# Length Histogram\n",
    "lengths = df['text'].str.len()\n",
    "plt.figure(figsize=(10, 6))\n",
    "lengths.hist(bins=200)\n",
    "plt.title('Histogram of Text Lengths in column_name')\n",
    "plt.xlabel('Length of Text')\n",
    "plt.ylabel('Frequency')\n",
    "plt.show()"
   ]
  },
  {
   "cell_type": "code",
   "execution_count": 23,
   "metadata": {},
   "outputs": [
    {
     "data": {
      "text/plain": [
       "140"
      ]
     },
     "execution_count": 23,
     "metadata": {},
     "output_type": "execute_result"
    }
   ],
   "source": [
    "# The most frequent length?\n",
    "length_frequencies = lengths.value_counts()\n",
    "length_frequencies.idxmax()"
   ]
  },
  {
   "cell_type": "code",
   "execution_count": 24,
   "metadata": {},
   "outputs": [
    {
     "data": {
      "text/plain": [
       "136"
      ]
     },
     "execution_count": 24,
     "metadata": {},
     "output_type": "execute_result"
    }
   ],
   "source": [
    "# Long texts \n",
    "long_texts = df[df['text'].str.len() > 200]\n",
    "len(long_texts)"
   ]
  },
  {
   "cell_type": "code",
   "execution_count": 25,
   "metadata": {},
   "outputs": [
    {
     "data": {
      "text/html": [
       "<div>\n",
       "<style scoped>\n",
       "    .dataframe tbody tr th:only-of-type {\n",
       "        vertical-align: middle;\n",
       "    }\n",
       "\n",
       "    .dataframe tbody tr th {\n",
       "        vertical-align: top;\n",
       "    }\n",
       "\n",
       "    .dataframe thead th {\n",
       "        text-align: right;\n",
       "    }\n",
       "</style>\n",
       "<table border=\"1\" class=\"dataframe\">\n",
       "  <thead>\n",
       "    <tr style=\"text-align: right;\">\n",
       "      <th></th>\n",
       "      <th>text</th>\n",
       "    </tr>\n",
       "  </thead>\n",
       "  <tbody>\n",
       "    <tr>\n",
       "      <th>2497161</th>\n",
       "      <td>Yoga For a Healthy Heart: http://tinyurl.com/yjqvrco #HEALTH #YOGA</td>\n",
       "    </tr>\n",
       "    <tr>\n",
       "      <th>3013984</th>\n",
       "      <td>http://twitpic.com/hirz0 - One of my favorite Keri Oldham watercolors.</td>\n",
       "    </tr>\n",
       "    <tr>\n",
       "      <th>1150000</th>\n",
       "      <td>Meet Me, NYC, Nov. 5th: On November 5th, I'll be speaking at the Apple Store SoHo in New York City. I'll be spe.. http://bit.ly/M54bm</td>\n",
       "    </tr>\n",
       "    <tr>\n",
       "      <th>3645332</th>\n",
       "      <td>RT @mariannestclair: Tweet-A-Thon Wed&amp;Thurs 10AM-10PM Goal $50K @DanielleHerb to impact 1,000,000 ADD/ADHD/Autistic kids http://bit.ly/x1pnD</td>\n",
       "    </tr>\n",
       "    <tr>\n",
       "      <th>456327</th>\n",
       "      <td>@lakecreature What a fitting name for you! RT @startribune \"Minne\" to prowl Chain of Lakes http://bit.ly/3foEs</td>\n",
       "    </tr>\n",
       "  </tbody>\n",
       "</table>\n",
       "</div>"
      ],
      "text/plain": [
       "                                                                                                                                                 text\n",
       "2497161                                                                            Yoga For a Healthy Heart: http://tinyurl.com/yjqvrco #HEALTH #YOGA\n",
       "3013984                                                                        http://twitpic.com/hirz0 - One of my favorite Keri Oldham watercolors.\n",
       "1150000         Meet Me, NYC, Nov. 5th: On November 5th, I'll be speaking at the Apple Store SoHo in New York City. I'll be spe.. http://bit.ly/M54bm\n",
       "3645332  RT @mariannestclair: Tweet-A-Thon Wed&Thurs 10AM-10PM Goal $50K @DanielleHerb to impact 1,000,000 ADD/ADHD/Autistic kids http://bit.ly/x1pnD\n",
       "456327                                 @lakecreature What a fitting name for you! RT @startribune \"Minne\" to prowl Chain of Lakes http://bit.ly/3foEs"
      ]
     },
     "execution_count": 25,
     "metadata": {},
     "output_type": "execute_result"
    }
   ],
   "source": [
    "# Now looking again on the text\n",
    "random_five_rows = df.sample(n=5)\n",
    "random_five_rows"
   ]
  },
  {
   "cell_type": "code",
   "execution_count": 26,
   "metadata": {},
   "outputs": [
    {
     "data": {
      "text/plain": [
       "220105"
      ]
     },
     "execution_count": 26,
     "metadata": {},
     "output_type": "execute_result"
    }
   ],
   "source": [
    "# Tweeter symbols and keywords exploration\n",
    "retweets = df[df['text'].str.startswith('RT ')]\n",
    "len(retweets)"
   ]
  },
  {
   "cell_type": "code",
   "execution_count": 27,
   "metadata": {},
   "outputs": [
    {
     "data": {
      "text/html": [
       "<div>\n",
       "<style scoped>\n",
       "    .dataframe tbody tr th:only-of-type {\n",
       "        vertical-align: middle;\n",
       "    }\n",
       "\n",
       "    .dataframe tbody tr th {\n",
       "        vertical-align: top;\n",
       "    }\n",
       "\n",
       "    .dataframe thead th {\n",
       "        text-align: right;\n",
       "    }\n",
       "</style>\n",
       "<table border=\"1\" class=\"dataframe\">\n",
       "  <thead>\n",
       "    <tr style=\"text-align: right;\">\n",
       "      <th></th>\n",
       "      <th>text</th>\n",
       "    </tr>\n",
       "  </thead>\n",
       "  <tbody>\n",
       "    <tr>\n",
       "      <th>82</th>\n",
       "      <td>RT @Pampelmoose: @Educast_Media or the free Rumble at Mississippi Studios tonight. http://bit.ly/raar4 sounds like a great show too!</td>\n",
       "    </tr>\n",
       "    <tr>\n",
       "      <th>89</th>\n",
       "      <td>RT @tweetmeme Students Build Hydrogen Vehicle That Gets 1,336 MPG : Gas 2.0 http://bit.ly/tH6wi</td>\n",
       "    </tr>\n",
       "    <tr>\n",
       "      <th>114</th>\n",
       "      <td>RT @ggrosseck: [presentation] Is Your University Ready For the Ne(x)t-Generation? http://tinyurl.com/nazcqd #edmedia</td>\n",
       "    </tr>\n",
       "    <tr>\n",
       "      <th>238</th>\n",
       "      <td>RT @reubenrail: Plant With Purpose is the same as Floresta, it is allowing us to reach far more people with the work we do!</td>\n",
       "    </tr>\n",
       "    <tr>\n",
       "      <th>359</th>\n",
       "      <td>RT @fernandoandgreg: Fernando and Greg are back on the radio at MOVIN' 99.7 beginning Thursday, Nov. 12!  Listen online at www.movin997.com</td>\n",
       "    </tr>\n",
       "  </tbody>\n",
       "</table>\n",
       "</div>"
      ],
      "text/plain": [
       "                                                                                                                                            text\n",
       "82          RT @Pampelmoose: @Educast_Media or the free Rumble at Mississippi Studios tonight. http://bit.ly/raar4 sounds like a great show too!\n",
       "89                                               RT @tweetmeme Students Build Hydrogen Vehicle That Gets 1,336 MPG : Gas 2.0 http://bit.ly/tH6wi\n",
       "114                         RT @ggrosseck: [presentation] Is Your University Ready For the Ne(x)t-Generation? http://tinyurl.com/nazcqd #edmedia\n",
       "238                  RT @reubenrail: Plant With Purpose is the same as Floresta, it is allowing us to reach far more people with the work we do!\n",
       "359  RT @fernandoandgreg: Fernando and Greg are back on the radio at MOVIN' 99.7 beginning Thursday, Nov. 12!  Listen online at www.movin997.com"
      ]
     },
     "execution_count": 27,
     "metadata": {},
     "output_type": "execute_result"
    }
   ],
   "source": [
    "retweets.head()"
   ]
  },
  {
   "cell_type": "code",
   "execution_count": 28,
   "metadata": {},
   "outputs": [],
   "source": [
    "# will remove 'RT ' later"
   ]
  },
  {
   "cell_type": "code",
   "execution_count": 29,
   "metadata": {},
   "outputs": [
    {
     "data": {
      "text/plain": [
       "12823"
      ]
     },
     "execution_count": 29,
     "metadata": {},
     "output_type": "execute_result"
    }
   ],
   "source": [
    "direct_message = df[df['text'].str.contains('DM')]\n",
    "len(direct_message)"
   ]
  },
  {
   "cell_type": "code",
   "execution_count": 30,
   "metadata": {},
   "outputs": [
    {
     "data": {
      "text/html": [
       "<div>\n",
       "<style scoped>\n",
       "    .dataframe tbody tr th:only-of-type {\n",
       "        vertical-align: middle;\n",
       "    }\n",
       "\n",
       "    .dataframe tbody tr th {\n",
       "        vertical-align: top;\n",
       "    }\n",
       "\n",
       "    .dataframe thead th {\n",
       "        text-align: right;\n",
       "    }\n",
       "</style>\n",
       "<table border=\"1\" class=\"dataframe\">\n",
       "  <thead>\n",
       "    <tr style=\"text-align: right;\">\n",
       "      <th></th>\n",
       "      <th>text</th>\n",
       "    </tr>\n",
       "  </thead>\n",
       "  <tbody>\n",
       "    <tr>\n",
       "      <th>1</th>\n",
       "      <td>@thediscovietnam shit it ain't lettin me DM you back, what's your email?</td>\n",
       "    </tr>\n",
       "    <tr>\n",
       "      <th>185</th>\n",
       "      <td>Looking for Local Cleveland Artists for the Cafe-new Art coming in September,DM Artefino with information and pls ReTweet to your artfriends</td>\n",
       "    </tr>\n",
       "    <tr>\n",
       "      <th>190</th>\n",
       "      <td>@CoutureInvito - it is consignment ! DM me for info on how to make the trek out to Medina to see your work</td>\n",
       "    </tr>\n",
       "    <tr>\n",
       "      <th>194</th>\n",
       "      <td>@virtuallori - thanks for Following Lori! We are looking to host a Cleveland handmade event in the Fall/Holidays, pls DM me if interested!</td>\n",
       "    </tr>\n",
       "    <tr>\n",
       "      <th>508</th>\n",
       "      <td>@jonibeal HAHA assuming that was supposed to be a DM to me?</td>\n",
       "    </tr>\n",
       "    <tr>\n",
       "      <th>...</th>\n",
       "      <td>...</td>\n",
       "    </tr>\n",
       "    <tr>\n",
       "      <th>3808924</th>\n",
       "      <td>RT @BalboaPark Resident's Free Tuesday today! @SDMA @JapaneseGarden Museum of Man, Mingei &amp; Art Inst. Free 4 SD Residents, Act Mil &amp; fams</td>\n",
       "    </tr>\n",
       "    <tr>\n",
       "      <th>3809083</th>\n",
       "      <td>@moSODMG lol nigga I posted it on twitter twice, and it was at laces</td>\n",
       "    </tr>\n",
       "    <tr>\n",
       "      <th>3809086</th>\n",
       "      <td>Game this Saturday at 9 @ Frederick Price high school @MichaellAnthony @moSODMG @dollArbeAu @JoshLaFlare @NajeeT @stokesUP @eveeyFASHO</td>\n",
       "    </tr>\n",
       "    <tr>\n",
       "      <th>3809337</th>\n",
       "      <td>RT @KeenaLA: @ElleBrianna Lmao @SantanaNicoleD is gonna DM u with instructions lol! ==&gt; Yeahhhh!! Thanks =)</td>\n",
       "    </tr>\n",
       "    <tr>\n",
       "      <th>3810958</th>\n",
       "      <td>Ok, ok. Mixing Jay Z with... everything... has been done. But. My obsession w DMB makes me LOVE: http://bit.ly/aCMEO</td>\n",
       "    </tr>\n",
       "  </tbody>\n",
       "</table>\n",
       "<p>12823 rows × 1 columns</p>\n",
       "</div>"
      ],
      "text/plain": [
       "                                                                                                                                                 text\n",
       "1                                                                            @thediscovietnam shit it ain't lettin me DM you back, what's your email?\n",
       "185      Looking for Local Cleveland Artists for the Cafe-new Art coming in September,DM Artefino with information and pls ReTweet to your artfriends\n",
       "190                                        @CoutureInvito - it is consignment ! DM me for info on how to make the trek out to Medina to see your work\n",
       "194        @virtuallori - thanks for Following Lori! We are looking to host a Cleveland handmade event in the Fall/Holidays, pls DM me if interested!\n",
       "508                                                                                       @jonibeal HAHA assuming that was supposed to be a DM to me?\n",
       "...                                                                                                                                               ...\n",
       "3808924     RT @BalboaPark Resident's Free Tuesday today! @SDMA @JapaneseGarden Museum of Man, Mingei & Art Inst. Free 4 SD Residents, Act Mil & fams\n",
       "3809083                                                                          @moSODMG lol nigga I posted it on twitter twice, and it was at laces\n",
       "3809086        Game this Saturday at 9 @ Frederick Price high school @MichaellAnthony @moSODMG @dollArbeAu @JoshLaFlare @NajeeT @stokesUP @eveeyFASHO\n",
       "3809337                                   RT @KeenaLA: @ElleBrianna Lmao @SantanaNicoleD is gonna DM u with instructions lol! ==> Yeahhhh!! Thanks =)\n",
       "3810958                          Ok, ok. Mixing Jay Z with... everything... has been done. But. My obsession w DMB makes me LOVE: http://bit.ly/aCMEO\n",
       "\n",
       "[12823 rows x 1 columns]"
      ]
     },
     "execution_count": 30,
     "metadata": {},
     "output_type": "execute_result"
    }
   ],
   "source": [
    "direct_message"
   ]
  },
  {
   "cell_type": "code",
   "execution_count": 31,
   "metadata": {},
   "outputs": [],
   "source": [
    "# no need to remove DM"
   ]
  },
  {
   "cell_type": "code",
   "execution_count": 32,
   "metadata": {},
   "outputs": [
    {
     "data": {
      "text/plain": [
       "19536"
      ]
     },
     "execution_count": 32,
     "metadata": {},
     "output_type": "execute_result"
    }
   ],
   "source": [
    "# shortening to 140 (t.co)\n",
    "tweets_with_shortened_links = df[df['text'].str.contains('t\\.co', regex=True, case=False)]\n",
    "len(tweets_with_shortened_links)"
   ]
  },
  {
   "cell_type": "code",
   "execution_count": 33,
   "metadata": {},
   "outputs": [
    {
     "data": {
      "text/html": [
       "<div>\n",
       "<style scoped>\n",
       "    .dataframe tbody tr th:only-of-type {\n",
       "        vertical-align: middle;\n",
       "    }\n",
       "\n",
       "    .dataframe tbody tr th {\n",
       "        vertical-align: top;\n",
       "    }\n",
       "\n",
       "    .dataframe thead th {\n",
       "        text-align: right;\n",
       "    }\n",
       "</style>\n",
       "<table border=\"1\" class=\"dataframe\">\n",
       "  <thead>\n",
       "    <tr style=\"text-align: right;\">\n",
       "      <th></th>\n",
       "      <th>text</th>\n",
       "    </tr>\n",
       "  </thead>\n",
       "  <tbody>\n",
       "    <tr>\n",
       "      <th>49</th>\n",
       "      <td>http://i986.photobucket.com/albums/ae347/ceaseanddesistcollection/photo2.jpg</td>\n",
       "    </tr>\n",
       "    <tr>\n",
       "      <th>880</th>\n",
       "      <td>just joined a video chat at http://tinychat.com/61dh0 Make your own video chat at http://tinychat.com #tinychat</td>\n",
       "    </tr>\n",
       "    <tr>\n",
       "      <th>905</th>\n",
       "      <td>just joined a video chat at http://tinychat.com/xxxratedafternoonshow Make your own video chat at http://tinychat.com #tinychat</td>\n",
       "    </tr>\n",
       "    <tr>\n",
       "      <th>906</th>\n",
       "      <td>just joined a video chat at http://tinychat.com/sweet_n_juici88 Make your own video chat at http://tinychat.com #tinychat</td>\n",
       "    </tr>\n",
       "    <tr>\n",
       "      <th>907</th>\n",
       "      <td>just joined a video chat at http://tinychat.com/freak_n_d_morning Make your own video chat at http://tinychat.com #tinychat</td>\n",
       "    </tr>\n",
       "    <tr>\n",
       "      <th>...</th>\n",
       "      <td>...</td>\n",
       "    </tr>\n",
       "    <tr>\n",
       "      <th>3809457</th>\n",
       "      <td>Great deal on Affordable Mineral Makeup ™. You save 10% &amp; AMM donates 10% to cause of your choice too! http://innerbeautygirlz.blogspot.com/</td>\n",
       "    </tr>\n",
       "    <tr>\n",
       "      <th>3809538</th>\n",
       "      <td>RT @BleedblueKyGirl: RT @midlifechick: http://biggovernment.com/ Have you been here yet? #ACORN central. Share w/yr contacts. Get the wo ...</td>\n",
       "    </tr>\n",
       "    <tr>\n",
       "      <th>3810359</th>\n",
       "      <td>hey guys, this is our weekly schedule http://schnitzelandthings.blogspot.com/  Please check it out.  Hope to c u this week!!</td>\n",
       "    </tr>\n",
       "    <tr>\n",
       "      <th>3810712</th>\n",
       "      <td>www.peopleofwalmart.com proves that we should all question the health of our entire civilization. Seriously, check it out...</td>\n",
       "    </tr>\n",
       "    <tr>\n",
       "      <th>3811117</th>\n",
       "      <td>now watching victorias secret.com for a brand new top, NO you can't borrow my top</td>\n",
       "    </tr>\n",
       "  </tbody>\n",
       "</table>\n",
       "<p>19536 rows × 1 columns</p>\n",
       "</div>"
      ],
      "text/plain": [
       "                                                                                                                                                 text\n",
       "49                                                                       http://i986.photobucket.com/albums/ae347/ceaseanddesistcollection/photo2.jpg\n",
       "880                                   just joined a video chat at http://tinychat.com/61dh0 Make your own video chat at http://tinychat.com #tinychat\n",
       "905                   just joined a video chat at http://tinychat.com/xxxratedafternoonshow Make your own video chat at http://tinychat.com #tinychat\n",
       "906                         just joined a video chat at http://tinychat.com/sweet_n_juici88 Make your own video chat at http://tinychat.com #tinychat\n",
       "907                       just joined a video chat at http://tinychat.com/freak_n_d_morning Make your own video chat at http://tinychat.com #tinychat\n",
       "...                                                                                                                                               ...\n",
       "3809457  Great deal on Affordable Mineral Makeup ™. You save 10% & AMM donates 10% to cause of your choice too! http://innerbeautygirlz.blogspot.com/\n",
       "3809538  RT @BleedblueKyGirl: RT @midlifechick: http://biggovernment.com/ Have you been here yet? #ACORN central. Share w/yr contacts. Get the wo ...\n",
       "3810359                  hey guys, this is our weekly schedule http://schnitzelandthings.blogspot.com/  Please check it out.  Hope to c u this week!!\n",
       "3810712                  www.peopleofwalmart.com proves that we should all question the health of our entire civilization. Seriously, check it out...\n",
       "3811117                                                             now watching victorias secret.com for a brand new top, NO you can't borrow my top\n",
       "\n",
       "[19536 rows x 1 columns]"
      ]
     },
     "execution_count": 33,
     "metadata": {},
     "output_type": "execute_result"
    }
   ],
   "source": [
    "tweets_with_shortened_links"
   ]
  },
  {
   "cell_type": "code",
   "execution_count": 34,
   "metadata": {},
   "outputs": [],
   "source": [
    "# this is random ~t.com no need to touch"
   ]
  },
  {
   "cell_type": "code",
   "execution_count": 35,
   "metadata": {},
   "outputs": [
    {
     "data": {
      "text/plain": [
       "27"
      ]
     },
     "execution_count": 35,
     "metadata": {},
     "output_type": "execute_result"
    }
   ],
   "source": [
    "# Start looking on symbols\n",
    "heart_emoji = '[❤️]'\n",
    "tweets_with_heart = df[df['text'].str.contains(heart_emoji)]\n",
    "len(tweets_with_heart)"
   ]
  },
  {
   "cell_type": "code",
   "execution_count": 36,
   "metadata": {},
   "outputs": [
    {
     "data": {
      "text/html": [
       "<div>\n",
       "<style scoped>\n",
       "    .dataframe tbody tr th:only-of-type {\n",
       "        vertical-align: middle;\n",
       "    }\n",
       "\n",
       "    .dataframe tbody tr th {\n",
       "        vertical-align: top;\n",
       "    }\n",
       "\n",
       "    .dataframe thead th {\n",
       "        text-align: right;\n",
       "    }\n",
       "</style>\n",
       "<table border=\"1\" class=\"dataframe\">\n",
       "  <thead>\n",
       "    <tr style=\"text-align: right;\">\n",
       "      <th></th>\n",
       "      <th>text</th>\n",
       "    </tr>\n",
       "  </thead>\n",
       "  <tbody>\n",
       "    <tr>\n",
       "      <th>2940221</th>\n",
       "      <td>Well. 2 nights in a row I'm home after 4am. Switch party was all angels &amp; demons. Gorgeous, talented angels &amp; demons. G'nite dear twibe. ❤</td>\n",
       "    </tr>\n",
       "    <tr>\n",
       "      <th>2950443</th>\n",
       "      <td>@justinsrecovery hope you have a great day ツ just wanted to send some ❤  your way sweetie</td>\n",
       "    </tr>\n",
       "    <tr>\n",
       "      <th>2963933</th>\n",
       "      <td>C'MON @twitter - help a tweeta out! i would ❤ 2 know #whatdoyouthink (◕‿◕)http://twitpic.com/ihpe2 Jets Pats #inmyhood NFL Patriots R Saints</td>\n",
       "    </tr>\n",
       "    <tr>\n",
       "      <th>2991263</th>\n",
       "      <td>@ijmackondeck your welcome . &amp; loving it ! i can do about the same . just gotta do it more often .  ❤ ☺</td>\n",
       "    </tr>\n",
       "    <tr>\n",
       "      <th>2991267</th>\n",
       "      <td>@souljaboytellem dre if you need any graphics made . i`m always here for you . that`s one of the reasons why i`m doing this . lol ❤</td>\n",
       "    </tr>\n",
       "    <tr>\n",
       "      <th>3064328</th>\n",
       "      <td>❤ moz</td>\n",
       "    </tr>\n",
       "    <tr>\n",
       "      <th>3066608</th>\n",
       "      <td>@carisamiklusak zaky misses his godmommy!! So do I!! We luv you! ❤</td>\n",
       "    </tr>\n",
       "    <tr>\n",
       "      <th>3164648</th>\n",
       "      <td>@dragonheartsong Hope you're feeling better soon! We're sick here, too, for 1.5 weeks. I'll send you some Light today. ❤</td>\n",
       "    </tr>\n",
       "    <tr>\n",
       "      <th>3236475</th>\n",
       "      <td>#i❤♫</td>\n",
       "    </tr>\n",
       "    <tr>\n",
       "      <th>3236476</th>\n",
       "      <td>MUSIC LOVERS RT #i❤♫ #i❤♫ #i❤♫ #i❤♫ #i❤♫ #i❤♫ #i❤♫ #i❤♫ #i❤♫ #i❤♫ #i❤♫ #i❤♫ #i❤♫ #i❤♫ #i❤♫ #i❤♫ #i❤♫ #i❤♫ #i❤♫ #i❤♫ #i❤♫</td>\n",
       "    </tr>\n",
       "    <tr>\n",
       "      <th>3236477</th>\n",
       "      <td>@skintightchrome #i❤♫ :P</td>\n",
       "    </tr>\n",
       "    <tr>\n",
       "      <th>3236478</th>\n",
       "      <td>@OMGtrendTALK honestly, i have no idea lol! MUSIC LOVERS RT #i❤♫ #i❤♫ #i❤♫ #i❤♫ #i❤♫ #i❤♫ #i❤♫ #i❤♫ #i❤♫</td>\n",
       "    </tr>\n",
       "    <tr>\n",
       "      <th>3290562</th>\n",
       "      <td>@lovepeaceunity Black Eyed Peas – I Gotta Feeling (The E.N.D - The Energy Never Dies) ❤ ♫ http://blip.fm/~d2pru</td>\n",
       "    </tr>\n",
       "    <tr>\n",
       "      <th>3308871</th>\n",
       "      <td>I'm super excited, my car passed for its yearly inspection, woo! ❤ I was late getting the sticker but my car got its gold star. =D</td>\n",
       "    </tr>\n",
       "    <tr>\n",
       "      <th>3308873</th>\n",
       "      <td>No scares or frights this time around! During the abyss of darkness at night, @JoeNagy kept me at ease, all went well, yay! ❤</td>\n",
       "    </tr>\n",
       "    <tr>\n",
       "      <th>3308874</th>\n",
       "      <td>@hollymadison123 http://twitpic.com/hqskz - Ooh la la! ❤</td>\n",
       "    </tr>\n",
       "    <tr>\n",
       "      <th>3308876</th>\n",
       "      <td>@hollymadison123 I have naturally dark hair, already blonde, trying to get my roots passed the yellow/orange stage. Help! ❤</td>\n",
       "    </tr>\n",
       "    <tr>\n",
       "      <th>3308878</th>\n",
       "      <td>@GentrydeParis http://twitpic.com/htlfe - I WISH I could be there to watch your show &amp; Dita's, absolutely elaborate and divine! ❤</td>\n",
       "    </tr>\n",
       "    <tr>\n",
       "      <th>3308879</th>\n",
       "      <td>Eating classy tonight....going to McDonald's. ❤</td>\n",
       "    </tr>\n",
       "    <tr>\n",
       "      <th>3308882</th>\n",
       "      <td>Hey, hey...it's Friday! ❤</td>\n",
       "    </tr>\n",
       "    <tr>\n",
       "      <th>3337933</th>\n",
       "      <td>RT @EdenSol ❤ Universal Unconditional L*O*V*E to all of you! Share the ❤ Love ❤ pay it forward, pass it along! ❤ &lt;Ommm&gt;</td>\n",
       "    </tr>\n",
       "    <tr>\n",
       "      <th>3440669</th>\n",
       "      <td>More Thanks &amp; ❤ to @Brian_Stark @ud11 @paigestapleton @TimBlake09 @butterflyring09 @bhaati ❤</td>\n",
       "    </tr>\n",
       "    <tr>\n",
       "      <th>3485717</th>\n",
       "      <td>❤It is not a lack of love, but a lack of friendship that makes unhappy marriages~Friedrich Nietzsche❤</td>\n",
       "    </tr>\n",
       "    <tr>\n",
       "      <th>3485721</th>\n",
       "      <td>❤All human beings are interconnected, one with all other elements in creation~Henry Reed❤</td>\n",
       "    </tr>\n",
       "    <tr>\n",
       "      <th>3485788</th>\n",
       "      <td>i actually have a new phone wallpaper. it's no longer brian molko. it's now amanda palmer &amp; brian viglione. ❤</td>\n",
       "    </tr>\n",
       "    <tr>\n",
       "      <th>3497587</th>\n",
       "      <td>Goodnite. ✌ &amp; ❤</td>\n",
       "    </tr>\n",
       "    <tr>\n",
       "      <th>3497588</th>\n",
       "      <td>@CharlesButlerJr I ❤ that. Me &amp; @melaniewho were in MD 1 time &amp; saw that outside of our hotel. It was purty! Nite/morning Butler</td>\n",
       "    </tr>\n",
       "  </tbody>\n",
       "</table>\n",
       "</div>"
      ],
      "text/plain": [
       "                                                                                                                                                 text\n",
       "2940221    Well. 2 nights in a row I'm home after 4am. Switch party was all angels & demons. Gorgeous, talented angels & demons. G'nite dear twibe. ❤\n",
       "2950443                                                     @justinsrecovery hope you have a great day ツ just wanted to send some ❤  your way sweetie\n",
       "2963933  C'MON @twitter - help a tweeta out! i would ❤ 2 know #whatdoyouthink (◕‿◕)http://twitpic.com/ihpe2 Jets Pats #inmyhood NFL Patriots R Saints\n",
       "2991263                                       @ijmackondeck your welcome . & loving it ! i can do about the same . just gotta do it more often .  ❤ ☺\n",
       "2991267           @souljaboytellem dre if you need any graphics made . i`m always here for you . that`s one of the reasons why i`m doing this . lol ❤\n",
       "3064328                                                                                                                                         ❤ moz\n",
       "3066608                                                                            @carisamiklusak zaky misses his godmommy!! So do I!! We luv you! ❤\n",
       "3164648                      @dragonheartsong Hope you're feeling better soon! We're sick here, too, for 1.5 weeks. I'll send you some Light today. ❤\n",
       "3236475                                                                                                                                          #i❤♫\n",
       "3236476                      MUSIC LOVERS RT #i❤♫ #i❤♫ #i❤♫ #i❤♫ #i❤♫ #i❤♫ #i❤♫ #i❤♫ #i❤♫ #i❤♫ #i❤♫ #i❤♫ #i❤♫ #i❤♫ #i❤♫ #i❤♫ #i❤♫ #i❤♫ #i❤♫ #i❤♫ #i❤♫\n",
       "3236477                                                                                                                      @skintightchrome #i❤♫ :P\n",
       "3236478                                      @OMGtrendTALK honestly, i have no idea lol! MUSIC LOVERS RT #i❤♫ #i❤♫ #i❤♫ #i❤♫ #i❤♫ #i❤♫ #i❤♫ #i❤♫ #i❤♫\n",
       "3290562                               @lovepeaceunity Black Eyed Peas – I Gotta Feeling (The E.N.D - The Energy Never Dies) ❤ ♫ http://blip.fm/~d2pru\n",
       "3308871            I'm super excited, my car passed for its yearly inspection, woo! ❤ I was late getting the sticker but my car got its gold star. =D\n",
       "3308873                 No scares or frights this time around! During the abyss of darkness at night, @JoeNagy kept me at ease, all went well, yay! ❤\n",
       "3308874                                                                                      @hollymadison123 http://twitpic.com/hqskz - Ooh la la! ❤\n",
       "3308876                   @hollymadison123 I have naturally dark hair, already blonde, trying to get my roots passed the yellow/orange stage. Help! ❤\n",
       "3308878             @GentrydeParis http://twitpic.com/htlfe - I WISH I could be there to watch your show & Dita's, absolutely elaborate and divine! ❤\n",
       "3308879                                                                                               Eating classy tonight....going to McDonald's. ❤\n",
       "3308882                                                                                                                     Hey, hey...it's Friday! ❤\n",
       "3337933                       RT @EdenSol ❤ Universal Unconditional L*O*V*E to all of you! Share the ❤ Love ❤ pay it forward, pass it along! ❤ <Ommm>\n",
       "3440669                                                  More Thanks & ❤ to @Brian_Stark @ud11 @paigestapleton @TimBlake09 @butterflyring09 @bhaati ❤\n",
       "3485717                                         ❤It is not a lack of love, but a lack of friendship that makes unhappy marriages~Friedrich Nietzsche❤\n",
       "3485721                                                     ❤All human beings are interconnected, one with all other elements in creation~Henry Reed❤\n",
       "3485788                                 i actually have a new phone wallpaper. it's no longer brian molko. it's now amanda palmer & brian viglione. ❤\n",
       "3497587                                                                                                                               Goodnite. ✌ & ❤\n",
       "3497588              @CharlesButlerJr I ❤ that. Me & @melaniewho were in MD 1 time & saw that outside of our hotel. It was purty! Nite/morning Butler"
      ]
     },
     "execution_count": 36,
     "metadata": {},
     "output_type": "execute_result"
    }
   ],
   "source": [
    "tweets_with_heart"
   ]
  },
  {
   "cell_type": "code",
   "execution_count": 37,
   "metadata": {},
   "outputs": [
    {
     "ename": "KeyboardInterrupt",
     "evalue": "",
     "output_type": "error",
     "traceback": [
      "\u001b[0;31m---------------------------------------------------------------------------\u001b[0m",
      "\u001b[0;31mKeyboardInterrupt\u001b[0m                         Traceback (most recent call last)",
      "Cell \u001b[0;32mIn[37], line 5\u001b[0m\n\u001b[1;32m      3\u001b[0m     \u001b[38;5;28;01mfor\u001b[39;00m character \u001b[38;5;129;01min\u001b[39;00m text:\n\u001b[1;32m      4\u001b[0m         \u001b[38;5;28;01mreturn\u001b[39;00m \u001b[38;5;28mbool\u001b[39m(regex\u001b[38;5;241m.\u001b[39mfindall(\u001b[38;5;124mr\u001b[39m\u001b[38;5;124m'\u001b[39m\u001b[38;5;124m\\\u001b[39m\u001b[38;5;124mp\u001b[39m\u001b[38;5;132;01m{Emoji}\u001b[39;00m\u001b[38;5;124m'\u001b[39m, text))\n\u001b[0;32m----> 5\u001b[0m emoji_tweets_mask \u001b[38;5;241m=\u001b[39m \u001b[43mdf\u001b[49m\u001b[43m[\u001b[49m\u001b[38;5;124;43m'\u001b[39;49m\u001b[38;5;124;43mtext\u001b[39;49m\u001b[38;5;124;43m'\u001b[39;49m\u001b[43m]\u001b[49m\u001b[38;5;241;43m.\u001b[39;49m\u001b[43mapply\u001b[49m\u001b[43m(\u001b[49m\u001b[43mcontains_emoji\u001b[49m\u001b[43m)\u001b[49m\n\u001b[1;32m      6\u001b[0m emoji_tweets_df \u001b[38;5;241m=\u001b[39m df[emoji_tweets_mask]\n\u001b[1;32m      7\u001b[0m \u001b[38;5;28mlen\u001b[39m(emoji_tweets_df)\n",
      "File \u001b[0;32m~/miniconda3/envs/x_grammar_spelling/lib/python3.11/site-packages/pandas/core/series.py:4915\u001b[0m, in \u001b[0;36mSeries.apply\u001b[0;34m(self, func, convert_dtype, args, by_row, **kwargs)\u001b[0m\n\u001b[1;32m   4780\u001b[0m \u001b[38;5;28;01mdef\u001b[39;00m \u001b[38;5;21mapply\u001b[39m(\n\u001b[1;32m   4781\u001b[0m     \u001b[38;5;28mself\u001b[39m,\n\u001b[1;32m   4782\u001b[0m     func: AggFuncType,\n\u001b[0;32m   (...)\u001b[0m\n\u001b[1;32m   4787\u001b[0m     \u001b[38;5;241m*\u001b[39m\u001b[38;5;241m*\u001b[39mkwargs,\n\u001b[1;32m   4788\u001b[0m ) \u001b[38;5;241m-\u001b[39m\u001b[38;5;241m>\u001b[39m DataFrame \u001b[38;5;241m|\u001b[39m Series:\n\u001b[1;32m   4789\u001b[0m \u001b[38;5;250m    \u001b[39m\u001b[38;5;124;03m\"\"\"\u001b[39;00m\n\u001b[1;32m   4790\u001b[0m \u001b[38;5;124;03m    Invoke function on values of Series.\u001b[39;00m\n\u001b[1;32m   4791\u001b[0m \n\u001b[0;32m   (...)\u001b[0m\n\u001b[1;32m   4906\u001b[0m \u001b[38;5;124;03m    dtype: float64\u001b[39;00m\n\u001b[1;32m   4907\u001b[0m \u001b[38;5;124;03m    \"\"\"\u001b[39;00m\n\u001b[1;32m   4908\u001b[0m     \u001b[38;5;28;01mreturn\u001b[39;00m \u001b[43mSeriesApply\u001b[49m\u001b[43m(\u001b[49m\n\u001b[1;32m   4909\u001b[0m \u001b[43m        \u001b[49m\u001b[38;5;28;43mself\u001b[39;49m\u001b[43m,\u001b[49m\n\u001b[1;32m   4910\u001b[0m \u001b[43m        \u001b[49m\u001b[43mfunc\u001b[49m\u001b[43m,\u001b[49m\n\u001b[1;32m   4911\u001b[0m \u001b[43m        \u001b[49m\u001b[43mconvert_dtype\u001b[49m\u001b[38;5;241;43m=\u001b[39;49m\u001b[43mconvert_dtype\u001b[49m\u001b[43m,\u001b[49m\n\u001b[1;32m   4912\u001b[0m \u001b[43m        \u001b[49m\u001b[43mby_row\u001b[49m\u001b[38;5;241;43m=\u001b[39;49m\u001b[43mby_row\u001b[49m\u001b[43m,\u001b[49m\n\u001b[1;32m   4913\u001b[0m \u001b[43m        \u001b[49m\u001b[43margs\u001b[49m\u001b[38;5;241;43m=\u001b[39;49m\u001b[43margs\u001b[49m\u001b[43m,\u001b[49m\n\u001b[1;32m   4914\u001b[0m \u001b[43m        \u001b[49m\u001b[43mkwargs\u001b[49m\u001b[38;5;241;43m=\u001b[39;49m\u001b[43mkwargs\u001b[49m\u001b[43m,\u001b[49m\n\u001b[0;32m-> 4915\u001b[0m \u001b[43m    \u001b[49m\u001b[43m)\u001b[49m\u001b[38;5;241;43m.\u001b[39;49m\u001b[43mapply\u001b[49m\u001b[43m(\u001b[49m\u001b[43m)\u001b[49m\n",
      "File \u001b[0;32m~/miniconda3/envs/x_grammar_spelling/lib/python3.11/site-packages/pandas/core/apply.py:1427\u001b[0m, in \u001b[0;36mSeriesApply.apply\u001b[0;34m(self)\u001b[0m\n\u001b[1;32m   1424\u001b[0m     \u001b[38;5;28;01mreturn\u001b[39;00m \u001b[38;5;28mself\u001b[39m\u001b[38;5;241m.\u001b[39mapply_compat()\n\u001b[1;32m   1426\u001b[0m \u001b[38;5;66;03m# self.func is Callable\u001b[39;00m\n\u001b[0;32m-> 1427\u001b[0m \u001b[38;5;28;01mreturn\u001b[39;00m \u001b[38;5;28;43mself\u001b[39;49m\u001b[38;5;241;43m.\u001b[39;49m\u001b[43mapply_standard\u001b[49m\u001b[43m(\u001b[49m\u001b[43m)\u001b[49m\n",
      "File \u001b[0;32m~/miniconda3/envs/x_grammar_spelling/lib/python3.11/site-packages/pandas/core/apply.py:1507\u001b[0m, in \u001b[0;36mSeriesApply.apply_standard\u001b[0;34m(self)\u001b[0m\n\u001b[1;32m   1501\u001b[0m \u001b[38;5;66;03m# row-wise access\u001b[39;00m\n\u001b[1;32m   1502\u001b[0m \u001b[38;5;66;03m# apply doesn't have a `na_action` keyword and for backward compat reasons\u001b[39;00m\n\u001b[1;32m   1503\u001b[0m \u001b[38;5;66;03m# we need to give `na_action=\"ignore\"` for categorical data.\u001b[39;00m\n\u001b[1;32m   1504\u001b[0m \u001b[38;5;66;03m# TODO: remove the `na_action=\"ignore\"` when that default has been changed in\u001b[39;00m\n\u001b[1;32m   1505\u001b[0m \u001b[38;5;66;03m#  Categorical (GH51645).\u001b[39;00m\n\u001b[1;32m   1506\u001b[0m action \u001b[38;5;241m=\u001b[39m \u001b[38;5;124m\"\u001b[39m\u001b[38;5;124mignore\u001b[39m\u001b[38;5;124m\"\u001b[39m \u001b[38;5;28;01mif\u001b[39;00m \u001b[38;5;28misinstance\u001b[39m(obj\u001b[38;5;241m.\u001b[39mdtype, CategoricalDtype) \u001b[38;5;28;01melse\u001b[39;00m \u001b[38;5;28;01mNone\u001b[39;00m\n\u001b[0;32m-> 1507\u001b[0m mapped \u001b[38;5;241m=\u001b[39m \u001b[43mobj\u001b[49m\u001b[38;5;241;43m.\u001b[39;49m\u001b[43m_map_values\u001b[49m\u001b[43m(\u001b[49m\n\u001b[1;32m   1508\u001b[0m \u001b[43m    \u001b[49m\u001b[43mmapper\u001b[49m\u001b[38;5;241;43m=\u001b[39;49m\u001b[43mcurried\u001b[49m\u001b[43m,\u001b[49m\u001b[43m \u001b[49m\u001b[43mna_action\u001b[49m\u001b[38;5;241;43m=\u001b[39;49m\u001b[43maction\u001b[49m\u001b[43m,\u001b[49m\u001b[43m \u001b[49m\u001b[43mconvert\u001b[49m\u001b[38;5;241;43m=\u001b[39;49m\u001b[38;5;28;43mself\u001b[39;49m\u001b[38;5;241;43m.\u001b[39;49m\u001b[43mconvert_dtype\u001b[49m\n\u001b[1;32m   1509\u001b[0m \u001b[43m\u001b[49m\u001b[43m)\u001b[49m\n\u001b[1;32m   1511\u001b[0m \u001b[38;5;28;01mif\u001b[39;00m \u001b[38;5;28mlen\u001b[39m(mapped) \u001b[38;5;129;01mand\u001b[39;00m \u001b[38;5;28misinstance\u001b[39m(mapped[\u001b[38;5;241m0\u001b[39m], ABCSeries):\n\u001b[1;32m   1512\u001b[0m     \u001b[38;5;66;03m# GH#43986 Need to do list(mapped) in order to get treated as nested\u001b[39;00m\n\u001b[1;32m   1513\u001b[0m     \u001b[38;5;66;03m#  See also GH#25959 regarding EA support\u001b[39;00m\n\u001b[1;32m   1514\u001b[0m     \u001b[38;5;28;01mreturn\u001b[39;00m obj\u001b[38;5;241m.\u001b[39m_constructor_expanddim(\u001b[38;5;28mlist\u001b[39m(mapped), index\u001b[38;5;241m=\u001b[39mobj\u001b[38;5;241m.\u001b[39mindex)\n",
      "File \u001b[0;32m~/miniconda3/envs/x_grammar_spelling/lib/python3.11/site-packages/pandas/core/base.py:921\u001b[0m, in \u001b[0;36mIndexOpsMixin._map_values\u001b[0;34m(self, mapper, na_action, convert)\u001b[0m\n\u001b[1;32m    918\u001b[0m \u001b[38;5;28;01mif\u001b[39;00m \u001b[38;5;28misinstance\u001b[39m(arr, ExtensionArray):\n\u001b[1;32m    919\u001b[0m     \u001b[38;5;28;01mreturn\u001b[39;00m arr\u001b[38;5;241m.\u001b[39mmap(mapper, na_action\u001b[38;5;241m=\u001b[39mna_action)\n\u001b[0;32m--> 921\u001b[0m \u001b[38;5;28;01mreturn\u001b[39;00m \u001b[43malgorithms\u001b[49m\u001b[38;5;241;43m.\u001b[39;49m\u001b[43mmap_array\u001b[49m\u001b[43m(\u001b[49m\u001b[43marr\u001b[49m\u001b[43m,\u001b[49m\u001b[43m \u001b[49m\u001b[43mmapper\u001b[49m\u001b[43m,\u001b[49m\u001b[43m \u001b[49m\u001b[43mna_action\u001b[49m\u001b[38;5;241;43m=\u001b[39;49m\u001b[43mna_action\u001b[49m\u001b[43m,\u001b[49m\u001b[43m \u001b[49m\u001b[43mconvert\u001b[49m\u001b[38;5;241;43m=\u001b[39;49m\u001b[43mconvert\u001b[49m\u001b[43m)\u001b[49m\n",
      "File \u001b[0;32m~/miniconda3/envs/x_grammar_spelling/lib/python3.11/site-packages/pandas/core/algorithms.py:1743\u001b[0m, in \u001b[0;36mmap_array\u001b[0;34m(arr, mapper, na_action, convert)\u001b[0m\n\u001b[1;32m   1741\u001b[0m values \u001b[38;5;241m=\u001b[39m arr\u001b[38;5;241m.\u001b[39mastype(\u001b[38;5;28mobject\u001b[39m, copy\u001b[38;5;241m=\u001b[39m\u001b[38;5;28;01mFalse\u001b[39;00m)\n\u001b[1;32m   1742\u001b[0m \u001b[38;5;28;01mif\u001b[39;00m na_action \u001b[38;5;129;01mis\u001b[39;00m \u001b[38;5;28;01mNone\u001b[39;00m:\n\u001b[0;32m-> 1743\u001b[0m     \u001b[38;5;28;01mreturn\u001b[39;00m \u001b[43mlib\u001b[49m\u001b[38;5;241;43m.\u001b[39;49m\u001b[43mmap_infer\u001b[49m\u001b[43m(\u001b[49m\u001b[43mvalues\u001b[49m\u001b[43m,\u001b[49m\u001b[43m \u001b[49m\u001b[43mmapper\u001b[49m\u001b[43m,\u001b[49m\u001b[43m \u001b[49m\u001b[43mconvert\u001b[49m\u001b[38;5;241;43m=\u001b[39;49m\u001b[43mconvert\u001b[49m\u001b[43m)\u001b[49m\n\u001b[1;32m   1744\u001b[0m \u001b[38;5;28;01melse\u001b[39;00m:\n\u001b[1;32m   1745\u001b[0m     \u001b[38;5;28;01mreturn\u001b[39;00m lib\u001b[38;5;241m.\u001b[39mmap_infer_mask(\n\u001b[1;32m   1746\u001b[0m         values, mapper, mask\u001b[38;5;241m=\u001b[39misna(values)\u001b[38;5;241m.\u001b[39mview(np\u001b[38;5;241m.\u001b[39muint8), convert\u001b[38;5;241m=\u001b[39mconvert\n\u001b[1;32m   1747\u001b[0m     )\n",
      "File \u001b[0;32mlib.pyx:2972\u001b[0m, in \u001b[0;36mpandas._libs.lib.map_infer\u001b[0;34m()\u001b[0m\n",
      "Cell \u001b[0;32mIn[37], line 2\u001b[0m, in \u001b[0;36mcontains_emoji\u001b[0;34m(text)\u001b[0m\n\u001b[1;32m      1\u001b[0m \u001b[38;5;66;03m# More emoji - first try failed, skip to later\u001b[39;00m\n\u001b[0;32m----> 2\u001b[0m \u001b[38;5;28;01mdef\u001b[39;00m \u001b[38;5;21mcontains_emoji\u001b[39m(text):\n\u001b[1;32m      3\u001b[0m     \u001b[38;5;28;01mfor\u001b[39;00m character \u001b[38;5;129;01min\u001b[39;00m text:\n\u001b[1;32m      4\u001b[0m         \u001b[38;5;28;01mreturn\u001b[39;00m \u001b[38;5;28mbool\u001b[39m(regex\u001b[38;5;241m.\u001b[39mfindall(\u001b[38;5;124mr\u001b[39m\u001b[38;5;124m'\u001b[39m\u001b[38;5;124m\\\u001b[39m\u001b[38;5;124mp\u001b[39m\u001b[38;5;132;01m{Emoji}\u001b[39;00m\u001b[38;5;124m'\u001b[39m, text))\n",
      "\u001b[0;31mKeyboardInterrupt\u001b[0m: "
     ]
    }
   ],
   "source": [
    "# More emoji - first try failed, skip to later\n",
    "def contains_emoji(text):\n",
    "    for character in text:\n",
    "        return bool(regex.findall(r'\\p{Emoji}', text))\n",
    "emoji_tweets_mask = df['text'].apply(contains_emoji)\n",
    "emoji_tweets_df = df[emoji_tweets_mask]\n",
    "len(emoji_tweets_df)"
   ]
  },
  {
   "cell_type": "code",
   "execution_count": null,
   "metadata": {},
   "outputs": [
    {
     "data": {
      "text/html": [
       "<div>\n",
       "<style scoped>\n",
       "    .dataframe tbody tr th:only-of-type {\n",
       "        vertical-align: middle;\n",
       "    }\n",
       "\n",
       "    .dataframe tbody tr th {\n",
       "        vertical-align: top;\n",
       "    }\n",
       "\n",
       "    .dataframe thead th {\n",
       "        text-align: right;\n",
       "    }\n",
       "</style>\n",
       "<table border=\"1\" class=\"dataframe\">\n",
       "  <thead>\n",
       "    <tr style=\"text-align: right;\">\n",
       "      <th></th>\n",
       "      <th>text</th>\n",
       "    </tr>\n",
       "  </thead>\n",
       "  <tbody>\n",
       "    <tr>\n",
       "      <th>6</th>\n",
       "      <td>@smokinvinyl danny boy! wanna check out d-nice at the afex 1 year tonight?  we could pre-game at mine and walk over.</td>\n",
       "    </tr>\n",
       "    <tr>\n",
       "      <th>13</th>\n",
       "      <td>SATURDAY NIGHT AT THE TAVERN:  http://yfrog.com/4aka3cj</td>\n",
       "    </tr>\n",
       "    <tr>\n",
       "      <th>14</th>\n",
       "      <td>FRIDAY NIGHT AT THE GRIFFIN: http://yfrog.com/3glqzj</td>\n",
       "    </tr>\n",
       "    <tr>\n",
       "      <th>15</th>\n",
       "      <td>tonight: we're up and runnin by 7:30, you're on faderz by 10 for $10.  can't beat that wit a bat. http://yfrog.com/35tqhj</td>\n",
       "    </tr>\n",
       "    <tr>\n",
       "      <th>20</th>\n",
       "      <td>Save the date for dec 29th @damfunk (full band live set) pase rock skeet skeet hosted by Daymeon! (via @THEMJEANS)--THATSA MASTER BLAZTER.</td>\n",
       "    </tr>\n",
       "    <tr>\n",
       "      <th>...</th>\n",
       "      <td>...</td>\n",
       "    </tr>\n",
       "    <tr>\n",
       "      <th>3811248</th>\n",
       "      <td>I approve. He gets an 8. Intelligence would have gotten him a 9, a few more inches taller would be a 10. Tsk.</td>\n",
       "    </tr>\n",
       "    <tr>\n",
       "      <th>3811250</th>\n",
       "      <td>@street3 Taco taco taco. Burrito.</td>\n",
       "    </tr>\n",
       "    <tr>\n",
       "      <th>3811253</th>\n",
       "      <td>@Street3!</td>\n",
       "    </tr>\n",
       "    <tr>\n",
       "      <th>3811260</th>\n",
       "      <td>oh god heroes tonight, ... http://lnk.ms/0ShgX</td>\n",
       "    </tr>\n",
       "    <tr>\n",
       "      <th>3811262</th>\n",
       "      <td>I&amp;#39;m so fucking excited for 8 o&amp;#39;clock to be here so i can watch the new season of heroes. ... http://lnk.ms/0T608</td>\n",
       "    </tr>\n",
       "  </tbody>\n",
       "</table>\n",
       "<p>1817276 rows × 1 columns</p>\n",
       "</div>"
      ],
      "text/plain": [
       "                                                                                                                                               text\n",
       "6                              @smokinvinyl danny boy! wanna check out d-nice at the afex 1 year tonight?  we could pre-game at mine and walk over.\n",
       "13                                                                                          SATURDAY NIGHT AT THE TAVERN:  http://yfrog.com/4aka3cj\n",
       "14                                                                                             FRIDAY NIGHT AT THE GRIFFIN: http://yfrog.com/3glqzj\n",
       "15                        tonight: we're up and runnin by 7:30, you're on faderz by 10 for $10.  can't beat that wit a bat. http://yfrog.com/35tqhj\n",
       "20       Save the date for dec 29th @damfunk (full band live set) pase rock skeet skeet hosted by Daymeon! (via @THEMJEANS)--THATSA MASTER BLAZTER.\n",
       "...                                                                                                                                             ...\n",
       "3811248                               I approve. He gets an 8. Intelligence would have gotten him a 9, a few more inches taller would be a 10. Tsk.\n",
       "3811250                                                                                                           @street3 Taco taco taco. Burrito.\n",
       "3811253                                                                                                                                   @Street3!\n",
       "3811260                                                                                              oh god heroes tonight, ... http://lnk.ms/0ShgX\n",
       "3811262                    I&#39;m so fucking excited for 8 o&#39;clock to be here so i can watch the new season of heroes. ... http://lnk.ms/0T608\n",
       "\n",
       "[1817276 rows x 1 columns]"
      ]
     },
     "execution_count": 107,
     "metadata": {},
     "output_type": "execute_result"
    }
   ],
   "source": [
    "emoji_tweets_df"
   ]
  },
  {
   "cell_type": "code",
   "execution_count": null,
   "metadata": {},
   "outputs": [],
   "source": [
    "# HTML special characters"
   ]
  },
  {
   "cell_type": "code",
   "execution_count": null,
   "metadata": {},
   "outputs": [],
   "source": [
    "# HTML-encoded text\n",
    "def decode_html(text):\n",
    "    return html.unescape(text)\n",
    "df['clean_text'] = df['text'].apply(decode_html)"
   ]
  },
  {
   "cell_type": "code",
   "execution_count": null,
   "metadata": {},
   "outputs": [
    {
     "data": {
      "text/html": [
       "<div>\n",
       "<style scoped>\n",
       "    .dataframe tbody tr th:only-of-type {\n",
       "        vertical-align: middle;\n",
       "    }\n",
       "\n",
       "    .dataframe tbody tr th {\n",
       "        vertical-align: top;\n",
       "    }\n",
       "\n",
       "    .dataframe thead th {\n",
       "        text-align: right;\n",
       "    }\n",
       "</style>\n",
       "<table border=\"1\" class=\"dataframe\">\n",
       "  <thead>\n",
       "    <tr style=\"text-align: right;\">\n",
       "      <th></th>\n",
       "      <th>text</th>\n",
       "      <th>clean_text</th>\n",
       "    </tr>\n",
       "  </thead>\n",
       "  <tbody>\n",
       "    <tr>\n",
       "      <th>0</th>\n",
       "      <td>@thediscovietnam coo.  thanks. just dropped you a line.</td>\n",
       "      <td>@thediscovietnam coo.  thanks. just dropped you a line.</td>\n",
       "    </tr>\n",
       "    <tr>\n",
       "      <th>1</th>\n",
       "      <td>@thediscovietnam shit it ain't lettin me DM you back, what's your email?</td>\n",
       "      <td>@thediscovietnam shit it ain't lettin me DM you back, what's your email?</td>\n",
       "    </tr>\n",
       "    <tr>\n",
       "      <th>2</th>\n",
       "      <td>@thediscovietnam hey cody, quick question...can you dm me?</td>\n",
       "      <td>@thediscovietnam hey cody, quick question...can you dm me?</td>\n",
       "    </tr>\n",
       "    <tr>\n",
       "      <th>3</th>\n",
       "      <td>@smokinvinyl dang.  you need anything?  I got some left over meds!</td>\n",
       "      <td>@smokinvinyl dang.  you need anything?  I got some left over meds!</td>\n",
       "    </tr>\n",
       "    <tr>\n",
       "      <th>4</th>\n",
       "      <td>maybe i'm late in the game on this one, but this lowender vst is making my apt rumble!</td>\n",
       "      <td>maybe i'm late in the game on this one, but this lowender vst is making my apt rumble!</td>\n",
       "    </tr>\n",
       "    <tr>\n",
       "      <th>...</th>\n",
       "      <td>...</td>\n",
       "      <td>...</td>\n",
       "    </tr>\n",
       "    <tr>\n",
       "      <th>3811258</th>\n",
       "      <td>what bees make milk??                                    boobees lol that's a knee slapper</td>\n",
       "      <td>what bees make milk??                                    boobees lol that's a knee slapper</td>\n",
       "    </tr>\n",
       "    <tr>\n",
       "      <th>3811259</th>\n",
       "      <td>boredd as tits.</td>\n",
       "      <td>boredd as tits.</td>\n",
       "    </tr>\n",
       "    <tr>\n",
       "      <th>3811260</th>\n",
       "      <td>oh god heroes tonight, ... http://lnk.ms/0ShgX</td>\n",
       "      <td>oh god heroes tonight, ... http://lnk.ms/0ShgX</td>\n",
       "    </tr>\n",
       "    <tr>\n",
       "      <th>3811261</th>\n",
       "      <td>tits i'm bored</td>\n",
       "      <td>tits i'm bored</td>\n",
       "    </tr>\n",
       "    <tr>\n",
       "      <th>3811262</th>\n",
       "      <td>I&amp;#39;m so fucking excited for 8 o&amp;#39;clock to be here so i can watch the new season of heroes. ... http://lnk.ms/0T608</td>\n",
       "      <td>I'm so fucking excited for 8 o'clock to be here so i can watch the new season of heroes. ... http://lnk.ms/0T608</td>\n",
       "    </tr>\n",
       "  </tbody>\n",
       "</table>\n",
       "<p>3609675 rows × 2 columns</p>\n",
       "</div>"
      ],
      "text/plain": [
       "                                                                                                                             text  \\\n",
       "0                                                                         @thediscovietnam coo.  thanks. just dropped you a line.   \n",
       "1                                                        @thediscovietnam shit it ain't lettin me DM you back, what's your email?   \n",
       "2                                                                      @thediscovietnam hey cody, quick question...can you dm me?   \n",
       "3                                                              @smokinvinyl dang.  you need anything?  I got some left over meds!   \n",
       "4                                          maybe i'm late in the game on this one, but this lowender vst is making my apt rumble!   \n",
       "...                                                                                                                           ...   \n",
       "3811258                                what bees make milk??                                    boobees lol that's a knee slapper   \n",
       "3811259                                                                                                           boredd as tits.   \n",
       "3811260                                                                            oh god heroes tonight, ... http://lnk.ms/0ShgX   \n",
       "3811261                                                                                                            tits i'm bored   \n",
       "3811262  I&#39;m so fucking excited for 8 o&#39;clock to be here so i can watch the new season of heroes. ... http://lnk.ms/0T608   \n",
       "\n",
       "                                                                                                               clean_text  \n",
       "0                                                                 @thediscovietnam coo.  thanks. just dropped you a line.  \n",
       "1                                                @thediscovietnam shit it ain't lettin me DM you back, what's your email?  \n",
       "2                                                              @thediscovietnam hey cody, quick question...can you dm me?  \n",
       "3                                                      @smokinvinyl dang.  you need anything?  I got some left over meds!  \n",
       "4                                  maybe i'm late in the game on this one, but this lowender vst is making my apt rumble!  \n",
       "...                                                                                                                   ...  \n",
       "3811258                        what bees make milk??                                    boobees lol that's a knee slapper  \n",
       "3811259                                                                                                   boredd as tits.  \n",
       "3811260                                                                    oh god heroes tonight, ... http://lnk.ms/0ShgX  \n",
       "3811261                                                                                                    tits i'm bored  \n",
       "3811262  I'm so fucking excited for 8 o'clock to be here so i can watch the new season of heroes. ... http://lnk.ms/0T608  \n",
       "\n",
       "[3609675 rows x 2 columns]"
      ]
     },
     "execution_count": 111,
     "metadata": {},
     "output_type": "execute_result"
    }
   ],
   "source": [
    "df"
   ]
  },
  {
   "cell_type": "code",
   "execution_count": null,
   "metadata": {},
   "outputs": [
    {
     "data": {
      "text/plain": [
       "3599"
      ]
     },
     "execution_count": 130,
     "metadata": {},
     "output_type": "execute_result"
    }
   ],
   "source": [
    "# More emoji \n",
    "def contains_emoji(text):\n",
    "    return emoji.emoji_count(text) > 0 \n",
    "emoji_tweets_mask = df['clean_text'].apply(contains_emoji)\n",
    "emoji_tweets_df = df[emoji_tweets_mask]\n",
    "len(emoji_tweets_df)"
   ]
  },
  {
   "cell_type": "code",
   "execution_count": null,
   "metadata": {},
   "outputs": [
    {
     "data": {
      "text/html": [
       "<div>\n",
       "<style scoped>\n",
       "    .dataframe tbody tr th:only-of-type {\n",
       "        vertical-align: middle;\n",
       "    }\n",
       "\n",
       "    .dataframe tbody tr th {\n",
       "        vertical-align: top;\n",
       "    }\n",
       "\n",
       "    .dataframe thead th {\n",
       "        text-align: right;\n",
       "    }\n",
       "</style>\n",
       "<table border=\"1\" class=\"dataframe\">\n",
       "  <thead>\n",
       "    <tr style=\"text-align: right;\">\n",
       "      <th></th>\n",
       "      <th>text</th>\n",
       "      <th>clean_text</th>\n",
       "    </tr>\n",
       "  </thead>\n",
       "  <tbody>\n",
       "    <tr>\n",
       "      <th>5746</th>\n",
       "      <td>He Said WHAT?! Obama Has Never Used Twitter | DISGRASIAN™ http://tinyurl.com/y9knba2</td>\n",
       "      <td>He Said WHAT?! Obama Has Never Used Twitter | DISGRASIAN™ http://tinyurl.com/y9knba2</td>\n",
       "    </tr>\n",
       "    <tr>\n",
       "      <th>6913</th>\n",
       "      <td>@CapnWiley Oh nice. Mine's a UNIVERSAL® remote.</td>\n",
       "      <td>@CapnWiley Oh nice. Mine's a UNIVERSAL® remote.</td>\n",
       "    </tr>\n",
       "    <tr>\n",
       "      <th>14009</th>\n",
       "      <td>Cannery Casino Resorts Raises &gt; $20,000 for Breast Cancer Research Foundation® for Breast Cancer Awareness Month. PR: http://bit.ly/43YU0u</td>\n",
       "      <td>Cannery Casino Resorts Raises &gt; $20,000 for Breast Cancer Research Foundation® for Breast Cancer Awareness Month. PR: http://bit.ly/43YU0u</td>\n",
       "    </tr>\n",
       "    <tr>\n",
       "      <th>15083</th>\n",
       "      <td>RT @SandyMorris: \"We must not promise what we ought not, lest we be called on to perform what we cannot.\" © Abraham Lincoln. .</td>\n",
       "      <td>RT @SandyMorris: \"We must not promise what we ought not, lest we be called on to perform what we cannot.\" © Abraham Lincoln. .</td>\n",
       "    </tr>\n",
       "    <tr>\n",
       "      <th>17379</th>\n",
       "      <td>Went to bed grindin. Woke up hustlin. © @industrygroup</td>\n",
       "      <td>Went to bed grindin. Woke up hustlin. © @industrygroup</td>\n",
       "    </tr>\n",
       "    <tr>\n",
       "      <th>...</th>\n",
       "      <td>...</td>\n",
       "      <td>...</td>\n",
       "    </tr>\n",
       "    <tr>\n",
       "      <th>3809794</th>\n",
       "      <td>@zfarha Wish you could join us!! Consider it a warm up for Pie Night II™ when you visit in Oct.</td>\n",
       "      <td>@zfarha Wish you could join us!! Consider it a warm up for Pie Night II™ when you visit in Oct.</td>\n",
       "    </tr>\n",
       "    <tr>\n",
       "      <th>3811037</th>\n",
       "      <td>Innovation Strong Despite Recession: Human Resource Executive® Magazine Receives Record Number of Ent.. http://bit.ly/19GzoX  #tradeshow</td>\n",
       "      <td>Innovation Strong Despite Recession: Human Resource Executive® Magazine Receives Record Number of Ent.. http://bit.ly/19GzoX  #tradeshow</td>\n",
       "    </tr>\n",
       "    <tr>\n",
       "      <th>3811045</th>\n",
       "      <td>TimeSight Systems™ Announces Next-Generation Platform for Intelligent Network Video Recorders w.. http://bit.ly/1Dkuwf  #tradeshow</td>\n",
       "      <td>TimeSight Systems™ Announces Next-Generation Platform for Intelligent Network Video Recorders w.. http://bit.ly/1Dkuwf  #tradeshow</td>\n",
       "    </tr>\n",
       "    <tr>\n",
       "      <th>3811046</th>\n",
       "      <td>TimeSight Systems™ Receives Lenel Factory Certification http://bit.ly/Hb4Z1  #tradeshow</td>\n",
       "      <td>TimeSight Systems™ Receives Lenel Factory Certification http://bit.ly/Hb4Z1  #tradeshow</td>\n",
       "    </tr>\n",
       "    <tr>\n",
       "      <th>3811048</th>\n",
       "      <td>GVI Security Solutions to Introduce AutoIP™ VMS and Industry Leading Samsung Electronics 43X Zo.. http://bit.ly/GpUa6  #tradeshow</td>\n",
       "      <td>GVI Security Solutions to Introduce AutoIP™ VMS and Industry Leading Samsung Electronics 43X Zo.. http://bit.ly/GpUa6  #tradeshow</td>\n",
       "    </tr>\n",
       "  </tbody>\n",
       "</table>\n",
       "<p>3599 rows × 2 columns</p>\n",
       "</div>"
      ],
      "text/plain": [
       "                                                                                                                                               text  \\\n",
       "5746                                                           He Said WHAT?! Obama Has Never Used Twitter | DISGRASIAN™ http://tinyurl.com/y9knba2   \n",
       "6913                                                                                                @CapnWiley Oh nice. Mine's a UNIVERSAL® remote.   \n",
       "14009    Cannery Casino Resorts Raises > $20,000 for Breast Cancer Research Foundation® for Breast Cancer Awareness Month. PR: http://bit.ly/43YU0u   \n",
       "15083                RT @SandyMorris: \"We must not promise what we ought not, lest we be called on to perform what we cannot.\" © Abraham Lincoln. .   \n",
       "17379                                                                                        Went to bed grindin. Woke up hustlin. © @industrygroup   \n",
       "...                                                                                                                                             ...   \n",
       "3809794                                             @zfarha Wish you could join us!! Consider it a warm up for Pie Night II™ when you visit in Oct.   \n",
       "3811037    Innovation Strong Despite Recession: Human Resource Executive® Magazine Receives Record Number of Ent.. http://bit.ly/19GzoX  #tradeshow   \n",
       "3811045          TimeSight Systems™ Announces Next-Generation Platform for Intelligent Network Video Recorders w.. http://bit.ly/1Dkuwf  #tradeshow   \n",
       "3811046                                                     TimeSight Systems™ Receives Lenel Factory Certification http://bit.ly/Hb4Z1  #tradeshow   \n",
       "3811048           GVI Security Solutions to Introduce AutoIP™ VMS and Industry Leading Samsung Electronics 43X Zo.. http://bit.ly/GpUa6  #tradeshow   \n",
       "\n",
       "                                                                                                                                         clean_text  \n",
       "5746                                                           He Said WHAT?! Obama Has Never Used Twitter | DISGRASIAN™ http://tinyurl.com/y9knba2  \n",
       "6913                                                                                                @CapnWiley Oh nice. Mine's a UNIVERSAL® remote.  \n",
       "14009    Cannery Casino Resorts Raises > $20,000 for Breast Cancer Research Foundation® for Breast Cancer Awareness Month. PR: http://bit.ly/43YU0u  \n",
       "15083                RT @SandyMorris: \"We must not promise what we ought not, lest we be called on to perform what we cannot.\" © Abraham Lincoln. .  \n",
       "17379                                                                                        Went to bed grindin. Woke up hustlin. © @industrygroup  \n",
       "...                                                                                                                                             ...  \n",
       "3809794                                             @zfarha Wish you could join us!! Consider it a warm up for Pie Night II™ when you visit in Oct.  \n",
       "3811037    Innovation Strong Despite Recession: Human Resource Executive® Magazine Receives Record Number of Ent.. http://bit.ly/19GzoX  #tradeshow  \n",
       "3811045          TimeSight Systems™ Announces Next-Generation Platform for Intelligent Network Video Recorders w.. http://bit.ly/1Dkuwf  #tradeshow  \n",
       "3811046                                                     TimeSight Systems™ Receives Lenel Factory Certification http://bit.ly/Hb4Z1  #tradeshow  \n",
       "3811048           GVI Security Solutions to Introduce AutoIP™ VMS and Industry Leading Samsung Electronics 43X Zo.. http://bit.ly/GpUa6  #tradeshow  \n",
       "\n",
       "[3599 rows x 2 columns]"
      ]
     },
     "execution_count": 131,
     "metadata": {},
     "output_type": "execute_result"
    }
   ],
   "source": [
    "emoji_tweets_df"
   ]
  },
  {
   "cell_type": "code",
   "execution_count": null,
   "metadata": {},
   "outputs": [
    {
     "data": {
      "text/plain": [
       "Token(chars='™', value=EmojiMatch(™, 42:43))"
      ]
     },
     "execution_count": 133,
     "metadata": {},
     "output_type": "execute_result"
    }
   ],
   "source": [
    "next(emoji.analyze('GVI Security Solutions to Introduce AutoIP™ VMS and Industry Leading Samsung Electronics 43X Zo.. http://bit.ly/GpUa6 #tradeshow'))"
   ]
  },
  {
   "cell_type": "code",
   "execution_count": null,
   "metadata": {},
   "outputs": [
    {
     "data": {
      "text/plain": [
       "1332533        President of Attorneysâ€™ Title Guaranty Fund Elected to Board of Governors at American Land Title Associ.. http://bit.ly/7CLPVG\n",
       "2132451    @foryourlaw Check out ID Safe™ -- an all new proprietary document management system for handling medical records http://bit.ly/NfPf5\n",
       "3247513                                                   watching A Cinderella Story :). Chad MM Yummy ;) This film gets me every time haha x♥\n",
       "621987                    Call for Entries: RSA® Conference 2010 Innovation Sandbox  http://bizwire.pr/9dYSN #RSA #conference #tradeshow #event\n",
       "545389                                                                        Dog Attacks Shark! « IN® Pet Supplement Blog http://bit.ly/6bjDiK\n",
       "Name: clean_text, dtype: object"
      ]
     },
     "execution_count": 150,
     "metadata": {},
     "output_type": "execute_result"
    }
   ],
   "source": [
    "random_five_rows = emoji_tweets_df.sample(n=5)\n",
    "random_five_rows['clean_text']"
   ]
  },
  {
   "cell_type": "code",
   "execution_count": null,
   "metadata": {},
   "outputs": [
    {
     "data": {
      "image/png": "[encoded data removed]",
      "text/plain": [
       "<Figure size 1000x600 with 1 Axes>"
      ]
     },
     "metadata": {},
     "output_type": "display_data"
    }
   ],
   "source": [
    "# Nice to know what emojies we have\n",
    "emoji_freq_counter = Counter()\n",
    "for index, row in emoji_tweets_df.iterrows():\n",
    "     result = list(emoji.analyze(row['clean_text']))\n",
    "     for item in result:\n",
    "          emoji_freq_counter.update(item.chars)\n",
    "\n",
    "plt.figure(figsize=(10, 6))\n",
    "plt.bar(emoji_freq_counter.keys(), emoji_freq_counter.values(), color='skyblue')\n",
    "plt.xlabel('Emoji')\n",
    "plt.ylabel('Frequency')\n",
    "plt.title('Emoji Frequencies')\n",
    "plt.xticks(rotation=90)  # Rotate x-axis labels for better readability\n",
    "plt.tight_layout()\n",
    "plt.show()"
   ]
  },
  {
   "cell_type": "code",
   "execution_count": null,
   "metadata": {},
   "outputs": [
    {
     "name": "stdout",
     "output_type": "stream",
     "text": [
      "Organically grown oranges have up to 30% more vitamin C than those grown conventionally -Neil Lavin #food #nutrition\n",
      "Local youth from Tampa, FL-- Casero & Santiago are organizing a street team, for more info send us a comment or mes ... http://lnk.ms/33rst\n",
      "No Droid For Me, #iPhone Is The PC Of Smartphones (@PCWorld) http://viigo.im/1pS1\n",
      "@TeamXero that's good to hear - what about the discount for multiple organisations being cut from 50% to 25% ?\n",
      "@Mister_Turtle Gotta love those Snuggies!\n",
      "Shopping at Walmart...now I realize why they invented suicide.\n",
      "Traffic sucks and there's a dog walking on the freeway...\n",
      "RT @bikehugger visits @globebikes http://www.flickr.com/photos/huggerindustries/sets/72157622231411001/\n",
      "@RozSheffield I think its about time you covered up then Rozzy :P x\n",
      "Northwest Reverb: Charles Noble gives a glimpse into orchestra ... http://bit.ly/YERRj\n"
     ]
    }
   ],
   "source": [
    "# This part is testing OpenAI API with many sentences and establish the right prompt to start a test\n",
    "random_five_rows = df.sample(n=10)\n",
    "msgs = random_five_rows['clean_text'].tolist()\n",
    "for msg in msgs:\n",
    "    print(msg)"
   ]
  },
  {
   "cell_type": "code",
   "execution_count": null,
   "metadata": {},
   "outputs": [],
   "source": [
    "# Esablished a promt for GTPT-3.5 and i'm happy - moving to classify my ds"
   ]
  },
  {
   "cell_type": "code",
   "execution_count": null,
   "metadata": {},
   "outputs": [],
   "source": [
    "df.to_csv('../data/clean_train_tweets.csv', index=True)"
   ]
  },
  {
   "cell_type": "code",
   "execution_count": null,
   "metadata": {},
   "outputs": [],
   "source": [
    "# system promt: You are a sophisticated tool developed for scrutinizing Twitter messages. Your primary responsibility is to identify and correct spelling and grammar mistakes within these messages. Although Twitter is known for its informal language and slang, your objective includes distinguishing between acceptable informal expressions and actual spelling or grammatical inaccuracies. This means contractions should be used correctly (e.g., \"I'm\" instead of \"im\"), and verbs should be in their proper form (e.g., \"making\" instead of \"makin\"), even in the midst of slang or informal contexts. Your analysis should bypass the slang itself unless it directly leads to a spelling or grammatical mistake. Upon reviewing a message, respond with \"yes\" if it adheres to standard spelling and grammar rules, considering the nuances of Twitter's informal communication. If any errors are present, reply with \"no\" and concisely specify each error found, emphasizing solely the spelling and grammatical issues without critiquing the informal or slang usage, unless it constitutes an error in spelling or grammar."
   ]
  },
  {
   "cell_type": "code",
   "execution_count": null,
   "metadata": {},
   "outputs": [],
   "source": [
    "# continue to ds_classification folder"
   ]
  }
 ],
 "metadata": {
  "kernelspec": {
   "display_name": "x_grammar_spelling",
   "language": "python",
   "name": "python3"
  },
  "language_info": {
   "codemirror_mode": {
    "name": "ipython",
    "version": 3
   },
   "file_extension": ".py",
   "mimetype": "text/x-python",
   "name": "python",
   "nbconvert_exporter": "python",
   "pygments_lexer": "ipython3",
   "version": "3.11.8"
  }
 },
 "nbformat": 4,
 "nbformat_minor": 2
}
