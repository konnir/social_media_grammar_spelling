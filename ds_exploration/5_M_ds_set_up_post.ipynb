{
 "cells": [
  {
   "cell_type": "markdown",
   "metadata": {},
   "source": [
    "# Need more work on the data set (saw in later stage and came back to fix)"
   ]
  },
  {
   "cell_type": "code",
   "execution_count": 2,
   "metadata": {},
   "outputs": [],
   "source": [
    "import pandas as pd"
   ]
  },
  {
   "cell_type": "code",
   "execution_count": 3,
   "metadata": {},
   "outputs": [
    {
     "data": {
      "text/html": [
       "<div>\n",
       "<style scoped>\n",
       "    .dataframe tbody tr th:only-of-type {\n",
       "        vertical-align: middle;\n",
       "    }\n",
       "\n",
       "    .dataframe tbody tr th {\n",
       "        vertical-align: top;\n",
       "    }\n",
       "\n",
       "    .dataframe thead th {\n",
       "        text-align: right;\n",
       "    }\n",
       "</style>\n",
       "<table border=\"1\" class=\"dataframe\">\n",
       "  <thead>\n",
       "    <tr style=\"text-align: right;\">\n",
       "      <th></th>\n",
       "      <th>Unnamed: 0</th>\n",
       "      <th>text</th>\n",
       "      <th>clean_text</th>\n",
       "    </tr>\n",
       "  </thead>\n",
       "  <tbody>\n",
       "    <tr>\n",
       "      <th>0</th>\n",
       "      <td>0</td>\n",
       "      <td>@thediscovietnam coo.  thanks. just dropped yo...</td>\n",
       "      <td>@thediscovietnam coo.  thanks. just dropped yo...</td>\n",
       "    </tr>\n",
       "    <tr>\n",
       "      <th>1</th>\n",
       "      <td>1</td>\n",
       "      <td>@thediscovietnam shit it ain't lettin me DM yo...</td>\n",
       "      <td>@thediscovietnam shit it ain't lettin me DM yo...</td>\n",
       "    </tr>\n",
       "    <tr>\n",
       "      <th>2</th>\n",
       "      <td>2</td>\n",
       "      <td>@thediscovietnam hey cody, quick question...ca...</td>\n",
       "      <td>@thediscovietnam hey cody, quick question...ca...</td>\n",
       "    </tr>\n",
       "    <tr>\n",
       "      <th>3</th>\n",
       "      <td>3</td>\n",
       "      <td>@smokinvinyl dang.  you need anything?  I got ...</td>\n",
       "      <td>@smokinvinyl dang.  you need anything?  I got ...</td>\n",
       "    </tr>\n",
       "    <tr>\n",
       "      <th>4</th>\n",
       "      <td>4</td>\n",
       "      <td>maybe i'm late in the game on this one, but th...</td>\n",
       "      <td>maybe i'm late in the game on this one, but th...</td>\n",
       "    </tr>\n",
       "    <tr>\n",
       "      <th>...</th>\n",
       "      <td>...</td>\n",
       "      <td>...</td>\n",
       "      <td>...</td>\n",
       "    </tr>\n",
       "    <tr>\n",
       "      <th>3609670</th>\n",
       "      <td>3811258</td>\n",
       "      <td>what bees make milk??                         ...</td>\n",
       "      <td>what bees make milk??                         ...</td>\n",
       "    </tr>\n",
       "    <tr>\n",
       "      <th>3609671</th>\n",
       "      <td>3811259</td>\n",
       "      <td>boredd as tits.</td>\n",
       "      <td>boredd as tits.</td>\n",
       "    </tr>\n",
       "    <tr>\n",
       "      <th>3609672</th>\n",
       "      <td>3811260</td>\n",
       "      <td>oh god heroes tonight, ... http://lnk.ms/0ShgX</td>\n",
       "      <td>oh god heroes tonight, ... http://lnk.ms/0ShgX</td>\n",
       "    </tr>\n",
       "    <tr>\n",
       "      <th>3609673</th>\n",
       "      <td>3811261</td>\n",
       "      <td>tits i'm bored</td>\n",
       "      <td>tits i'm bored</td>\n",
       "    </tr>\n",
       "    <tr>\n",
       "      <th>3609674</th>\n",
       "      <td>3811262</td>\n",
       "      <td>I&amp;#39;m so fucking excited for 8 o&amp;#39;clock t...</td>\n",
       "      <td>I'm so fucking excited for 8 o'clock to be her...</td>\n",
       "    </tr>\n",
       "  </tbody>\n",
       "</table>\n",
       "<p>3609675 rows × 3 columns</p>\n",
       "</div>"
      ],
      "text/plain": [
       "         Unnamed: 0                                               text  \\\n",
       "0                 0  @thediscovietnam coo.  thanks. just dropped yo...   \n",
       "1                 1  @thediscovietnam shit it ain't lettin me DM yo...   \n",
       "2                 2  @thediscovietnam hey cody, quick question...ca...   \n",
       "3                 3  @smokinvinyl dang.  you need anything?  I got ...   \n",
       "4                 4  maybe i'm late in the game on this one, but th...   \n",
       "...             ...                                                ...   \n",
       "3609670     3811258  what bees make milk??                         ...   \n",
       "3609671     3811259                                    boredd as tits.   \n",
       "3609672     3811260     oh god heroes tonight, ... http://lnk.ms/0ShgX   \n",
       "3609673     3811261                                     tits i'm bored   \n",
       "3609674     3811262  I&#39;m so fucking excited for 8 o&#39;clock t...   \n",
       "\n",
       "                                                clean_text  \n",
       "0        @thediscovietnam coo.  thanks. just dropped yo...  \n",
       "1        @thediscovietnam shit it ain't lettin me DM yo...  \n",
       "2        @thediscovietnam hey cody, quick question...ca...  \n",
       "3        @smokinvinyl dang.  you need anything?  I got ...  \n",
       "4        maybe i'm late in the game on this one, but th...  \n",
       "...                                                    ...  \n",
       "3609670  what bees make milk??                         ...  \n",
       "3609671                                    boredd as tits.  \n",
       "3609672     oh god heroes tonight, ... http://lnk.ms/0ShgX  \n",
       "3609673                                     tits i'm bored  \n",
       "3609674  I'm so fucking excited for 8 o'clock to be her...  \n",
       "\n",
       "[3609675 rows x 3 columns]"
      ]
     },
     "execution_count": 3,
     "metadata": {},
     "output_type": "execute_result"
    }
   ],
   "source": [
    "# laod the df\n",
    "file_path = '../data/clean_train_tweets.csv'\n",
    "df = pd.read_csv(file_path)\n",
    "df"
   ]
  },
  {
   "cell_type": "code",
   "execution_count": 4,
   "metadata": {},
   "outputs": [
    {
     "data": {
      "text/plain": [
       "1587"
      ]
     },
     "execution_count": 4,
     "metadata": {},
     "output_type": "execute_result"
    }
   ],
   "source": [
    "# clean_text - have to remove: @ only, singel url\n",
    "condition = df['clean_text'].str.strip().str.startswith('@') & ~df['clean_text'].str.strip().str.contains(' ')\n",
    "at_only_df = df[condition]\n",
    "len(at_only_df)"
   ]
  },
  {
   "cell_type": "code",
   "execution_count": 5,
   "metadata": {},
   "outputs": [
    {
     "data": {
      "text/html": [
       "<div>\n",
       "<style scoped>\n",
       "    .dataframe tbody tr th:only-of-type {\n",
       "        vertical-align: middle;\n",
       "    }\n",
       "\n",
       "    .dataframe tbody tr th {\n",
       "        vertical-align: top;\n",
       "    }\n",
       "\n",
       "    .dataframe thead th {\n",
       "        text-align: right;\n",
       "    }\n",
       "</style>\n",
       "<table border=\"1\" class=\"dataframe\">\n",
       "  <thead>\n",
       "    <tr style=\"text-align: right;\">\n",
       "      <th></th>\n",
       "      <th>Unnamed: 0</th>\n",
       "      <th>text</th>\n",
       "      <th>clean_text</th>\n",
       "    </tr>\n",
       "  </thead>\n",
       "  <tbody>\n",
       "    <tr>\n",
       "      <th>2111545</th>\n",
       "      <td>2247216</td>\n",
       "      <td>@PrayForAidan</td>\n",
       "      <td>@PrayForAidan</td>\n",
       "    </tr>\n",
       "    <tr>\n",
       "      <th>780159</th>\n",
       "      <td>823375</td>\n",
       "      <td>@reply</td>\n",
       "      <td>@reply</td>\n",
       "    </tr>\n",
       "    <tr>\n",
       "      <th>1243248</th>\n",
       "      <td>1316989</td>\n",
       "      <td>@ryanbiddulph</td>\n",
       "      <td>@ryanbiddulph</td>\n",
       "    </tr>\n",
       "    <tr>\n",
       "      <th>1361113</th>\n",
       "      <td>1442558</td>\n",
       "      <td>@dionprimo</td>\n",
       "      <td>@dionprimo</td>\n",
       "    </tr>\n",
       "    <tr>\n",
       "      <th>77543</th>\n",
       "      <td>81144</td>\n",
       "      <td>@BrendanQ</td>\n",
       "      <td>@BrendanQ</td>\n",
       "    </tr>\n",
       "  </tbody>\n",
       "</table>\n",
       "</div>"
      ],
      "text/plain": [
       "         Unnamed: 0            text      clean_text\n",
       "2111545     2247216  @PrayForAidan   @PrayForAidan \n",
       "780159       823375          @reply          @reply\n",
       "1243248     1316989  @ryanbiddulph   @ryanbiddulph \n",
       "1361113     1442558      @dionprimo      @dionprimo\n",
       "77543         81144       @BrendanQ       @BrendanQ"
      ]
     },
     "execution_count": 5,
     "metadata": {},
     "output_type": "execute_result"
    }
   ],
   "source": [
    "at_only_df.sample(5)"
   ]
  },
  {
   "cell_type": "code",
   "execution_count": 6,
   "metadata": {},
   "outputs": [],
   "source": [
    "# Remove only @att, no need for calssfier here (it will be handled in the pre-process and no need to call model)\n",
    "df = df[~condition]"
   ]
  },
  {
   "cell_type": "code",
   "execution_count": 7,
   "metadata": {},
   "outputs": [],
   "source": [
    "df.to_csv('../data/clean_train_tweets.csv', index=True)"
   ]
  },
  {
   "cell_type": "code",
   "execution_count": null,
   "metadata": {},
   "outputs": [],
   "source": []
  }
 ],
 "metadata": {
  "kernelspec": {
   "display_name": "x_grammar_spelling",
   "language": "python",
   "name": "python3"
  },
  "language_info": {
   "codemirror_mode": {
    "name": "ipython",
    "version": 3
   },
   "file_extension": ".py",
   "mimetype": "text/x-python",
   "name": "python",
   "nbconvert_exporter": "python",
   "pygments_lexer": "ipython3",
   "version": "3.11.8"
  }
 },
 "nbformat": 4,
 "nbformat_minor": 2
}
